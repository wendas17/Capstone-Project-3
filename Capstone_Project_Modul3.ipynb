{
 "cells": [
  {
   "cell_type": "code",
   "execution_count": 1,
   "metadata": {},
   "outputs": [
    {
     "name": "stdout",
     "output_type": "stream",
     "text": [
      "Requirement already satisfied: category_encoders in c:\\users\\wenda\\anaconda3\\lib\\site-packages (2.6.3)\n",
      "Requirement already satisfied: numpy>=1.14.0 in c:\\users\\wenda\\anaconda3\\lib\\site-packages (from category_encoders) (1.26.4)\n",
      "Requirement already satisfied: scikit-learn>=0.20.0 in c:\\users\\wenda\\anaconda3\\lib\\site-packages (from category_encoders) (1.2.2)\n",
      "Requirement already satisfied: scipy>=1.0.0 in c:\\users\\wenda\\anaconda3\\lib\\site-packages (from category_encoders) (1.11.4)\n",
      "Requirement already satisfied: statsmodels>=0.9.0 in c:\\users\\wenda\\anaconda3\\lib\\site-packages (from category_encoders) (0.14.0)\n",
      "Requirement already satisfied: pandas>=1.0.5 in c:\\users\\wenda\\anaconda3\\lib\\site-packages (from category_encoders) (2.1.4)\n",
      "Requirement already satisfied: patsy>=0.5.1 in c:\\users\\wenda\\anaconda3\\lib\\site-packages (from category_encoders) (0.5.3)\n",
      "Requirement already satisfied: python-dateutil>=2.8.2 in c:\\users\\wenda\\anaconda3\\lib\\site-packages (from pandas>=1.0.5->category_encoders) (2.8.2)\n",
      "Requirement already satisfied: pytz>=2020.1 in c:\\users\\wenda\\anaconda3\\lib\\site-packages (from pandas>=1.0.5->category_encoders) (2023.3.post1)\n",
      "Requirement already satisfied: tzdata>=2022.1 in c:\\users\\wenda\\anaconda3\\lib\\site-packages (from pandas>=1.0.5->category_encoders) (2023.3)\n",
      "Requirement already satisfied: six in c:\\users\\wenda\\anaconda3\\lib\\site-packages (from patsy>=0.5.1->category_encoders) (1.16.0)\n",
      "Requirement already satisfied: joblib>=1.1.1 in c:\\users\\wenda\\anaconda3\\lib\\site-packages (from scikit-learn>=0.20.0->category_encoders) (1.2.0)\n",
      "Requirement already satisfied: threadpoolctl>=2.0.0 in c:\\users\\wenda\\anaconda3\\lib\\site-packages (from scikit-learn>=0.20.0->category_encoders) (2.2.0)\n",
      "Requirement already satisfied: packaging>=21.3 in c:\\users\\wenda\\anaconda3\\lib\\site-packages (from statsmodels>=0.9.0->category_encoders) (23.1)\n",
      "Note: you may need to restart the kernel to use updated packages.\n"
     ]
    }
   ],
   "source": [
    "%pip install category_encoders"
   ]
  },
  {
   "cell_type": "code",
   "execution_count": 2,
   "metadata": {},
   "outputs": [],
   "source": [
    "import numpy as np\n",
    "import pandas as pd\n",
    "import matplotlib.pyplot as plt\n",
    "import seaborn as sns\n",
    "\n",
    "# data prep\n",
    "from sklearn.model_selection import train_test_split,cross_val_score,StratifiedKFold,GridSearchCV\n",
    "from sklearn.preprocessing import MinMaxScaler, RobustScaler, OneHotEncoder, StandardScaler\n",
    "from category_encoders import BinaryEncoder\n",
    "from sklearn.compose import ColumnTransformer\n",
    "from sklearn.pipeline import Pipeline\n",
    "import category_encoders as ce\n",
    "\n",
    "\n",
    "# model\n",
    "from sklearn.linear_model import LogisticRegression\n",
    "from sklearn.tree import DecisionTreeClassifier\n",
    "from sklearn.neighbors import KNeighborsClassifier\n",
    "from sklearn.ensemble import RandomForestClassifier, VotingClassifier, StackingClassifier, GradientBoostingClassifier\n",
    "from xgboost import XGBClassifier\n",
    "# Ignore Warning\n",
    "import sys\n",
    "import warnings\n",
    "if not sys.warnoptions:\n",
    "    warnings.simplefilter(\"ignore\")\n",
    "\n",
    "# Set max columns\n",
    "pd.set_option('display.max_columns', None)\n",
    "# evaluation\n",
    "from sklearn.metrics import classification_report, confusion_matrix, f1_score, recall_score, precision_score"
   ]
  },
  {
   "cell_type": "markdown",
   "metadata": {},
   "source": [
    "# Business Problem Understanding"
   ]
  },
  {
   "cell_type": "markdown",
   "metadata": {},
   "source": [
    "**Context**  \n",
    "\n",
    "[Sistem bisnis suatu bank](https://www.finpedia.id/info-keuangan/bisnis/sistem-proses-kerja-bank) yaitu menghimpun dana dari nasabah kemudian dikelola bank dengan meminjamkan lagi ke nasabah lain, investasi dan kegiatan operasional lainnya yang menghasilkan keuntungan.Salah satu produk keuangan bank menghimpun dana yaitu deposito berjangka. Mekanisme deposito berjangka adalah nasabah menyetor sejumlah uang di bank atau lembaga keuangan, dan uang tersebut hanya dapat ditarik setelah jangka waktu tertentu. Sebagai kompensasi, nasabah akan diberikan bunga tetap sesuai dengan jumlah nominal uang yang disetorkan. Dengan memiliki dana  yang terkunci dalam waktu tertentu bank dapat mengelola resiko likuiditas dengan lebih baik dan menjaga stabilitas keuangan mereka. \n",
    "\n",
    "Dengan semakin tingginya persaingan antar bank dalam menghimpun dana nasabah, selain mempertahankan nasabah lama maka bank juga membutuhkan kampanye pemasaran untuk menarik nasabah baru dengan menawarkan produk deposito berjangka. Salah satu cara pemasaran yang dilakukan adalah dengan menghubungi secara langsung melalui telepon/ seluler untuk  penawaran produk deposito. Akan tetapi, tidak semua nasabah tertarik untuk melakukan deposito sehingga terkadang biaya marketing yang dikeluarkan menjadi sia-sia.\n",
    "\n",
    "Tim marketing ingin mengetahui nasabah mana yang berpotensi melakukan deposito sehingga dapat memaksimalkan pendapatan dari deposito dan meminimalisir biaya yang diperlukan untuk marketing."
   ]
  },
  {
   "cell_type": "markdown",
   "metadata": {},
   "source": [
    "**Problem Statement :**\n",
    "Tantangan utama adalah membangun model yang membantu bank memprediksi pelanggan mana yang kemungkinan besar akan berlangganan deposito berjangka setelah kampanye pemasaran. Tujuannya adalah untuk mengurangi biaya perekrutan sambil meminimalkan risiko kehilangan calon nasabah potensial dengan fokus pada penargetan yang lebih tepat \n",
    "\n",
    "\n",
    "**Goals :** \n",
    "\n",
    "Maka berdasarkan permasalahan tersebut, perusahaan ingin memiliki kemampuan untuk memprediksi kemungkinan seorang nasabah akan/ingin menggunakan deposito berjangka tersebut atau tidak, sehingga dapat memfokuskan pemasaran pada nasabah yang tepat sasaran.\n",
    "\n",
    "Dan juga, perusahaan ingin mengetahui apa/faktor/variabel apa yang membuat seorang nasabah tertarik atau tidak, sehingga mereka dapat membuat rencana yang lebih baik dalam mendekati nasabah potensial.\n",
    "\n",
    "Saat dilakukan pengecekan hanya menggunakan rule based sederhana (Hanya dua fitur) akurasinya mencapai 38%. Maka diharapkan dengan model ML harus lebih baik dibandingkan hanya sekedar menggunakan rule based sederhana\n",
    "\n",
    "**Analytic Approach :**\n",
    "\n",
    "Jadi yang akan kita lakukan adalah menganalisis data untuk menemukan pola yang membedakan nasabah yang tertarik  denhgan produk deposito berjangka dan yang tidak tertarik.\n",
    "\n",
    "Kemudian kita akan membangun model klasifikasi yang akan membantu perusahaan untuk dapat memprediksi probabilitas seorang nasabah akan/ingin menggunakan produk deposito tersebut atau tidak."
   ]
  },
  {
   "cell_type": "markdown",
   "metadata": {},
   "source": [
    "**Metric Evaluation**"
   ]
  },
  {
   "cell_type": "markdown",
   "metadata": {},
   "source": [
    "Sasaran analisis adalah sebagai berikut: \n",
    "\n",
    "0: Tidak (Tidak tertarik dengan deposito) \n",
    "\n",
    "1: Ya (Tertarik membuka rekening deposito)\n",
    "\n",
    "Type 1 error : False Positive  \n",
    "Definisi : Model memprediksi ada nasabah tertarik tapi tidak melakukan deposito.\n",
    "Konsekuensi: sia-sianya biaya pemasaran, waktu dan sumber daya \n",
    "Contoh perhitungan: Jika biaya untuk menghubungi satu nasabah adalah 15 dolar, maka kerugian adalah: `270×15=4050 dolar\n",
    "\n",
    "Type 2 error : False Negative  \n",
    "Definisi : Nasabah masuk kategori yang terlewatkan tapi berniat melakukan deposito.\n",
    "Konsekuensi: kehilangan calon potensial.\n",
    "Contoh perhitungan: Jika satu nasabah yang melakukan deposito 300 dolar , maka potensi dana nasabah yang dilewatkan adalah:`285×300=85,300 dolar.`\n",
    "\n",
    "Berdasarkan konsekuensinya, maka sebisa mungkin yang akan kita lakukan adalah membuat model yang dapat mengurangi cost pemasaran dari perusahaan tersebut, tetapi tanpa membuat menjadi kurangnya/tidak cukup kandidat potensial yang dibutuhkan perusahaan. Jadi kita ingin sebanyak mungkin prediksi kelas positif yang benar, dengan sesedikit mungkin prediksi false positive. Jadi nanti metric utama yang akan kita gunakan adalah f1 score"
   ]
  },
  {
   "cell_type": "markdown",
   "metadata": {},
   "source": [
    "# Data Understanding"
   ]
  },
  {
   "cell_type": "markdown",
   "metadata": {},
   "source": [
    "Dataset ini berisi informasi tentang profil pelanggan untuk kampanye pemasaran produk Bank,Deposito berjangka. Ada 11 kolom dan 7813 entri di dalam dataset Bank Marketing Campaign, yaitu:\n",
    "* age: umur\n",
    "* job : pekerjaan\n",
    "* balance : saldo\n",
    "* housing : perumahan\n",
    "* loan  :pinjaman\n",
    "* contact: Jenis komunikasi kontak.\n",
    "* month: Bulan kontak terakhir dalam setahun.\n",
    "* campaign: Jumlah kontak yang dilakukan selama kampanye ini dan untuk klien ini.\n",
    "* pdays: Jumlah hari setelah klien dihubungi dari kampanye sebelumnya.\n",
    "* poutcome: Hasil dari kampanye pemasaran sebelumnya.\n",
    "*\tdeposit: Apakah pelanggan menyetor atau tidak.\n"
   ]
  },
  {
   "cell_type": "code",
   "execution_count": 3,
   "metadata": {},
   "outputs": [
    {
     "data": {
      "text/html": [
       "<div>\n",
       "<style scoped>\n",
       "    .dataframe tbody tr th:only-of-type {\n",
       "        vertical-align: middle;\n",
       "    }\n",
       "\n",
       "    .dataframe tbody tr th {\n",
       "        vertical-align: top;\n",
       "    }\n",
       "\n",
       "    .dataframe thead th {\n",
       "        text-align: right;\n",
       "    }\n",
       "</style>\n",
       "<table border=\"1\" class=\"dataframe\">\n",
       "  <thead>\n",
       "    <tr style=\"text-align: right;\">\n",
       "      <th></th>\n",
       "      <th>age</th>\n",
       "      <th>job</th>\n",
       "      <th>balance</th>\n",
       "      <th>housing</th>\n",
       "      <th>loan</th>\n",
       "      <th>contact</th>\n",
       "      <th>month</th>\n",
       "      <th>campaign</th>\n",
       "      <th>pdays</th>\n",
       "      <th>poutcome</th>\n",
       "      <th>deposit</th>\n",
       "    </tr>\n",
       "  </thead>\n",
       "  <tbody>\n",
       "    <tr>\n",
       "      <th>0</th>\n",
       "      <td>55</td>\n",
       "      <td>admin.</td>\n",
       "      <td>1662</td>\n",
       "      <td>no</td>\n",
       "      <td>no</td>\n",
       "      <td>cellular</td>\n",
       "      <td>jun</td>\n",
       "      <td>2</td>\n",
       "      <td>-1</td>\n",
       "      <td>unknown</td>\n",
       "      <td>yes</td>\n",
       "    </tr>\n",
       "    <tr>\n",
       "      <th>1</th>\n",
       "      <td>39</td>\n",
       "      <td>self-employed</td>\n",
       "      <td>-3058</td>\n",
       "      <td>yes</td>\n",
       "      <td>yes</td>\n",
       "      <td>cellular</td>\n",
       "      <td>apr</td>\n",
       "      <td>3</td>\n",
       "      <td>-1</td>\n",
       "      <td>unknown</td>\n",
       "      <td>yes</td>\n",
       "    </tr>\n",
       "    <tr>\n",
       "      <th>2</th>\n",
       "      <td>51</td>\n",
       "      <td>admin.</td>\n",
       "      <td>3025</td>\n",
       "      <td>no</td>\n",
       "      <td>no</td>\n",
       "      <td>cellular</td>\n",
       "      <td>may</td>\n",
       "      <td>1</td>\n",
       "      <td>352</td>\n",
       "      <td>other</td>\n",
       "      <td>yes</td>\n",
       "    </tr>\n",
       "    <tr>\n",
       "      <th>3</th>\n",
       "      <td>38</td>\n",
       "      <td>services</td>\n",
       "      <td>-87</td>\n",
       "      <td>yes</td>\n",
       "      <td>no</td>\n",
       "      <td>cellular</td>\n",
       "      <td>may</td>\n",
       "      <td>1</td>\n",
       "      <td>-1</td>\n",
       "      <td>unknown</td>\n",
       "      <td>no</td>\n",
       "    </tr>\n",
       "    <tr>\n",
       "      <th>4</th>\n",
       "      <td>36</td>\n",
       "      <td>housemaid</td>\n",
       "      <td>205</td>\n",
       "      <td>yes</td>\n",
       "      <td>no</td>\n",
       "      <td>telephone</td>\n",
       "      <td>nov</td>\n",
       "      <td>4</td>\n",
       "      <td>-1</td>\n",
       "      <td>unknown</td>\n",
       "      <td>no</td>\n",
       "    </tr>\n",
       "    <tr>\n",
       "      <th>...</th>\n",
       "      <td>...</td>\n",
       "      <td>...</td>\n",
       "      <td>...</td>\n",
       "      <td>...</td>\n",
       "      <td>...</td>\n",
       "      <td>...</td>\n",
       "      <td>...</td>\n",
       "      <td>...</td>\n",
       "      <td>...</td>\n",
       "      <td>...</td>\n",
       "      <td>...</td>\n",
       "    </tr>\n",
       "    <tr>\n",
       "      <th>7808</th>\n",
       "      <td>62</td>\n",
       "      <td>housemaid</td>\n",
       "      <td>2</td>\n",
       "      <td>no</td>\n",
       "      <td>no</td>\n",
       "      <td>cellular</td>\n",
       "      <td>nov</td>\n",
       "      <td>1</td>\n",
       "      <td>-1</td>\n",
       "      <td>unknown</td>\n",
       "      <td>yes</td>\n",
       "    </tr>\n",
       "    <tr>\n",
       "      <th>7809</th>\n",
       "      <td>48</td>\n",
       "      <td>housemaid</td>\n",
       "      <td>5473</td>\n",
       "      <td>no</td>\n",
       "      <td>no</td>\n",
       "      <td>cellular</td>\n",
       "      <td>feb</td>\n",
       "      <td>2</td>\n",
       "      <td>184</td>\n",
       "      <td>success</td>\n",
       "      <td>yes</td>\n",
       "    </tr>\n",
       "    <tr>\n",
       "      <th>7810</th>\n",
       "      <td>36</td>\n",
       "      <td>unknown</td>\n",
       "      <td>179</td>\n",
       "      <td>no</td>\n",
       "      <td>no</td>\n",
       "      <td>cellular</td>\n",
       "      <td>aug</td>\n",
       "      <td>8</td>\n",
       "      <td>-1</td>\n",
       "      <td>unknown</td>\n",
       "      <td>no</td>\n",
       "    </tr>\n",
       "    <tr>\n",
       "      <th>7811</th>\n",
       "      <td>31</td>\n",
       "      <td>admin.</td>\n",
       "      <td>54</td>\n",
       "      <td>yes</td>\n",
       "      <td>no</td>\n",
       "      <td>cellular</td>\n",
       "      <td>nov</td>\n",
       "      <td>1</td>\n",
       "      <td>-1</td>\n",
       "      <td>unknown</td>\n",
       "      <td>no</td>\n",
       "    </tr>\n",
       "    <tr>\n",
       "      <th>7812</th>\n",
       "      <td>60</td>\n",
       "      <td>retired</td>\n",
       "      <td>1588</td>\n",
       "      <td>no</td>\n",
       "      <td>no</td>\n",
       "      <td>cellular</td>\n",
       "      <td>oct</td>\n",
       "      <td>1</td>\n",
       "      <td>-1</td>\n",
       "      <td>unknown</td>\n",
       "      <td>yes</td>\n",
       "    </tr>\n",
       "  </tbody>\n",
       "</table>\n",
       "<p>7813 rows × 11 columns</p>\n",
       "</div>"
      ],
      "text/plain": [
       "      age            job  balance housing loan    contact month  campaign  \\\n",
       "0      55         admin.     1662      no   no   cellular   jun         2   \n",
       "1      39  self-employed    -3058     yes  yes   cellular   apr         3   \n",
       "2      51         admin.     3025      no   no   cellular   may         1   \n",
       "3      38       services      -87     yes   no   cellular   may         1   \n",
       "4      36      housemaid      205     yes   no  telephone   nov         4   \n",
       "...   ...            ...      ...     ...  ...        ...   ...       ...   \n",
       "7808   62      housemaid        2      no   no   cellular   nov         1   \n",
       "7809   48      housemaid     5473      no   no   cellular   feb         2   \n",
       "7810   36        unknown      179      no   no   cellular   aug         8   \n",
       "7811   31         admin.       54     yes   no   cellular   nov         1   \n",
       "7812   60        retired     1588      no   no   cellular   oct         1   \n",
       "\n",
       "      pdays poutcome deposit  \n",
       "0        -1  unknown     yes  \n",
       "1        -1  unknown     yes  \n",
       "2       352    other     yes  \n",
       "3        -1  unknown      no  \n",
       "4        -1  unknown      no  \n",
       "...     ...      ...     ...  \n",
       "7808     -1  unknown     yes  \n",
       "7809    184  success     yes  \n",
       "7810     -1  unknown      no  \n",
       "7811     -1  unknown      no  \n",
       "7812     -1  unknown     yes  \n",
       "\n",
       "[7813 rows x 11 columns]"
      ]
     },
     "execution_count": 3,
     "metadata": {},
     "output_type": "execute_result"
    }
   ],
   "source": [
    "data_ori = pd.read_csv('data_bank_marketing_campaign.csv')\n",
    "data_ori"
   ]
  },
  {
   "cell_type": "code",
   "execution_count": 6,
   "metadata": {},
   "outputs": [],
   "source": [
    "# melihat unique data pada masing-masing kolom\n",
    "def Check (x):\n",
    "    Type = []\n",
    "    Count = []\n",
    "    Sample = []\n",
    "    MissVal = []\n",
    "    for i in x.columns:\n",
    "        Sample.append(x[i].unique()[:5])\n",
    "        Count.append(x[i].nunique())\n",
    "        Type.append(x[i].dtype)\n",
    "        MissVal.append(x[i].isna().sum())\n",
    "    check = pd.DataFrame({\n",
    "        'Columns' : data_ori.columns,\n",
    "        'Dtype' : Type,\n",
    "        'Nunique' : Count,\n",
    "        'Missing Value' : MissVal,\n",
    "        'Unique' : Sample\n",
    "    })\n",
    "    return check"
   ]
  },
  {
   "cell_type": "code",
   "execution_count": 7,
   "metadata": {},
   "outputs": [
    {
     "data": {
      "text/html": [
       "<div>\n",
       "<style scoped>\n",
       "    .dataframe tbody tr th:only-of-type {\n",
       "        vertical-align: middle;\n",
       "    }\n",
       "\n",
       "    .dataframe tbody tr th {\n",
       "        vertical-align: top;\n",
       "    }\n",
       "\n",
       "    .dataframe thead th {\n",
       "        text-align: right;\n",
       "    }\n",
       "</style>\n",
       "<table border=\"1\" class=\"dataframe\">\n",
       "  <thead>\n",
       "    <tr style=\"text-align: right;\">\n",
       "      <th></th>\n",
       "      <th>Columns</th>\n",
       "      <th>Dtype</th>\n",
       "      <th>Nunique</th>\n",
       "      <th>Missing Value</th>\n",
       "      <th>Unique</th>\n",
       "    </tr>\n",
       "  </thead>\n",
       "  <tbody>\n",
       "    <tr>\n",
       "      <th>0</th>\n",
       "      <td>age</td>\n",
       "      <td>int64</td>\n",
       "      <td>75</td>\n",
       "      <td>0</td>\n",
       "      <td>[55, 39, 51, 38, 36]</td>\n",
       "    </tr>\n",
       "    <tr>\n",
       "      <th>1</th>\n",
       "      <td>job</td>\n",
       "      <td>object</td>\n",
       "      <td>12</td>\n",
       "      <td>0</td>\n",
       "      <td>[admin., self-employed, services, housemaid, t...</td>\n",
       "    </tr>\n",
       "    <tr>\n",
       "      <th>2</th>\n",
       "      <td>balance</td>\n",
       "      <td>int64</td>\n",
       "      <td>3153</td>\n",
       "      <td>0</td>\n",
       "      <td>[1662, -3058, 3025, -87, 205]</td>\n",
       "    </tr>\n",
       "    <tr>\n",
       "      <th>3</th>\n",
       "      <td>housing</td>\n",
       "      <td>object</td>\n",
       "      <td>2</td>\n",
       "      <td>0</td>\n",
       "      <td>[no, yes]</td>\n",
       "    </tr>\n",
       "    <tr>\n",
       "      <th>4</th>\n",
       "      <td>loan</td>\n",
       "      <td>object</td>\n",
       "      <td>2</td>\n",
       "      <td>0</td>\n",
       "      <td>[no, yes]</td>\n",
       "    </tr>\n",
       "    <tr>\n",
       "      <th>5</th>\n",
       "      <td>contact</td>\n",
       "      <td>object</td>\n",
       "      <td>3</td>\n",
       "      <td>0</td>\n",
       "      <td>[cellular, telephone, unknown]</td>\n",
       "    </tr>\n",
       "    <tr>\n",
       "      <th>6</th>\n",
       "      <td>month</td>\n",
       "      <td>object</td>\n",
       "      <td>12</td>\n",
       "      <td>0</td>\n",
       "      <td>[jun, apr, may, nov, jan]</td>\n",
       "    </tr>\n",
       "    <tr>\n",
       "      <th>7</th>\n",
       "      <td>campaign</td>\n",
       "      <td>int64</td>\n",
       "      <td>32</td>\n",
       "      <td>0</td>\n",
       "      <td>[2, 3, 1, 4, 5]</td>\n",
       "    </tr>\n",
       "    <tr>\n",
       "      <th>8</th>\n",
       "      <td>pdays</td>\n",
       "      <td>int64</td>\n",
       "      <td>422</td>\n",
       "      <td>0</td>\n",
       "      <td>[-1, 352, 21, 91, 186]</td>\n",
       "    </tr>\n",
       "    <tr>\n",
       "      <th>9</th>\n",
       "      <td>poutcome</td>\n",
       "      <td>object</td>\n",
       "      <td>4</td>\n",
       "      <td>0</td>\n",
       "      <td>[unknown, other, failure, success]</td>\n",
       "    </tr>\n",
       "    <tr>\n",
       "      <th>10</th>\n",
       "      <td>deposit</td>\n",
       "      <td>object</td>\n",
       "      <td>2</td>\n",
       "      <td>0</td>\n",
       "      <td>[yes, no]</td>\n",
       "    </tr>\n",
       "  </tbody>\n",
       "</table>\n",
       "</div>"
      ],
      "text/plain": [
       "     Columns   Dtype  Nunique  Missing Value  \\\n",
       "0        age   int64       75              0   \n",
       "1        job  object       12              0   \n",
       "2    balance   int64     3153              0   \n",
       "3    housing  object        2              0   \n",
       "4       loan  object        2              0   \n",
       "5    contact  object        3              0   \n",
       "6      month  object       12              0   \n",
       "7   campaign   int64       32              0   \n",
       "8      pdays   int64      422              0   \n",
       "9   poutcome  object        4              0   \n",
       "10   deposit  object        2              0   \n",
       "\n",
       "                                               Unique  \n",
       "0                                [55, 39, 51, 38, 36]  \n",
       "1   [admin., self-employed, services, housemaid, t...  \n",
       "2                       [1662, -3058, 3025, -87, 205]  \n",
       "3                                           [no, yes]  \n",
       "4                                           [no, yes]  \n",
       "5                      [cellular, telephone, unknown]  \n",
       "6                           [jun, apr, may, nov, jan]  \n",
       "7                                     [2, 3, 1, 4, 5]  \n",
       "8                              [-1, 352, 21, 91, 186]  \n",
       "9                  [unknown, other, failure, success]  \n",
       "10                                          [yes, no]  "
      ]
     },
     "execution_count": 7,
     "metadata": {},
     "output_type": "execute_result"
    }
   ],
   "source": [
    "Check (data_ori)"
   ]
  },
  {
   "cell_type": "code",
   "execution_count": 8,
   "metadata": {},
   "outputs": [
    {
     "data": {
      "text/html": [
       "<div>\n",
       "<style scoped>\n",
       "    .dataframe tbody tr th:only-of-type {\n",
       "        vertical-align: middle;\n",
       "    }\n",
       "\n",
       "    .dataframe tbody tr th {\n",
       "        vertical-align: top;\n",
       "    }\n",
       "\n",
       "    .dataframe thead th {\n",
       "        text-align: right;\n",
       "    }\n",
       "</style>\n",
       "<table border=\"1\" class=\"dataframe\">\n",
       "  <thead>\n",
       "    <tr style=\"text-align: right;\">\n",
       "      <th></th>\n",
       "      <th>jumlah</th>\n",
       "      <th>persentase %</th>\n",
       "    </tr>\n",
       "  </thead>\n",
       "  <tbody>\n",
       "    <tr>\n",
       "      <th>age</th>\n",
       "      <td>0</td>\n",
       "      <td>0.00</td>\n",
       "    </tr>\n",
       "    <tr>\n",
       "      <th>job</th>\n",
       "      <td>54</td>\n",
       "      <td>0.69</td>\n",
       "    </tr>\n",
       "    <tr>\n",
       "      <th>balance</th>\n",
       "      <td>0</td>\n",
       "      <td>0.00</td>\n",
       "    </tr>\n",
       "    <tr>\n",
       "      <th>housing</th>\n",
       "      <td>0</td>\n",
       "      <td>0.00</td>\n",
       "    </tr>\n",
       "    <tr>\n",
       "      <th>loan</th>\n",
       "      <td>0</td>\n",
       "      <td>0.00</td>\n",
       "    </tr>\n",
       "    <tr>\n",
       "      <th>contact</th>\n",
       "      <td>1639</td>\n",
       "      <td>20.98</td>\n",
       "    </tr>\n",
       "    <tr>\n",
       "      <th>month</th>\n",
       "      <td>0</td>\n",
       "      <td>0.00</td>\n",
       "    </tr>\n",
       "    <tr>\n",
       "      <th>campaign</th>\n",
       "      <td>0</td>\n",
       "      <td>0.00</td>\n",
       "    </tr>\n",
       "    <tr>\n",
       "      <th>pdays</th>\n",
       "      <td>0</td>\n",
       "      <td>0.00</td>\n",
       "    </tr>\n",
       "    <tr>\n",
       "      <th>poutcome</th>\n",
       "      <td>5819</td>\n",
       "      <td>74.48</td>\n",
       "    </tr>\n",
       "    <tr>\n",
       "      <th>deposit</th>\n",
       "      <td>0</td>\n",
       "      <td>0.00</td>\n",
       "    </tr>\n",
       "  </tbody>\n",
       "</table>\n",
       "</div>"
      ],
      "text/plain": [
       "          jumlah  persentase %\n",
       "age            0          0.00\n",
       "job           54          0.69\n",
       "balance        0          0.00\n",
       "housing        0          0.00\n",
       "loan           0          0.00\n",
       "contact     1639         20.98\n",
       "month          0          0.00\n",
       "campaign       0          0.00\n",
       "pdays          0          0.00\n",
       "poutcome    5819         74.48\n",
       "deposit        0          0.00"
      ]
     },
     "execution_count": 8,
     "metadata": {},
     "output_type": "execute_result"
    }
   ],
   "source": [
    "# Menghitung jumlah nilai 'unknown' pada setiap kolom\n",
    "jumlah_unknown = (data_ori == 'unknown').sum()\n",
    "\n",
    "# Membuat DataFrame dari hasil perhitungan\n",
    "jumlah_unknown = pd.DataFrame(jumlah_unknown, columns=['jumlah'])\n",
    "total_baris_data = len(data_ori)\n",
    "jumlah_unknown['persentase %'] = round((jumlah_unknown['jumlah'] / total_baris_data) * 100, 2)\n",
    "jumlah_unknown"
   ]
  },
  {
   "cell_type": "markdown",
   "metadata": {},
   "source": [
    "## Missing Values"
   ]
  },
  {
   "cell_type": "code",
   "execution_count": 9,
   "metadata": {},
   "outputs": [
    {
     "data": {
      "text/html": [
       "<div>\n",
       "<style scoped>\n",
       "    .dataframe tbody tr th:only-of-type {\n",
       "        vertical-align: middle;\n",
       "    }\n",
       "\n",
       "    .dataframe tbody tr th {\n",
       "        vertical-align: top;\n",
       "    }\n",
       "\n",
       "    .dataframe thead th {\n",
       "        text-align: right;\n",
       "    }\n",
       "</style>\n",
       "<table border=\"1\" class=\"dataframe\">\n",
       "  <thead>\n",
       "    <tr style=\"text-align: right;\">\n",
       "      <th></th>\n",
       "      <th>jumlah</th>\n",
       "      <th>persentase %</th>\n",
       "    </tr>\n",
       "  </thead>\n",
       "  <tbody>\n",
       "    <tr>\n",
       "      <th>age</th>\n",
       "      <td>0</td>\n",
       "      <td>0.0</td>\n",
       "    </tr>\n",
       "    <tr>\n",
       "      <th>job</th>\n",
       "      <td>0</td>\n",
       "      <td>0.0</td>\n",
       "    </tr>\n",
       "    <tr>\n",
       "      <th>balance</th>\n",
       "      <td>0</td>\n",
       "      <td>0.0</td>\n",
       "    </tr>\n",
       "    <tr>\n",
       "      <th>housing</th>\n",
       "      <td>0</td>\n",
       "      <td>0.0</td>\n",
       "    </tr>\n",
       "    <tr>\n",
       "      <th>loan</th>\n",
       "      <td>0</td>\n",
       "      <td>0.0</td>\n",
       "    </tr>\n",
       "    <tr>\n",
       "      <th>contact</th>\n",
       "      <td>0</td>\n",
       "      <td>0.0</td>\n",
       "    </tr>\n",
       "    <tr>\n",
       "      <th>month</th>\n",
       "      <td>0</td>\n",
       "      <td>0.0</td>\n",
       "    </tr>\n",
       "    <tr>\n",
       "      <th>campaign</th>\n",
       "      <td>0</td>\n",
       "      <td>0.0</td>\n",
       "    </tr>\n",
       "    <tr>\n",
       "      <th>pdays</th>\n",
       "      <td>0</td>\n",
       "      <td>0.0</td>\n",
       "    </tr>\n",
       "    <tr>\n",
       "      <th>poutcome</th>\n",
       "      <td>0</td>\n",
       "      <td>0.0</td>\n",
       "    </tr>\n",
       "    <tr>\n",
       "      <th>deposit</th>\n",
       "      <td>0</td>\n",
       "      <td>0.0</td>\n",
       "    </tr>\n",
       "  </tbody>\n",
       "</table>\n",
       "</div>"
      ],
      "text/plain": [
       "          jumlah  persentase %\n",
       "age            0           0.0\n",
       "job            0           0.0\n",
       "balance        0           0.0\n",
       "housing        0           0.0\n",
       "loan           0           0.0\n",
       "contact        0           0.0\n",
       "month          0           0.0\n",
       "campaign       0           0.0\n",
       "pdays          0           0.0\n",
       "poutcome       0           0.0\n",
       "deposit        0           0.0"
      ]
     },
     "execution_count": 9,
     "metadata": {},
     "output_type": "execute_result"
    }
   ],
   "source": [
    "# Jumlah data kosong (NaN) untuk setiap variable\n",
    "missing = pd.DataFrame({'jumlah':data_ori.isnull().sum().sort_values(ascending = False)})\n",
    "total_baris_data = len(data_ori)\n",
    "missing['persentase %'] = round((missing['jumlah']/total_baris_data)*100,2)\n",
    "missing"
   ]
  },
  {
   "cell_type": "markdown",
   "metadata": {},
   "source": [
    "Dari hasil pengecekan jumlah data kosong disimpulkan bahwa tidak ada data yang kosong."
   ]
  },
  {
   "cell_type": "markdown",
   "metadata": {},
   "source": [
    "## Data Duplicate"
   ]
  },
  {
   "cell_type": "code",
   "execution_count": 10,
   "metadata": {},
   "outputs": [
    {
     "data": {
      "text/plain": [
       "8"
      ]
     },
     "execution_count": 10,
     "metadata": {},
     "output_type": "execute_result"
    }
   ],
   "source": [
    "# jumlah yang duplikat\n",
    "data_ori.duplicated().sum()"
   ]
  },
  {
   "cell_type": "code",
   "execution_count": 11,
   "metadata": {},
   "outputs": [
    {
     "data": {
      "text/html": [
       "<div>\n",
       "<style scoped>\n",
       "    .dataframe tbody tr th:only-of-type {\n",
       "        vertical-align: middle;\n",
       "    }\n",
       "\n",
       "    .dataframe tbody tr th {\n",
       "        vertical-align: top;\n",
       "    }\n",
       "\n",
       "    .dataframe thead th {\n",
       "        text-align: right;\n",
       "    }\n",
       "</style>\n",
       "<table border=\"1\" class=\"dataframe\">\n",
       "  <thead>\n",
       "    <tr style=\"text-align: right;\">\n",
       "      <th></th>\n",
       "      <th>age</th>\n",
       "      <th>job</th>\n",
       "      <th>balance</th>\n",
       "      <th>housing</th>\n",
       "      <th>loan</th>\n",
       "      <th>contact</th>\n",
       "      <th>month</th>\n",
       "      <th>campaign</th>\n",
       "      <th>pdays</th>\n",
       "      <th>poutcome</th>\n",
       "      <th>deposit</th>\n",
       "    </tr>\n",
       "  </thead>\n",
       "  <tbody>\n",
       "    <tr>\n",
       "      <th>2944</th>\n",
       "      <td>40</td>\n",
       "      <td>blue-collar</td>\n",
       "      <td>0</td>\n",
       "      <td>yes</td>\n",
       "      <td>no</td>\n",
       "      <td>unknown</td>\n",
       "      <td>may</td>\n",
       "      <td>2</td>\n",
       "      <td>-1</td>\n",
       "      <td>unknown</td>\n",
       "      <td>no</td>\n",
       "    </tr>\n",
       "    <tr>\n",
       "      <th>4368</th>\n",
       "      <td>60</td>\n",
       "      <td>management</td>\n",
       "      <td>0</td>\n",
       "      <td>no</td>\n",
       "      <td>no</td>\n",
       "      <td>cellular</td>\n",
       "      <td>aug</td>\n",
       "      <td>3</td>\n",
       "      <td>-1</td>\n",
       "      <td>unknown</td>\n",
       "      <td>yes</td>\n",
       "    </tr>\n",
       "    <tr>\n",
       "      <th>4874</th>\n",
       "      <td>41</td>\n",
       "      <td>management</td>\n",
       "      <td>0</td>\n",
       "      <td>no</td>\n",
       "      <td>no</td>\n",
       "      <td>cellular</td>\n",
       "      <td>aug</td>\n",
       "      <td>2</td>\n",
       "      <td>-1</td>\n",
       "      <td>unknown</td>\n",
       "      <td>no</td>\n",
       "    </tr>\n",
       "    <tr>\n",
       "      <th>5326</th>\n",
       "      <td>44</td>\n",
       "      <td>blue-collar</td>\n",
       "      <td>0</td>\n",
       "      <td>yes</td>\n",
       "      <td>no</td>\n",
       "      <td>cellular</td>\n",
       "      <td>jul</td>\n",
       "      <td>1</td>\n",
       "      <td>-1</td>\n",
       "      <td>unknown</td>\n",
       "      <td>no</td>\n",
       "    </tr>\n",
       "    <tr>\n",
       "      <th>5609</th>\n",
       "      <td>39</td>\n",
       "      <td>technician</td>\n",
       "      <td>0</td>\n",
       "      <td>yes</td>\n",
       "      <td>no</td>\n",
       "      <td>unknown</td>\n",
       "      <td>may</td>\n",
       "      <td>1</td>\n",
       "      <td>-1</td>\n",
       "      <td>unknown</td>\n",
       "      <td>no</td>\n",
       "    </tr>\n",
       "    <tr>\n",
       "      <th>5681</th>\n",
       "      <td>38</td>\n",
       "      <td>technician</td>\n",
       "      <td>0</td>\n",
       "      <td>no</td>\n",
       "      <td>no</td>\n",
       "      <td>cellular</td>\n",
       "      <td>aug</td>\n",
       "      <td>2</td>\n",
       "      <td>-1</td>\n",
       "      <td>unknown</td>\n",
       "      <td>no</td>\n",
       "    </tr>\n",
       "    <tr>\n",
       "      <th>5905</th>\n",
       "      <td>34</td>\n",
       "      <td>management</td>\n",
       "      <td>0</td>\n",
       "      <td>no</td>\n",
       "      <td>no</td>\n",
       "      <td>cellular</td>\n",
       "      <td>aug</td>\n",
       "      <td>2</td>\n",
       "      <td>-1</td>\n",
       "      <td>unknown</td>\n",
       "      <td>no</td>\n",
       "    </tr>\n",
       "    <tr>\n",
       "      <th>7077</th>\n",
       "      <td>30</td>\n",
       "      <td>blue-collar</td>\n",
       "      <td>239</td>\n",
       "      <td>yes</td>\n",
       "      <td>no</td>\n",
       "      <td>unknown</td>\n",
       "      <td>may</td>\n",
       "      <td>1</td>\n",
       "      <td>-1</td>\n",
       "      <td>unknown</td>\n",
       "      <td>yes</td>\n",
       "    </tr>\n",
       "  </tbody>\n",
       "</table>\n",
       "</div>"
      ],
      "text/plain": [
       "      age          job  balance housing loan   contact month  campaign  pdays  \\\n",
       "2944   40  blue-collar        0     yes   no   unknown   may         2     -1   \n",
       "4368   60   management        0      no   no  cellular   aug         3     -1   \n",
       "4874   41   management        0      no   no  cellular   aug         2     -1   \n",
       "5326   44  blue-collar        0     yes   no  cellular   jul         1     -1   \n",
       "5609   39   technician        0     yes   no   unknown   may         1     -1   \n",
       "5681   38   technician        0      no   no  cellular   aug         2     -1   \n",
       "5905   34   management        0      no   no  cellular   aug         2     -1   \n",
       "7077   30  blue-collar      239     yes   no   unknown   may         1     -1   \n",
       "\n",
       "     poutcome deposit  \n",
       "2944  unknown      no  \n",
       "4368  unknown     yes  \n",
       "4874  unknown      no  \n",
       "5326  unknown      no  \n",
       "5609  unknown      no  \n",
       "5681  unknown      no  \n",
       "5905  unknown      no  \n",
       "7077  unknown     yes  "
      ]
     },
     "execution_count": 11,
     "metadata": {},
     "output_type": "execute_result"
    }
   ],
   "source": [
    "# untuk memunculkan data yang duplikat\n",
    "data_ori[data_ori.duplicated()]"
   ]
  },
  {
   "cell_type": "code",
   "execution_count": 4,
   "metadata": {},
   "outputs": [],
   "source": [
    "# mendrop data dupliat\n",
    "data_ori.drop_duplicates(inplace = True)"
   ]
  },
  {
   "cell_type": "markdown",
   "metadata": {},
   "source": [
    "Setelah dilakukan pengecakan terdapat 8 data duplikat kemudian dilakukan penghapusan data tersebut."
   ]
  },
  {
   "cell_type": "markdown",
   "metadata": {},
   "source": [
    "## Variable Numerik"
   ]
  },
  {
   "cell_type": "markdown",
   "metadata": {},
   "source": [
    "### Statistika Deskriptif"
   ]
  },
  {
   "cell_type": "code",
   "execution_count": 13,
   "metadata": {},
   "outputs": [
    {
     "data": {
      "text/html": [
       "<div>\n",
       "<style scoped>\n",
       "    .dataframe tbody tr th:only-of-type {\n",
       "        vertical-align: middle;\n",
       "    }\n",
       "\n",
       "    .dataframe tbody tr th {\n",
       "        vertical-align: top;\n",
       "    }\n",
       "\n",
       "    .dataframe thead th {\n",
       "        text-align: right;\n",
       "    }\n",
       "</style>\n",
       "<table border=\"1\" class=\"dataframe\">\n",
       "  <thead>\n",
       "    <tr style=\"text-align: right;\">\n",
       "      <th></th>\n",
       "      <th>age</th>\n",
       "      <th>balance</th>\n",
       "      <th>campaign</th>\n",
       "      <th>pdays</th>\n",
       "    </tr>\n",
       "  </thead>\n",
       "  <tbody>\n",
       "    <tr>\n",
       "      <th>count</th>\n",
       "      <td>7813.000000</td>\n",
       "      <td>7813.000000</td>\n",
       "      <td>7813.000000</td>\n",
       "      <td>7813.000000</td>\n",
       "    </tr>\n",
       "    <tr>\n",
       "      <th>mean</th>\n",
       "      <td>41.257264</td>\n",
       "      <td>1512.448611</td>\n",
       "      <td>2.519775</td>\n",
       "      <td>51.408550</td>\n",
       "    </tr>\n",
       "    <tr>\n",
       "      <th>std</th>\n",
       "      <td>11.919710</td>\n",
       "      <td>3089.291831</td>\n",
       "      <td>2.727001</td>\n",
       "      <td>108.072739</td>\n",
       "    </tr>\n",
       "    <tr>\n",
       "      <th>min</th>\n",
       "      <td>18.000000</td>\n",
       "      <td>-6847.000000</td>\n",
       "      <td>1.000000</td>\n",
       "      <td>-1.000000</td>\n",
       "    </tr>\n",
       "    <tr>\n",
       "      <th>25%</th>\n",
       "      <td>32.000000</td>\n",
       "      <td>127.000000</td>\n",
       "      <td>1.000000</td>\n",
       "      <td>-1.000000</td>\n",
       "    </tr>\n",
       "    <tr>\n",
       "      <th>50%</th>\n",
       "      <td>39.000000</td>\n",
       "      <td>549.000000</td>\n",
       "      <td>2.000000</td>\n",
       "      <td>-1.000000</td>\n",
       "    </tr>\n",
       "    <tr>\n",
       "      <th>75%</th>\n",
       "      <td>49.000000</td>\n",
       "      <td>1684.000000</td>\n",
       "      <td>3.000000</td>\n",
       "      <td>40.000000</td>\n",
       "    </tr>\n",
       "    <tr>\n",
       "      <th>max</th>\n",
       "      <td>95.000000</td>\n",
       "      <td>66653.000000</td>\n",
       "      <td>63.000000</td>\n",
       "      <td>854.000000</td>\n",
       "    </tr>\n",
       "  </tbody>\n",
       "</table>\n",
       "</div>"
      ],
      "text/plain": [
       "               age       balance     campaign        pdays\n",
       "count  7813.000000   7813.000000  7813.000000  7813.000000\n",
       "mean     41.257264   1512.448611     2.519775    51.408550\n",
       "std      11.919710   3089.291831     2.727001   108.072739\n",
       "min      18.000000  -6847.000000     1.000000    -1.000000\n",
       "25%      32.000000    127.000000     1.000000    -1.000000\n",
       "50%      39.000000    549.000000     2.000000    -1.000000\n",
       "75%      49.000000   1684.000000     3.000000    40.000000\n",
       "max      95.000000  66653.000000    63.000000   854.000000"
      ]
     },
     "execution_count": 13,
     "metadata": {},
     "output_type": "execute_result"
    }
   ],
   "source": [
    "data_ori.describe()"
   ]
  },
  {
   "cell_type": "markdown",
   "metadata": {},
   "source": [
    "secara desripsi kita dapat ketahui terdapat nilai count, mean, standar deviasi, min, max, median pada 4 data numerik"
   ]
  },
  {
   "cell_type": "markdown",
   "metadata": {},
   "source": [
    "### Distribusi Data"
   ]
  },
  {
   "cell_type": "code",
   "execution_count": 14,
   "metadata": {},
   "outputs": [
    {
     "data": {
      "image/png": "[encoded data removed]",
      "text/plain": [
       "<Figure size 1000x1000 with 4 Axes>"
      ]
     },
     "metadata": {},
     "output_type": "display_data"
    }
   ],
   "source": [
    "numerik = data_ori.select_dtypes(include='number')\n",
    "\n",
    "# Mengatur ukuran grafik\n",
    "plt.figure(figsize=(10, 10))\n",
    "\n",
    "# Hitung jumlah kolom numerik\n",
    "jumlah_kolom = len(numerik.columns)\n",
    "\n",
    "\n",
    "# Membagi jumlah kolom dengan 2 agar subplot diatur dalam 2 kolom\n",
    "baris = (jumlah_kolom + 1) // 2\n",
    "\n",
    "posisi = 1  # Inisialisasi posisi mulai dari 1\n",
    "for setiap_kolom in numerik.columns:  # Iterasi tiap kolom numerik\n",
    "    plt.subplot(baris, 2, posisi)  # Sesuaikan subplot dengan jumlah baris dan kolom\n",
    "    sns.histplot(numerik[setiap_kolom], kde=True)\n",
    "    posisi += 1\n",
    "    plt.tight_layout()  # Agar layout tidak bertumpuk"
   ]
  },
  {
   "cell_type": "code",
   "execution_count": 15,
   "metadata": {},
   "outputs": [
    {
     "name": "stdout",
     "output_type": "stream",
     "text": [
      "Requirement already satisfied: scipy in c:\\users\\wenda\\anaconda3\\lib\\site-packages (1.11.4)\n",
      "Requirement already satisfied: numpy<1.28.0,>=1.21.6 in c:\\users\\wenda\\anaconda3\\lib\\site-packages (from scipy) (1.26.4)\n",
      "Note: you may need to restart the kernel to use updated packages.\n"
     ]
    }
   ],
   "source": [
    "##UJI STATISTIKA\n",
    "%pip install scipy"
   ]
  },
  {
   "cell_type": "code",
   "execution_count": 16,
   "metadata": {},
   "outputs": [
    {
     "name": "stdout",
     "output_type": "stream",
     "text": [
      "Kolom: age\n",
      "Data tidak normal \n",
      "\n",
      "Kolom: balance\n",
      "Data tidak normal \n",
      "\n",
      "Kolom: campaign\n",
      "Data tidak normal \n",
      "\n",
      "Kolom: pdays\n",
      "Data tidak normal \n",
      "\n"
     ]
    }
   ],
   "source": [
    "# D'Agustino Pearson\n",
    "from scipy.stats import normaltest\n",
    "\n",
    "for column in numerik :\n",
    "\n",
    "        stat, pval = normaltest(data_ori[column])\n",
    "        print(f\"Kolom: {column}\")\n",
    "        if pval < 0.05:\n",
    "            print('Data tidak normal \\n')\n",
    "        else:\n",
    "            print('Data normal \\n')"
   ]
  },
  {
   "cell_type": "markdown",
   "metadata": {},
   "source": [
    "### Outliers"
   ]
  },
  {
   "cell_type": "code",
   "execution_count": 18,
   "metadata": {},
   "outputs": [
    {
     "data": {
      "image/png": "[encoded data removed]",
      "text/plain": [
       "<Figure size 1500x1000 with 4 Axes>"
      ]
     },
     "metadata": {},
     "output_type": "display_data"
    }
   ],
   "source": [
    "# ganti ukuran pigura (wadah grafik nya)\n",
    "plt.figure(figsize = (15,10))\n",
    "\n",
    "posisi = 1 # menginisiasi posisi mulai dari 1\n",
    "for setiap_kolom in numerik.columns: # numerik.columns = nama-nama kolom dalam list\n",
    "    plt.subplot(2,2,posisi)\n",
    "    sns.boxplot(x = data_ori[setiap_kolom])\n",
    "    posisi = posisi + 1\n",
    "    # agar tidak bertumpuk\n",
    "    plt.tight_layout()"
   ]
  },
  {
   "cell_type": "markdown",
   "metadata": {},
   "source": [
    "Dari hasil boxplot diketahui hampir disemua fitur numerik."
   ]
  },
  {
   "cell_type": "code",
   "execution_count": 19,
   "metadata": {},
   "outputs": [
    {
     "data": {
      "text/html": [
       "<div>\n",
       "<style scoped>\n",
       "    .dataframe tbody tr th:only-of-type {\n",
       "        vertical-align: middle;\n",
       "    }\n",
       "\n",
       "    .dataframe tbody tr th {\n",
       "        vertical-align: top;\n",
       "    }\n",
       "\n",
       "    .dataframe thead th {\n",
       "        text-align: right;\n",
       "    }\n",
       "</style>\n",
       "<table border=\"1\" class=\"dataframe\">\n",
       "  <thead>\n",
       "    <tr style=\"text-align: right;\">\n",
       "      <th></th>\n",
       "      <th>kolom</th>\n",
       "      <th>jumlah outliers</th>\n",
       "      <th>persentase %</th>\n",
       "    </tr>\n",
       "  </thead>\n",
       "  <tbody>\n",
       "    <tr>\n",
       "      <th>0</th>\n",
       "      <td>age</td>\n",
       "      <td>121</td>\n",
       "      <td>1.71</td>\n",
       "    </tr>\n",
       "    <tr>\n",
       "      <th>1</th>\n",
       "      <td>balance</td>\n",
       "      <td>736</td>\n",
       "      <td>10.39</td>\n",
       "    </tr>\n",
       "    <tr>\n",
       "      <th>2</th>\n",
       "      <td>campaign</td>\n",
       "      <td>429</td>\n",
       "      <td>6.06</td>\n",
       "    </tr>\n",
       "    <tr>\n",
       "      <th>3</th>\n",
       "      <td>pdays</td>\n",
       "      <td>1454</td>\n",
       "      <td>20.52</td>\n",
       "    </tr>\n",
       "  </tbody>\n",
       "</table>\n",
       "</div>"
      ],
      "text/plain": [
       "      kolom  jumlah outliers  persentase %\n",
       "0       age              121          1.71\n",
       "1   balance              736         10.39\n",
       "2  campaign              429          6.06\n",
       "3     pdays             1454         20.52"
      ]
     },
     "execution_count": 19,
     "metadata": {},
     "output_type": "execute_result"
    }
   ],
   "source": [
    "# Inter Quartile Range (IQR) * 1.5\n",
    "list_jumlah_outliers = []\n",
    "list_persentase_outliers = []\n",
    "total_data = 7085\n",
    "\n",
    "for setiap_kolom in numerik.columns:\n",
    "    q3 = numerik.describe()[setiap_kolom]['75%']\n",
    "    q1 = numerik.describe()[setiap_kolom]['25%']\n",
    "    iqr = q3 - q1\n",
    "    whis = 1.5 * iqr\n",
    "    upper_bound = q3 + whis\n",
    "    lower_bound = q1 - whis\n",
    "\n",
    "    jumlah_outliers = len(numerik[(numerik[setiap_kolom] > upper_bound) | (numerik[setiap_kolom] < lower_bound)])\n",
    "    list_jumlah_outliers.append(jumlah_outliers)\n",
    "\n",
    "    # Menghitung persentase outlier\n",
    "    persentase_outliers = round((jumlah_outliers / total_data) * 100,2)\n",
    "    list_persentase_outliers.append(persentase_outliers)\n",
    "\n",
    "# Membuat DataFrame dengan jumlah dan persentase outliers\n",
    "pd.DataFrame({\n",
    "    'kolom': numerik.columns,\n",
    "    'jumlah outliers': list_jumlah_outliers,\n",
    "    'persentase %': list_persentase_outliers\n",
    "})"
   ]
  },
  {
   "cell_type": "markdown",
   "metadata": {},
   "source": [
    "Dengan menggunakan *Inter Quartile Range (IQR) * 1.5* maka dapat diketahui jumlah outlier dan persentase pada dataset.Dimana persentase outliers tertinggi 20,21% dan terendah 1,71%"
   ]
  },
  {
   "cell_type": "markdown",
   "metadata": {},
   "source": [
    "### Korelasi"
   ]
  },
  {
   "cell_type": "code",
   "execution_count": 20,
   "metadata": {},
   "outputs": [
    {
     "data": {
      "text/html": [
       "<div>\n",
       "<style scoped>\n",
       "    .dataframe tbody tr th:only-of-type {\n",
       "        vertical-align: middle;\n",
       "    }\n",
       "\n",
       "    .dataframe tbody tr th {\n",
       "        vertical-align: top;\n",
       "    }\n",
       "\n",
       "    .dataframe thead th {\n",
       "        text-align: right;\n",
       "    }\n",
       "</style>\n",
       "<table border=\"1\" class=\"dataframe\">\n",
       "  <thead>\n",
       "    <tr style=\"text-align: right;\">\n",
       "      <th></th>\n",
       "      <th>age</th>\n",
       "      <th>balance</th>\n",
       "      <th>campaign</th>\n",
       "      <th>pdays</th>\n",
       "    </tr>\n",
       "  </thead>\n",
       "  <tbody>\n",
       "    <tr>\n",
       "      <th>age</th>\n",
       "      <td>1.000000</td>\n",
       "      <td>0.100600</td>\n",
       "      <td>0.023335</td>\n",
       "      <td>0.009668</td>\n",
       "    </tr>\n",
       "    <tr>\n",
       "      <th>balance</th>\n",
       "      <td>0.100600</td>\n",
       "      <td>1.000000</td>\n",
       "      <td>-0.036909</td>\n",
       "      <td>0.090169</td>\n",
       "    </tr>\n",
       "    <tr>\n",
       "      <th>campaign</th>\n",
       "      <td>0.023335</td>\n",
       "      <td>-0.036909</td>\n",
       "      <td>1.000000</td>\n",
       "      <td>-0.124030</td>\n",
       "    </tr>\n",
       "    <tr>\n",
       "      <th>pdays</th>\n",
       "      <td>0.009668</td>\n",
       "      <td>0.090169</td>\n",
       "      <td>-0.124030</td>\n",
       "      <td>1.000000</td>\n",
       "    </tr>\n",
       "  </tbody>\n",
       "</table>\n",
       "</div>"
      ],
      "text/plain": [
       "               age   balance  campaign     pdays\n",
       "age       1.000000  0.100600  0.023335  0.009668\n",
       "balance   0.100600  1.000000 -0.036909  0.090169\n",
       "campaign  0.023335 -0.036909  1.000000 -0.124030\n",
       "pdays     0.009668  0.090169 -0.124030  1.000000"
      ]
     },
     "execution_count": 20,
     "metadata": {},
     "output_type": "execute_result"
    }
   ],
   "source": [
    "numerik.corr(method = 'spearman')"
   ]
  },
  {
   "cell_type": "code",
   "execution_count": 21,
   "metadata": {},
   "outputs": [
    {
     "data": {
      "text/plain": [
       "<Axes: >"
      ]
     },
     "execution_count": 21,
     "metadata": {},
     "output_type": "execute_result"
    },
    {
     "data": {
      "image/png": "[encoded data removed]",
      "text/plain": [
       "<Figure size 640x480 with 2 Axes>"
      ]
     },
     "metadata": {},
     "output_type": "display_data"
    }
   ],
   "source": [
    "sns.heatmap(numerik.corr(method = 'spearman'), annot = True, linewidths=0.5)"
   ]
  },
  {
   "cell_type": "markdown",
   "metadata": {},
   "source": [
    "### Multikolineartias dengan VIF"
   ]
  },
  {
   "cell_type": "code",
   "execution_count": 22,
   "metadata": {},
   "outputs": [],
   "source": [
    "from statsmodels.stats.outliers_influence import variance_inflation_factor\n",
    "# buat function\n",
    "def calc_vif(x):\n",
    "    # dataframe kosong\n",
    "    vif = pd.DataFrame()\n",
    "    vif['variables'] = x.columns\n",
    "    # menghitung vig untuk setiap kolom nya\n",
    "    vif['VIF'] = [variance_inflation_factor(x.values, i) for i in range(x.shape[1])]\n",
    "    return vif"
   ]
  },
  {
   "cell_type": "code",
   "execution_count": 23,
   "metadata": {},
   "outputs": [
    {
     "data": {
      "text/html": [
       "<div>\n",
       "<style scoped>\n",
       "    .dataframe tbody tr th:only-of-type {\n",
       "        vertical-align: middle;\n",
       "    }\n",
       "\n",
       "    .dataframe tbody tr th {\n",
       "        vertical-align: top;\n",
       "    }\n",
       "\n",
       "    .dataframe thead th {\n",
       "        text-align: right;\n",
       "    }\n",
       "</style>\n",
       "<table border=\"1\" class=\"dataframe\">\n",
       "  <thead>\n",
       "    <tr style=\"text-align: right;\">\n",
       "      <th></th>\n",
       "      <th>variables</th>\n",
       "      <th>VIF</th>\n",
       "    </tr>\n",
       "  </thead>\n",
       "  <tbody>\n",
       "    <tr>\n",
       "      <th>0</th>\n",
       "      <td>age</td>\n",
       "      <td>2.251170</td>\n",
       "    </tr>\n",
       "    <tr>\n",
       "      <th>1</th>\n",
       "      <td>balance</td>\n",
       "      <td>1.250455</td>\n",
       "    </tr>\n",
       "    <tr>\n",
       "      <th>2</th>\n",
       "      <td>campaign</td>\n",
       "      <td>1.749270</td>\n",
       "    </tr>\n",
       "    <tr>\n",
       "      <th>3</th>\n",
       "      <td>pdays</td>\n",
       "      <td>1.214082</td>\n",
       "    </tr>\n",
       "  </tbody>\n",
       "</table>\n",
       "</div>"
      ],
      "text/plain": [
       "  variables       VIF\n",
       "0       age  2.251170\n",
       "1   balance  1.250455\n",
       "2  campaign  1.749270\n",
       "3     pdays  1.214082"
      ]
     },
     "execution_count": 23,
     "metadata": {},
     "output_type": "execute_result"
    }
   ],
   "source": [
    "calc_vif(numerik)"
   ]
  },
  {
   "cell_type": "markdown",
   "metadata": {},
   "source": [
    "Karena hasil VIF sangat kecil dari 5 maka apat disimpulakan tidak ada multikolinearitas"
   ]
  },
  {
   "cell_type": "markdown",
   "metadata": {},
   "source": [
    "## Variabel Kategorik"
   ]
  },
  {
   "cell_type": "markdown",
   "metadata": {},
   "source": [
    "### Describe"
   ]
  },
  {
   "cell_type": "code",
   "execution_count": 24,
   "metadata": {},
   "outputs": [
    {
     "data": {
      "text/html": [
       "<div>\n",
       "<style scoped>\n",
       "    .dataframe tbody tr th:only-of-type {\n",
       "        vertical-align: middle;\n",
       "    }\n",
       "\n",
       "    .dataframe tbody tr th {\n",
       "        vertical-align: top;\n",
       "    }\n",
       "\n",
       "    .dataframe thead th {\n",
       "        text-align: right;\n",
       "    }\n",
       "</style>\n",
       "<table border=\"1\" class=\"dataframe\">\n",
       "  <thead>\n",
       "    <tr style=\"text-align: right;\">\n",
       "      <th></th>\n",
       "      <th>job</th>\n",
       "      <th>housing</th>\n",
       "      <th>loan</th>\n",
       "      <th>contact</th>\n",
       "      <th>month</th>\n",
       "      <th>poutcome</th>\n",
       "      <th>deposit</th>\n",
       "    </tr>\n",
       "  </thead>\n",
       "  <tbody>\n",
       "    <tr>\n",
       "      <th>count</th>\n",
       "      <td>7813</td>\n",
       "      <td>7813</td>\n",
       "      <td>7813</td>\n",
       "      <td>7813</td>\n",
       "      <td>7813</td>\n",
       "      <td>7813</td>\n",
       "      <td>7813</td>\n",
       "    </tr>\n",
       "    <tr>\n",
       "      <th>unique</th>\n",
       "      <td>12</td>\n",
       "      <td>2</td>\n",
       "      <td>2</td>\n",
       "      <td>3</td>\n",
       "      <td>12</td>\n",
       "      <td>4</td>\n",
       "      <td>2</td>\n",
       "    </tr>\n",
       "    <tr>\n",
       "      <th>top</th>\n",
       "      <td>management</td>\n",
       "      <td>no</td>\n",
       "      <td>no</td>\n",
       "      <td>cellular</td>\n",
       "      <td>may</td>\n",
       "      <td>unknown</td>\n",
       "      <td>no</td>\n",
       "    </tr>\n",
       "    <tr>\n",
       "      <th>freq</th>\n",
       "      <td>1792</td>\n",
       "      <td>4140</td>\n",
       "      <td>6789</td>\n",
       "      <td>5628</td>\n",
       "      <td>1976</td>\n",
       "      <td>5819</td>\n",
       "      <td>4081</td>\n",
       "    </tr>\n",
       "  </tbody>\n",
       "</table>\n",
       "</div>"
      ],
      "text/plain": [
       "               job housing  loan   contact month poutcome deposit\n",
       "count         7813    7813  7813      7813  7813     7813    7813\n",
       "unique          12       2     2         3    12        4       2\n",
       "top     management      no    no  cellular   may  unknown      no\n",
       "freq          1792    4140  6789      5628  1976     5819    4081"
      ]
     },
     "execution_count": 24,
     "metadata": {},
     "output_type": "execute_result"
    }
   ],
   "source": [
    "data_ori.describe(include = 'object')"
   ]
  },
  {
   "cell_type": "markdown",
   "metadata": {},
   "source": [
    "### Unique Values"
   ]
  },
  {
   "cell_type": "code",
   "execution_count": 26,
   "metadata": {},
   "outputs": [
    {
     "data": {
      "text/plain": [
       "job         12\n",
       "housing      2\n",
       "loan         2\n",
       "contact      3\n",
       "month       12\n",
       "poutcome     4\n",
       "deposit      2\n",
       "dtype: int64"
      ]
     },
     "execution_count": 26,
     "metadata": {},
     "output_type": "execute_result"
    }
   ],
   "source": [
    "kategorik = data_ori.select_dtypes(include = 'object')\n",
    "kategorik.nunique()\n"
   ]
  },
  {
   "cell_type": "markdown",
   "metadata": {},
   "source": [
    "### Value Counts"
   ]
  },
  {
   "cell_type": "code",
   "execution_count": 27,
   "metadata": {},
   "outputs": [
    {
     "data": {
      "image/png": "[encoded data removed]",
      "text/plain": [
       "<Figure size 1500x1500 with 7 Axes>"
      ]
     },
     "metadata": {},
     "output_type": "display_data"
    }
   ],
   "source": [
    "#Dibuat histogram\n",
    "plt.figure(figsize = (15,15)) # (horizontal, vertikal)\n",
    "\n",
    "posisi = 1 # menginisiasi posisi mulai dari 1\n",
    "for setiap_kolom in kategorik.columns: # kategorik.columns = nama-nama kolom dalam list\n",
    "    plt.subplot(4,2,posisi)\n",
    "    values = kategorik [setiap_kolom].value_counts().head().reset_index()\n",
    "    values.columns = [setiap_kolom,'count']\n",
    "    sns.barplot(x =values['count'],y = values[setiap_kolom], orient = 'h')\n",
    "    posisi = posisi + 1\n",
    "    # agar tidak bertumpuk\n",
    "    plt.tight_layout()"
   ]
  },
  {
   "cell_type": "code",
   "execution_count": 30,
   "metadata": {},
   "outputs": [
    {
     "data": {
      "text/plain": [
       "job\n",
       "management       1792\n",
       "blue-collar      1346\n",
       "technician       1291\n",
       "admin.            936\n",
       "services          658\n",
       "retired           540\n",
       "self-employed     280\n",
       "unemployed        249\n",
       "student           247\n",
       "entrepreneur      236\n",
       "housemaid         184\n",
       "unknown            54\n",
       "Name: count, dtype: int64"
      ]
     },
     "execution_count": 30,
     "metadata": {},
     "output_type": "execute_result"
    }
   ],
   "source": [
    "data_ori['job'].value_counts()"
   ]
  },
  {
   "cell_type": "code",
   "execution_count": 32,
   "metadata": {},
   "outputs": [
    {
     "data": {
      "text/plain": [
       "poutcome\n",
       "unknown    5819\n",
       "failure     848\n",
       "success     761\n",
       "other       385\n",
       "Name: count, dtype: int64"
      ]
     },
     "execution_count": 32,
     "metadata": {},
     "output_type": "execute_result"
    }
   ],
   "source": [
    "data_ori['poutcome'].value_counts()"
   ]
  },
  {
   "cell_type": "markdown",
   "metadata": {},
   "source": [
    "# Data Cleaning"
   ]
  },
  {
   "cell_type": "markdown",
   "metadata": {},
   "source": [
    "Dari proses Data Understanding diketahui bahwa tidak ada data yang hilang tapi memiliki data 'unknown pada `job`, `contact` dan `poutcome`"
   ]
  },
  {
   "cell_type": "code",
   "execution_count": 34,
   "metadata": {},
   "outputs": [],
   "source": [
    "data_with_outlier = data_ori.copy()"
   ]
  },
  {
   "cell_type": "code",
   "execution_count": 35,
   "metadata": {},
   "outputs": [
    {
     "data": {
      "text/html": [
       "<div>\n",
       "<style scoped>\n",
       "    .dataframe tbody tr th:only-of-type {\n",
       "        vertical-align: middle;\n",
       "    }\n",
       "\n",
       "    .dataframe tbody tr th {\n",
       "        vertical-align: top;\n",
       "    }\n",
       "\n",
       "    .dataframe thead th {\n",
       "        text-align: right;\n",
       "    }\n",
       "</style>\n",
       "<table border=\"1\" class=\"dataframe\">\n",
       "  <thead>\n",
       "    <tr style=\"text-align: right;\">\n",
       "      <th></th>\n",
       "      <th>age</th>\n",
       "      <th>job</th>\n",
       "      <th>balance</th>\n",
       "      <th>housing</th>\n",
       "      <th>loan</th>\n",
       "      <th>contact</th>\n",
       "      <th>month</th>\n",
       "      <th>campaign</th>\n",
       "      <th>pdays</th>\n",
       "      <th>poutcome</th>\n",
       "      <th>deposit</th>\n",
       "    </tr>\n",
       "  </thead>\n",
       "  <tbody>\n",
       "    <tr>\n",
       "      <th>0</th>\n",
       "      <td>55</td>\n",
       "      <td>admin.</td>\n",
       "      <td>1662</td>\n",
       "      <td>no</td>\n",
       "      <td>no</td>\n",
       "      <td>cellular</td>\n",
       "      <td>jun</td>\n",
       "      <td>2</td>\n",
       "      <td>-1</td>\n",
       "      <td>unknown</td>\n",
       "      <td>yes</td>\n",
       "    </tr>\n",
       "    <tr>\n",
       "      <th>1</th>\n",
       "      <td>39</td>\n",
       "      <td>self-employed</td>\n",
       "      <td>-3058</td>\n",
       "      <td>yes</td>\n",
       "      <td>yes</td>\n",
       "      <td>cellular</td>\n",
       "      <td>apr</td>\n",
       "      <td>3</td>\n",
       "      <td>-1</td>\n",
       "      <td>unknown</td>\n",
       "      <td>yes</td>\n",
       "    </tr>\n",
       "    <tr>\n",
       "      <th>2</th>\n",
       "      <td>51</td>\n",
       "      <td>admin.</td>\n",
       "      <td>3025</td>\n",
       "      <td>no</td>\n",
       "      <td>no</td>\n",
       "      <td>cellular</td>\n",
       "      <td>may</td>\n",
       "      <td>1</td>\n",
       "      <td>352</td>\n",
       "      <td>other</td>\n",
       "      <td>yes</td>\n",
       "    </tr>\n",
       "    <tr>\n",
       "      <th>3</th>\n",
       "      <td>38</td>\n",
       "      <td>services</td>\n",
       "      <td>-87</td>\n",
       "      <td>yes</td>\n",
       "      <td>no</td>\n",
       "      <td>cellular</td>\n",
       "      <td>may</td>\n",
       "      <td>1</td>\n",
       "      <td>-1</td>\n",
       "      <td>unknown</td>\n",
       "      <td>no</td>\n",
       "    </tr>\n",
       "    <tr>\n",
       "      <th>4</th>\n",
       "      <td>36</td>\n",
       "      <td>housemaid</td>\n",
       "      <td>205</td>\n",
       "      <td>yes</td>\n",
       "      <td>no</td>\n",
       "      <td>telephone</td>\n",
       "      <td>nov</td>\n",
       "      <td>4</td>\n",
       "      <td>-1</td>\n",
       "      <td>unknown</td>\n",
       "      <td>no</td>\n",
       "    </tr>\n",
       "    <tr>\n",
       "      <th>...</th>\n",
       "      <td>...</td>\n",
       "      <td>...</td>\n",
       "      <td>...</td>\n",
       "      <td>...</td>\n",
       "      <td>...</td>\n",
       "      <td>...</td>\n",
       "      <td>...</td>\n",
       "      <td>...</td>\n",
       "      <td>...</td>\n",
       "      <td>...</td>\n",
       "      <td>...</td>\n",
       "    </tr>\n",
       "    <tr>\n",
       "      <th>7808</th>\n",
       "      <td>62</td>\n",
       "      <td>housemaid</td>\n",
       "      <td>2</td>\n",
       "      <td>no</td>\n",
       "      <td>no</td>\n",
       "      <td>cellular</td>\n",
       "      <td>nov</td>\n",
       "      <td>1</td>\n",
       "      <td>-1</td>\n",
       "      <td>unknown</td>\n",
       "      <td>yes</td>\n",
       "    </tr>\n",
       "    <tr>\n",
       "      <th>7809</th>\n",
       "      <td>48</td>\n",
       "      <td>housemaid</td>\n",
       "      <td>5473</td>\n",
       "      <td>no</td>\n",
       "      <td>no</td>\n",
       "      <td>cellular</td>\n",
       "      <td>feb</td>\n",
       "      <td>2</td>\n",
       "      <td>184</td>\n",
       "      <td>success</td>\n",
       "      <td>yes</td>\n",
       "    </tr>\n",
       "    <tr>\n",
       "      <th>7810</th>\n",
       "      <td>36</td>\n",
       "      <td>unknown</td>\n",
       "      <td>179</td>\n",
       "      <td>no</td>\n",
       "      <td>no</td>\n",
       "      <td>cellular</td>\n",
       "      <td>aug</td>\n",
       "      <td>8</td>\n",
       "      <td>-1</td>\n",
       "      <td>unknown</td>\n",
       "      <td>no</td>\n",
       "    </tr>\n",
       "    <tr>\n",
       "      <th>7811</th>\n",
       "      <td>31</td>\n",
       "      <td>admin.</td>\n",
       "      <td>54</td>\n",
       "      <td>yes</td>\n",
       "      <td>no</td>\n",
       "      <td>cellular</td>\n",
       "      <td>nov</td>\n",
       "      <td>1</td>\n",
       "      <td>-1</td>\n",
       "      <td>unknown</td>\n",
       "      <td>no</td>\n",
       "    </tr>\n",
       "    <tr>\n",
       "      <th>7812</th>\n",
       "      <td>60</td>\n",
       "      <td>retired</td>\n",
       "      <td>1588</td>\n",
       "      <td>no</td>\n",
       "      <td>no</td>\n",
       "      <td>cellular</td>\n",
       "      <td>oct</td>\n",
       "      <td>1</td>\n",
       "      <td>-1</td>\n",
       "      <td>unknown</td>\n",
       "      <td>yes</td>\n",
       "    </tr>\n",
       "  </tbody>\n",
       "</table>\n",
       "<p>7813 rows × 11 columns</p>\n",
       "</div>"
      ],
      "text/plain": [
       "      age            job  balance housing loan    contact month  campaign  \\\n",
       "0      55         admin.     1662      no   no   cellular   jun         2   \n",
       "1      39  self-employed    -3058     yes  yes   cellular   apr         3   \n",
       "2      51         admin.     3025      no   no   cellular   may         1   \n",
       "3      38       services      -87     yes   no   cellular   may         1   \n",
       "4      36      housemaid      205     yes   no  telephone   nov         4   \n",
       "...   ...            ...      ...     ...  ...        ...   ...       ...   \n",
       "7808   62      housemaid        2      no   no   cellular   nov         1   \n",
       "7809   48      housemaid     5473      no   no   cellular   feb         2   \n",
       "7810   36        unknown      179      no   no   cellular   aug         8   \n",
       "7811   31         admin.       54     yes   no   cellular   nov         1   \n",
       "7812   60        retired     1588      no   no   cellular   oct         1   \n",
       "\n",
       "      pdays poutcome deposit  \n",
       "0        -1  unknown     yes  \n",
       "1        -1  unknown     yes  \n",
       "2       352    other     yes  \n",
       "3        -1  unknown      no  \n",
       "4        -1  unknown      no  \n",
       "...     ...      ...     ...  \n",
       "7808     -1  unknown     yes  \n",
       "7809    184  success     yes  \n",
       "7810     -1  unknown      no  \n",
       "7811     -1  unknown      no  \n",
       "7812     -1  unknown     yes  \n",
       "\n",
       "[7813 rows x 11 columns]"
      ]
     },
     "execution_count": 35,
     "metadata": {},
     "output_type": "execute_result"
    }
   ],
   "source": [
    "data_with_outlier"
   ]
  },
  {
   "cell_type": "markdown",
   "metadata": {},
   "source": [
    "## `Job`\n",
    "\n",
    "Data unknown pada fitur job berkisar 0,6% maka diputuskan data akan tetap dipertahankan dan direplace menjadi pekerjaan lain2 other"
   ]
  },
  {
   "cell_type": "code",
   "execution_count": 37,
   "metadata": {},
   "outputs": [],
   "source": [
    "# Mengagnti data unknown menjadi other\n",
    "data_with_outlier['job'].replace('unknown', 'other', inplace=True)"
   ]
  },
  {
   "cell_type": "code",
   "execution_count": 42,
   "metadata": {},
   "outputs": [
    {
     "data": {
      "text/html": [
       "<div>\n",
       "<style scoped>\n",
       "    .dataframe tbody tr th:only-of-type {\n",
       "        vertical-align: middle;\n",
       "    }\n",
       "\n",
       "    .dataframe tbody tr th {\n",
       "        vertical-align: top;\n",
       "    }\n",
       "\n",
       "    .dataframe thead th {\n",
       "        text-align: right;\n",
       "    }\n",
       "</style>\n",
       "<table border=\"1\" class=\"dataframe\">\n",
       "  <thead>\n",
       "    <tr style=\"text-align: right;\">\n",
       "      <th></th>\n",
       "      <th>count</th>\n",
       "    </tr>\n",
       "    <tr>\n",
       "      <th>job</th>\n",
       "      <th></th>\n",
       "    </tr>\n",
       "  </thead>\n",
       "  <tbody>\n",
       "    <tr>\n",
       "      <th>management</th>\n",
       "      <td>1792</td>\n",
       "    </tr>\n",
       "    <tr>\n",
       "      <th>blue-collar</th>\n",
       "      <td>1346</td>\n",
       "    </tr>\n",
       "    <tr>\n",
       "      <th>technician</th>\n",
       "      <td>1291</td>\n",
       "    </tr>\n",
       "    <tr>\n",
       "      <th>admin.</th>\n",
       "      <td>936</td>\n",
       "    </tr>\n",
       "    <tr>\n",
       "      <th>services</th>\n",
       "      <td>658</td>\n",
       "    </tr>\n",
       "    <tr>\n",
       "      <th>retired</th>\n",
       "      <td>540</td>\n",
       "    </tr>\n",
       "    <tr>\n",
       "      <th>self-employed</th>\n",
       "      <td>280</td>\n",
       "    </tr>\n",
       "    <tr>\n",
       "      <th>unemployed</th>\n",
       "      <td>249</td>\n",
       "    </tr>\n",
       "    <tr>\n",
       "      <th>student</th>\n",
       "      <td>247</td>\n",
       "    </tr>\n",
       "    <tr>\n",
       "      <th>entrepreneur</th>\n",
       "      <td>236</td>\n",
       "    </tr>\n",
       "    <tr>\n",
       "      <th>housemaid</th>\n",
       "      <td>184</td>\n",
       "    </tr>\n",
       "    <tr>\n",
       "      <th>other</th>\n",
       "      <td>54</td>\n",
       "    </tr>\n",
       "  </tbody>\n",
       "</table>\n",
       "</div>"
      ],
      "text/plain": [
       "               count\n",
       "job                 \n",
       "management      1792\n",
       "blue-collar     1346\n",
       "technician      1291\n",
       "admin.           936\n",
       "services         658\n",
       "retired          540\n",
       "self-employed    280\n",
       "unemployed       249\n",
       "student          247\n",
       "entrepreneur     236\n",
       "housemaid        184\n",
       "other             54"
      ]
     },
     "execution_count": 42,
     "metadata": {},
     "output_type": "execute_result"
    }
   ],
   "source": [
    "# Melihat jumlah kemunculan setiap nilai dalam kolom 'job'\n",
    "job_count = data_with_outlier['job'].value_counts()\n",
    "pd.DataFrame(job_count)"
   ]
  },
  {
   "cell_type": "markdown",
   "metadata": {},
   "source": [
    "## `contact`"
   ]
  },
  {
   "cell_type": "markdown",
   "metadata": {},
   "source": [
    "Dari hasil perhitungan jumlah data 'unknown' pada `contact` sebesar 20,98 %. Melihat kategori  yang ada hanya 'cellular'dan 'telphone' bisa dikatakan proses pemasaran dilakukan komunikasi secara langsung dengan nasabah maka diputuskan menggantinya dengan dengan nilai modus"
   ]
  },
  {
   "cell_type": "code",
   "execution_count": 43,
   "metadata": {},
   "outputs": [
    {
     "data": {
      "text/plain": [
       "contact\n",
       "cellular     5628\n",
       "unknown      1639\n",
       "telephone     546\n",
       "Name: count, dtype: int64"
      ]
     },
     "execution_count": 43,
     "metadata": {},
     "output_type": "execute_result"
    }
   ],
   "source": [
    "data_with_outlier.contact.value_counts()"
   ]
  },
  {
   "cell_type": "code",
   "execution_count": 44,
   "metadata": {},
   "outputs": [],
   "source": [
    "# Menghitung modus dari kolom 'job'\n",
    "modus_contact = data_with_outlier['contact'].mode()[0]\n",
    "\n",
    "# Mengganti 'unknown' dengan modus\n",
    "data_with_outlier['contact'].replace('unknown', modus_contact, inplace=True)"
   ]
  },
  {
   "cell_type": "code",
   "execution_count": 45,
   "metadata": {},
   "outputs": [
    {
     "data": {
      "text/plain": [
       "0"
      ]
     },
     "execution_count": 45,
     "metadata": {},
     "output_type": "execute_result"
    }
   ],
   "source": [
    "(data_with_outlier['contact'] == 'unknown').sum()"
   ]
  },
  {
   "cell_type": "code",
   "execution_count": 46,
   "metadata": {},
   "outputs": [
    {
     "data": {
      "text/plain": [
       "contact\n",
       "cellular     7267\n",
       "telephone     546\n",
       "Name: count, dtype: int64"
      ]
     },
     "execution_count": 46,
     "metadata": {},
     "output_type": "execute_result"
    }
   ],
   "source": [
    "data_with_outlier.contact.value_counts()"
   ]
  },
  {
   "cell_type": "markdown",
   "metadata": {},
   "source": [
    "## `poutcome`"
   ]
  },
  {
   "cell_type": "markdown",
   "metadata": {},
   "source": [
    "Dari hasil pengecekan diketahui 'poutcome' memiliki 4 unik values: success, failure, other dan unknown (74,48%) maka bisa dibandingkan dengan kolom \"deposit\" yang secara jelas menunjukkan bahwa nasabah membuka rekening atau tidak dengan checking menggunakan pivot table."
   ]
  },
  {
   "cell_type": "code",
   "execution_count": 47,
   "metadata": {},
   "outputs": [
    {
     "name": "stdout",
     "output_type": "stream",
     "text": [
      "deposit     no   yes\n",
      "poutcome            \n",
      "failure    413   435\n",
      "other      159   226\n",
      "success     65   696\n",
      "unknown   3444  2375\n"
     ]
    }
   ],
   "source": [
    "# Membuat pivot table\n",
    "pivot_table = pd.pivot_table(data_with_outlier, \n",
    "                             index='poutcome', \n",
    "                             columns='deposit', \n",
    "                             aggfunc='size', \n",
    "                             fill_value=0)\n",
    "\n",
    "print(pivot_table)"
   ]
  },
  {
   "cell_type": "markdown",
   "metadata": {},
   "source": [
    "Dari pivot table  terlihat bahwa tidak ada indikasi hubungan antara unknown dan other terhadap deposito yang dibuat, karena baik other maupun unknown memiliki beberapa nilai di \"no\" dan \"yes\". \n",
    "\n",
    "Dari table terlihat ada nasabah yang secara kategori masuk ke dalam \"sukses\" di program pemasaran sebelumnya, namun  tidak melakukan deposit dananya. (poutcome = success tapi deposit = no)\n",
    "\n",
    "sebaliknya ada juga nasabah yang secara kategori masuk ke dalam \"gagal\" di program pemasaran sebelumnya, namun justru melakukan penempatan dana di bank. (poutcome = failure tapi deposit = yes)\n",
    "\n",
    "Dapat disimpulkan bahwa data tidak menentukan terhadap keputusan kesuksesan deposito, maka kolom poutcome akan tetap direplace menjadi other agar menyerderhanakan kategorik."
   ]
  },
  {
   "cell_type": "code",
   "execution_count": 48,
   "metadata": {},
   "outputs": [],
   "source": [
    "# Mengagnti data unknown menjadi other\n",
    "data_with_outlier['poutcome'].replace('unknown', 'other', inplace=True)"
   ]
  },
  {
   "cell_type": "code",
   "execution_count": 49,
   "metadata": {},
   "outputs": [
    {
     "data": {
      "text/plain": [
       "poutcome\n",
       "other      6204\n",
       "failure     848\n",
       "success     761\n",
       "Name: count, dtype: int64"
      ]
     },
     "execution_count": 49,
     "metadata": {},
     "output_type": "execute_result"
    }
   ],
   "source": [
    "data_with_outlier.poutcome.value_counts()"
   ]
  },
  {
   "cell_type": "markdown",
   "metadata": {},
   "source": [
    "## `pdays`\n",
    "\n",
    "Pada colom pdays terdapat nilai -1. nilai -1 diartikan sebagai customer yang tidak dihubungi di periode kampanye sebelumnya. nilai -1 pada kolom pdays ini akan diganti menjadi 0, agar tidak memberikan nilai saat pemodelan.\n"
   ]
  },
  {
   "cell_type": "code",
   "execution_count": 50,
   "metadata": {},
   "outputs": [],
   "source": [
    "# mengganti data pada kolom pdays dari -1 ke 0\n",
    "data = data_with_outlier.replace(-1,0, inplace =True)"
   ]
  },
  {
   "cell_type": "markdown",
   "metadata": {},
   "source": [
    "## Outliers `age` , `balance` , `pdays` dan `campaign`\n",
    "\n",
    "Terdapat data outliers pada semua kolom numerikal, tetapi akan diabaikan dan tetap digunakan untuk pembuatan model karena dianggap sesuai dengan kondisi aktual.\n",
    "\n",
    "Age : sangat wajar terdapat beberapa nasabah yang usianya sudah lanjut dan masih dapat dihubungi.\n",
    "\n",
    "Balance : sangat wajar terdapat nasabah-nasabah dengan saldo tinggi. (jumlah nasabah prioritas lebih sedikit daripada nasabah umum)\n",
    "\n",
    "pdays : sangat wajar nasabah yang pernah dihubungi pada suatu program, namun karena tidak memberikan respon positif maka tidak dihubungi lagi untuk program berikutnya.\n",
    "\n",
    "campaign : sangat wajar terdapat nasabah yang tidak mengangkat telepon sehingga petugas menghubungi nasabah tersebut berkali-kali."
   ]
  },
  {
   "cell_type": "code",
   "execution_count": 41,
   "metadata": {},
   "outputs": [
    {
     "data": {
      "text/plain": [
       "age\n",
       "31    351\n",
       "32    344\n",
       "30    329\n",
       "35    324\n",
       "33    317\n",
       "     ... \n",
       "93      2\n",
       "86      2\n",
       "90      2\n",
       "92      1\n",
       "95      1\n",
       "Name: count, Length: 75, dtype: int64"
      ]
     },
     "execution_count": 41,
     "metadata": {},
     "output_type": "execute_result"
    }
   ],
   "source": [
    "age_count = data_with_outlier['age'].value_counts()\n",
    "age_count"
   ]
  },
  {
   "cell_type": "code",
   "execution_count": 56,
   "metadata": {},
   "outputs": [
    {
     "data": {
      "text/plain": [
       "campaign\n",
       "1     3354\n",
       "2     2108\n",
       "3      922\n",
       "4      548\n",
       "5      256\n",
       "6      196\n",
       "7      103\n",
       "8       89\n",
       "9       47\n",
       "10      41\n",
       "Name: count, dtype: int64"
      ]
     },
     "execution_count": 56,
     "metadata": {},
     "output_type": "execute_result"
    }
   ],
   "source": [
    "age_count = data_with_outlier['campaign'].value_counts()\n",
    "age_count.head(10)"
   ]
  },
  {
   "cell_type": "markdown",
   "metadata": {},
   "source": [
    "# Data Analysis"
   ]
  },
  {
   "cell_type": "markdown",
   "metadata": {},
   "source": [
    "Sebagaimana dijelaskan sebelumnya, kita akan menggunakan parameter \"deposit\" sebagai tolak ukur kesuksesan (yes & no). "
   ]
  },
  {
   "cell_type": "code",
   "execution_count": 58,
   "metadata": {},
   "outputs": [
    {
     "data": {
      "image/png": "[encoded data removed]",
      "text/plain": [
       "<Figure size 700x700 with 1 Axes>"
      ]
     },
     "metadata": {},
     "output_type": "display_data"
    }
   ],
   "source": [
    "plt.figure(figsize=(7, 7))\n",
    "sns.countplot(x='deposit', data=data_with_outlier)\n",
    "plt.title('Distribution of Deposit (Target)')\n",
    "plt.show()"
   ]
  },
  {
   "cell_type": "code",
   "execution_count": 59,
   "metadata": {},
   "outputs": [
    {
     "data": {
      "image/png": "[encoded data removed]",
      "text/plain": [
       "<Figure size 700x700 with 1 Axes>"
      ]
     },
     "metadata": {},
     "output_type": "display_data"
    }
   ],
   "source": [
    "#Menggunakan piechart\n",
    "plt.figure(figsize=(7, 7))\n",
    "plt.pie(data_with_outlier['deposit'].value_counts(), labels=data_with_outlier['deposit'].value_counts().index, autopct='%1.1f%%', startangle=90)\n",
    "plt.title('Distribution of Deposit')\n",
    "plt.show()"
   ]
  },
  {
   "cell_type": "markdown",
   "metadata": {},
   "source": [
    "Perbandingan depositor antara '(Yes)' dan '(No)' relatif seimbang, sehingga tidak diperlukan treatment data imbalance."
   ]
  },
  {
   "cell_type": "markdown",
   "metadata": {},
   "source": [
    "# Data Splitting"
   ]
  },
  {
   "cell_type": "code",
   "execution_count": 60,
   "metadata": {},
   "outputs": [],
   "source": [
    "X = data_with_outlier.drop('deposit', axis=1)\n",
    "y = data_with_outlier['deposit'].map({'yes': 1, 'no': 0})"
   ]
  },
  {
   "cell_type": "code",
   "execution_count": 62,
   "metadata": {},
   "outputs": [],
   "source": [
    "X_train, X_test, y_train, y_test = train_test_split(\n",
    "    X,\n",
    "    y,\n",
    "    test_size = 0.2,\n",
    "    random_state = 42,\n",
    "    stratify = y \n",
    ")"
   ]
  },
  {
   "cell_type": "code",
   "execution_count": 63,
   "metadata": {},
   "outputs": [
    {
     "data": {
      "text/plain": [
       "((6250, 10), (1563, 10), (6250,), (1563,))"
      ]
     },
     "execution_count": 63,
     "metadata": {},
     "output_type": "execute_result"
    }
   ],
   "source": [
    "X_train.shape, X_test.shape, y_train.shape, y_test.shape"
   ]
  },
  {
   "cell_type": "markdown",
   "metadata": {},
   "source": [
    "# Data Preparation"
   ]
  },
  {
   "cell_type": "code",
   "execution_count": 64,
   "metadata": {},
   "outputs": [
    {
     "name": "stdout",
     "output_type": "stream",
     "text": [
      "<class 'pandas.core.frame.DataFrame'>\n",
      "RangeIndex: 7813 entries, 0 to 7812\n",
      "Data columns (total 11 columns):\n",
      " #   Column    Non-Null Count  Dtype \n",
      "---  ------    --------------  ----- \n",
      " 0   age       7813 non-null   int64 \n",
      " 1   job       7813 non-null   object\n",
      " 2   balance   7813 non-null   int64 \n",
      " 3   housing   7813 non-null   object\n",
      " 4   loan      7813 non-null   object\n",
      " 5   contact   7813 non-null   object\n",
      " 6   month     7813 non-null   object\n",
      " 7   campaign  7813 non-null   int64 \n",
      " 8   pdays     7813 non-null   int64 \n",
      " 9   poutcome  7813 non-null   object\n",
      " 10  deposit   7813 non-null   object\n",
      "dtypes: int64(4), object(7)\n",
      "memory usage: 671.6+ KB\n"
     ]
    }
   ],
   "source": [
    "data_with_outlier.info()"
   ]
  },
  {
   "cell_type": "markdown",
   "metadata": {},
   "source": [
    "Fitur yang belum bertipe data numerik, akan dilakukan encoding/preprosesing terlebih dahulu agar dapat masuk dalam pemodelan."
   ]
  },
  {
   "cell_type": "markdown",
   "metadata": {},
   "source": [
    "Sekarang mari kita melakukan fitur encoding untuk fitur2 categorical yang kita miliki. Yang akan kita lakukan adalah :\n",
    "1. Merubah fitur/kolom `job` menggunakan Binary Encoding, karena fitur ini tidak memiliki  jumlah unique lebih dari 5.\n",
    "2. Merubah fitur/kolom `housing` menggunakan One Hot Encoding, karena fitur ini tidak memiliki urutan/tidak ordinal, dan juga jumlah unique datanya hanya sedikit = 2.\n",
    "3. Merubah fitur/kolom `loan` menggunakan One Hot Encoding, karena fitur ini tidak memiliki urutan/tidak ordinal, dan juga jumlah unique datanya hanya sedikit = 2.\n",
    "4. Merubah fitur/kolom `contact` menggunakan One Hot Encoding, karena fitur ini tidak memiliki urutan/tidak ordinal, dan juga jumlah unique datanya hanya sedikit = 2.\n",
    "5. Merubah fitur/kolom `month` menggunakan Ordinal Encoding, karena fitur ini memiliki urutan dan punya 12 unique.\n",
    "6. Merubah fitur/kolom `poutcome` menggunakan One Hot Encoding, karena fitur ini tidak memiliki urutan/tidak ordinal, dan juga jumlah unique datanya hanya sedikit = 4.\n",
    "\n",
    "RobustScaler pada semua kolom numerik (semua data tidak normal)agar bisa mengurangi pengaruh outlier.\n"
   ]
  },
  {
   "cell_type": "code",
   "execution_count": 65,
   "metadata": {},
   "outputs": [],
   "source": [
    "ordinal_mapping = [\n",
    "    {'col':'month',\n",
    "    'mapping':{\n",
    "        'jan'       :    1,\n",
    "        'feb'       :    2, \n",
    "        'mar'       :    3, \n",
    "        'apr'       :    4, \n",
    "        'may'       :    5, \n",
    "        'jun'       :    6,\n",
    "        'jul'       :    7,\n",
    "        'aug'       :    8,\n",
    "        'sep'       :    9, \n",
    "        'oct'       :    10, \n",
    "        'nov'       :    11, \n",
    "        'dec'       :    12,\n",
    "    }}\n",
    "]"
   ]
  },
  {
   "cell_type": "code",
   "execution_count": 66,
   "metadata": {},
   "outputs": [
    {
     "data": {
      "text/html": [
       "<style>#sk-container-id-1 {color: black;background-color: white;}#sk-container-id-1 pre{padding: 0;}#sk-container-id-1 div.sk-toggleable {background-color: white;}#sk-container-id-1 label.sk-toggleable__label {cursor: pointer;display: block;width: 100%;margin-bottom: 0;padding: 0.3em;box-sizing: border-box;text-align: center;}#sk-container-id-1 label.sk-toggleable__label-arrow:before {content: \"▸\";float: left;margin-right: 0.25em;color: #696969;}#sk-container-id-1 label.sk-toggleable__label-arrow:hover:before {color: black;}#sk-container-id-1 div.sk-estimator:hover label.sk-toggleable__label-arrow:before {color: black;}#sk-container-id-1 div.sk-toggleable__content {max-height: 0;max-width: 0;overflow: hidden;text-align: left;background-color: #f0f8ff;}#sk-container-id-1 div.sk-toggleable__content pre {margin: 0.2em;color: black;border-radius: 0.25em;background-color: #f0f8ff;}#sk-container-id-1 input.sk-toggleable__control:checked~div.sk-toggleable__content {max-height: 200px;max-width: 100%;overflow: auto;}#sk-container-id-1 input.sk-toggleable__control:checked~label.sk-toggleable__label-arrow:before {content: \"▾\";}#sk-container-id-1 div.sk-estimator input.sk-toggleable__control:checked~label.sk-toggleable__label {background-color: #d4ebff;}#sk-container-id-1 div.sk-label input.sk-toggleable__control:checked~label.sk-toggleable__label {background-color: #d4ebff;}#sk-container-id-1 input.sk-hidden--visually {border: 0;clip: rect(1px 1px 1px 1px);clip: rect(1px, 1px, 1px, 1px);height: 1px;margin: -1px;overflow: hidden;padding: 0;position: absolute;width: 1px;}#sk-container-id-1 div.sk-estimator {font-family: monospace;background-color: #f0f8ff;border: 1px dotted black;border-radius: 0.25em;box-sizing: border-box;margin-bottom: 0.5em;}#sk-container-id-1 div.sk-estimator:hover {background-color: #d4ebff;}#sk-container-id-1 div.sk-parallel-item::after {content: \"\";width: 100%;border-bottom: 1px solid gray;flex-grow: 1;}#sk-container-id-1 div.sk-label:hover label.sk-toggleable__label {background-color: #d4ebff;}#sk-container-id-1 div.sk-serial::before {content: \"\";position: absolute;border-left: 1px solid gray;box-sizing: border-box;top: 0;bottom: 0;left: 50%;z-index: 0;}#sk-container-id-1 div.sk-serial {display: flex;flex-direction: column;align-items: center;background-color: white;padding-right: 0.2em;padding-left: 0.2em;position: relative;}#sk-container-id-1 div.sk-item {position: relative;z-index: 1;}#sk-container-id-1 div.sk-parallel {display: flex;align-items: stretch;justify-content: center;background-color: white;position: relative;}#sk-container-id-1 div.sk-item::before, #sk-container-id-1 div.sk-parallel-item::before {content: \"\";position: absolute;border-left: 1px solid gray;box-sizing: border-box;top: 0;bottom: 0;left: 50%;z-index: -1;}#sk-container-id-1 div.sk-parallel-item {display: flex;flex-direction: column;z-index: 1;position: relative;background-color: white;}#sk-container-id-1 div.sk-parallel-item:first-child::after {align-self: flex-end;width: 50%;}#sk-container-id-1 div.sk-parallel-item:last-child::after {align-self: flex-start;width: 50%;}#sk-container-id-1 div.sk-parallel-item:only-child::after {width: 0;}#sk-container-id-1 div.sk-dashed-wrapped {border: 1px dashed gray;margin: 0 0.4em 0.5em 0.4em;box-sizing: border-box;padding-bottom: 0.4em;background-color: white;}#sk-container-id-1 div.sk-label label {font-family: monospace;font-weight: bold;display: inline-block;line-height: 1.2em;}#sk-container-id-1 div.sk-label-container {text-align: center;}#sk-container-id-1 div.sk-container {/* jupyter's `normalize.less` sets `[hidden] { display: none; }` but bootstrap.min.css set `[hidden] { display: none !important; }` so we also need the `!important` here to be able to override the default hidden behavior on the sphinx rendered scikit-learn.org. See: https://github.com/scikit-learn/scikit-learn/issues/21755 */display: inline-block !important;position: relative;}#sk-container-id-1 div.sk-text-repr-fallback {display: none;}</style><div id=\"sk-container-id-1\" class=\"sk-top-container\"><div class=\"sk-text-repr-fallback\"><pre>ColumnTransformer(remainder=&#x27;passthrough&#x27;,\n",
       "                  transformers=[(&#x27;one hot&#x27;, OneHotEncoder(drop=&#x27;first&#x27;),\n",
       "                                 [&#x27;housing&#x27;, &#x27;loan&#x27;, &#x27;contact&#x27;, &#x27;poutcome&#x27;]),\n",
       "                                (&#x27;binary&#x27;, BinaryEncoder(), [&#x27;job&#x27;]),\n",
       "                                (&#x27;ordinal&#x27;,\n",
       "                                 OrdinalEncoder(mapping=[{&#x27;col&#x27;: &#x27;month&#x27;,\n",
       "                                                          &#x27;data_type&#x27;: dtype(&#x27;O&#x27;),\n",
       "                                                          &#x27;mapping&#x27;: jan     1\n",
       "feb     2\n",
       "mar     3\n",
       "apr     4\n",
       "may     5\n",
       "jun     6\n",
       "jul     7\n",
       "aug     8\n",
       "sep     9\n",
       "oct    10\n",
       "nov    11\n",
       "dec    12\n",
       "dtype: int64}]),\n",
       "                                 [&#x27;month&#x27;]),\n",
       "                                (&#x27;scaler&#x27;, RobustScaler(),\n",
       "                                 Index([&#x27;age&#x27;, &#x27;balance&#x27;, &#x27;campaign&#x27;, &#x27;pdays&#x27;], dtype=&#x27;object&#x27;))])</pre><b>In a Jupyter environment, please rerun this cell to show the HTML representation or trust the notebook. <br />On GitHub, the HTML representation is unable to render, please try loading this page with nbviewer.org.</b></div><div class=\"sk-container\" hidden><div class=\"sk-item sk-dashed-wrapped\"><div class=\"sk-label-container\"><div class=\"sk-label sk-toggleable\"><input class=\"sk-toggleable__control sk-hidden--visually\" id=\"sk-estimator-id-1\" type=\"checkbox\" ><label for=\"sk-estimator-id-1\" class=\"sk-toggleable__label sk-toggleable__label-arrow\">ColumnTransformer</label><div class=\"sk-toggleable__content\"><pre>ColumnTransformer(remainder=&#x27;passthrough&#x27;,\n",
       "                  transformers=[(&#x27;one hot&#x27;, OneHotEncoder(drop=&#x27;first&#x27;),\n",
       "                                 [&#x27;housing&#x27;, &#x27;loan&#x27;, &#x27;contact&#x27;, &#x27;poutcome&#x27;]),\n",
       "                                (&#x27;binary&#x27;, BinaryEncoder(), [&#x27;job&#x27;]),\n",
       "                                (&#x27;ordinal&#x27;,\n",
       "                                 OrdinalEncoder(mapping=[{&#x27;col&#x27;: &#x27;month&#x27;,\n",
       "                                                          &#x27;data_type&#x27;: dtype(&#x27;O&#x27;),\n",
       "                                                          &#x27;mapping&#x27;: jan     1\n",
       "feb     2\n",
       "mar     3\n",
       "apr     4\n",
       "may     5\n",
       "jun     6\n",
       "jul     7\n",
       "aug     8\n",
       "sep     9\n",
       "oct    10\n",
       "nov    11\n",
       "dec    12\n",
       "dtype: int64}]),\n",
       "                                 [&#x27;month&#x27;]),\n",
       "                                (&#x27;scaler&#x27;, RobustScaler(),\n",
       "                                 Index([&#x27;age&#x27;, &#x27;balance&#x27;, &#x27;campaign&#x27;, &#x27;pdays&#x27;], dtype=&#x27;object&#x27;))])</pre></div></div></div><div class=\"sk-parallel\"><div class=\"sk-parallel-item\"><div class=\"sk-item\"><div class=\"sk-label-container\"><div class=\"sk-label sk-toggleable\"><input class=\"sk-toggleable__control sk-hidden--visually\" id=\"sk-estimator-id-2\" type=\"checkbox\" ><label for=\"sk-estimator-id-2\" class=\"sk-toggleable__label sk-toggleable__label-arrow\">one hot</label><div class=\"sk-toggleable__content\"><pre>[&#x27;housing&#x27;, &#x27;loan&#x27;, &#x27;contact&#x27;, &#x27;poutcome&#x27;]</pre></div></div></div><div class=\"sk-serial\"><div class=\"sk-item\"><div class=\"sk-estimator sk-toggleable\"><input class=\"sk-toggleable__control sk-hidden--visually\" id=\"sk-estimator-id-3\" type=\"checkbox\" ><label for=\"sk-estimator-id-3\" class=\"sk-toggleable__label sk-toggleable__label-arrow\">OneHotEncoder</label><div class=\"sk-toggleable__content\"><pre>OneHotEncoder(drop=&#x27;first&#x27;)</pre></div></div></div></div></div></div><div class=\"sk-parallel-item\"><div class=\"sk-item\"><div class=\"sk-label-container\"><div class=\"sk-label sk-toggleable\"><input class=\"sk-toggleable__control sk-hidden--visually\" id=\"sk-estimator-id-4\" type=\"checkbox\" ><label for=\"sk-estimator-id-4\" class=\"sk-toggleable__label sk-toggleable__label-arrow\">binary</label><div class=\"sk-toggleable__content\"><pre>[&#x27;job&#x27;]</pre></div></div></div><div class=\"sk-serial\"><div class=\"sk-item\"><div class=\"sk-estimator sk-toggleable\"><input class=\"sk-toggleable__control sk-hidden--visually\" id=\"sk-estimator-id-5\" type=\"checkbox\" ><label for=\"sk-estimator-id-5\" class=\"sk-toggleable__label sk-toggleable__label-arrow\">BinaryEncoder</label><div class=\"sk-toggleable__content\"><pre>BinaryEncoder()</pre></div></div></div></div></div></div><div class=\"sk-parallel-item\"><div class=\"sk-item\"><div class=\"sk-label-container\"><div class=\"sk-label sk-toggleable\"><input class=\"sk-toggleable__control sk-hidden--visually\" id=\"sk-estimator-id-6\" type=\"checkbox\" ><label for=\"sk-estimator-id-6\" class=\"sk-toggleable__label sk-toggleable__label-arrow\">ordinal</label><div class=\"sk-toggleable__content\"><pre>[&#x27;month&#x27;]</pre></div></div></div><div class=\"sk-serial\"><div class=\"sk-item\"><div class=\"sk-estimator sk-toggleable\"><input class=\"sk-toggleable__control sk-hidden--visually\" id=\"sk-estimator-id-7\" type=\"checkbox\" ><label for=\"sk-estimator-id-7\" class=\"sk-toggleable__label sk-toggleable__label-arrow\">OrdinalEncoder</label><div class=\"sk-toggleable__content\"><pre>OrdinalEncoder(mapping=[{&#x27;col&#x27;: &#x27;month&#x27;, &#x27;data_type&#x27;: dtype(&#x27;O&#x27;),\n",
       "                         &#x27;mapping&#x27;: jan     1\n",
       "feb     2\n",
       "mar     3\n",
       "apr     4\n",
       "may     5\n",
       "jun     6\n",
       "jul     7\n",
       "aug     8\n",
       "sep     9\n",
       "oct    10\n",
       "nov    11\n",
       "dec    12\n",
       "dtype: int64}])</pre></div></div></div></div></div></div><div class=\"sk-parallel-item\"><div class=\"sk-item\"><div class=\"sk-label-container\"><div class=\"sk-label sk-toggleable\"><input class=\"sk-toggleable__control sk-hidden--visually\" id=\"sk-estimator-id-8\" type=\"checkbox\" ><label for=\"sk-estimator-id-8\" class=\"sk-toggleable__label sk-toggleable__label-arrow\">scaler</label><div class=\"sk-toggleable__content\"><pre>Index([&#x27;age&#x27;, &#x27;balance&#x27;, &#x27;campaign&#x27;, &#x27;pdays&#x27;], dtype=&#x27;object&#x27;)</pre></div></div></div><div class=\"sk-serial\"><div class=\"sk-item\"><div class=\"sk-estimator sk-toggleable\"><input class=\"sk-toggleable__control sk-hidden--visually\" id=\"sk-estimator-id-9\" type=\"checkbox\" ><label for=\"sk-estimator-id-9\" class=\"sk-toggleable__label sk-toggleable__label-arrow\">RobustScaler</label><div class=\"sk-toggleable__content\"><pre>RobustScaler()</pre></div></div></div></div></div></div><div class=\"sk-parallel-item\"><div class=\"sk-item\"><div class=\"sk-label-container\"><div class=\"sk-label sk-toggleable\"><input class=\"sk-toggleable__control sk-hidden--visually\" id=\"sk-estimator-id-10\" type=\"checkbox\" ><label for=\"sk-estimator-id-10\" class=\"sk-toggleable__label sk-toggleable__label-arrow\">remainder</label><div class=\"sk-toggleable__content\"><pre></pre></div></div></div><div class=\"sk-serial\"><div class=\"sk-item\"><div class=\"sk-estimator sk-toggleable\"><input class=\"sk-toggleable__control sk-hidden--visually\" id=\"sk-estimator-id-11\" type=\"checkbox\" ><label for=\"sk-estimator-id-11\" class=\"sk-toggleable__label sk-toggleable__label-arrow\">passthrough</label><div class=\"sk-toggleable__content\"><pre>passthrough</pre></div></div></div></div></div></div></div></div></div></div>"
      ],
      "text/plain": [
       "ColumnTransformer(remainder='passthrough',\n",
       "                  transformers=[('one hot', OneHotEncoder(drop='first'),\n",
       "                                 ['housing', 'loan', 'contact', 'poutcome']),\n",
       "                                ('binary', BinaryEncoder(), ['job']),\n",
       "                                ('ordinal',\n",
       "                                 OrdinalEncoder(mapping=[{'col': 'month',\n",
       "                                                          'data_type': dtype('O'),\n",
       "                                                          'mapping': jan     1\n",
       "feb     2\n",
       "mar     3\n",
       "apr     4\n",
       "may     5\n",
       "jun     6\n",
       "jul     7\n",
       "aug     8\n",
       "sep     9\n",
       "oct    10\n",
       "nov    11\n",
       "dec    12\n",
       "dtype: int64}]),\n",
       "                                 ['month']),\n",
       "                                ('scaler', RobustScaler(),\n",
       "                                 Index(['age', 'balance', 'campaign', 'pdays'], dtype='object'))])"
      ]
     },
     "execution_count": 66,
     "metadata": {},
     "output_type": "execute_result"
    }
   ],
   "source": [
    "transformer = ColumnTransformer([\n",
    "    ('one hot', OneHotEncoder(drop = 'first'), ['housing','loan','contact','poutcome']),\n",
    "    ('binary', BinaryEncoder(), ['job']),\n",
    "    ('ordinal', ce.OrdinalEncoder(mapping = ordinal_mapping), ['month']),\n",
    "    ('scaler', RobustScaler(), X_train.select_dtypes(include = 'number').columns)\n",
    "], remainder = 'passthrough')\n",
    "transformer"
   ]
  },
  {
   "cell_type": "code",
   "execution_count": 68,
   "metadata": {},
   "outputs": [
    {
     "data": {
      "text/plain": [
       "array([[ 1.        ,  0.        ,  0.        , ...,  0.00447642,\n",
       "         0.        ,  3.5       ],\n",
       "       [ 1.        ,  0.        ,  0.        , ..., -0.10615508,\n",
       "        -0.5       ,  0.        ],\n",
       "       [ 1.        ,  0.        ,  0.        , ..., -0.31143086,\n",
       "        -0.5       ,  0.        ],\n",
       "       ...,\n",
       "       [ 0.        ,  0.        ,  0.        , ..., -0.33445244,\n",
       "         0.        ,  0.        ],\n",
       "       [ 1.        ,  0.        ,  0.        , ..., -0.34916067,\n",
       "         0.        ,  0.        ],\n",
       "       [ 1.        ,  1.        ,  0.        , ...,  1.04684253,\n",
       "         0.5       ,  0.        ]])"
      ]
     },
     "execution_count": 68,
     "metadata": {},
     "output_type": "execute_result"
    }
   ],
   "source": [
    "x_train_preprocessed = transformer.fit_transform(X_train)\n",
    "x_train_preprocessed"
   ]
  },
  {
   "cell_type": "markdown",
   "metadata": {},
   "source": [
    "# Modelling"
   ]
  },
  {
   "cell_type": "markdown",
   "metadata": {},
   "source": [
    "## Rule Based Model (non ML)"
   ]
  },
  {
   "cell_type": "code",
   "execution_count": 69,
   "metadata": {},
   "outputs": [],
   "source": [
    "# buat rumus rule based\n",
    "def rule_based(row):\n",
    "    if (row['age']>30) and row['balance'] > 1000:\n",
    "        return 1\n",
    "    else:\n",
    "        return 0"
   ]
  },
  {
   "cell_type": "code",
   "execution_count": 72,
   "metadata": {},
   "outputs": [],
   "source": [
    "y_pred_train_rule_based = X_train.apply(rule_based, axis = 1)\n",
    "score_train_rule_based = recall_score(y_train, y_pred_train_rule_based)\n",
    "\n",
    "y_pred_test_rule_based = X_test.apply(rule_based, axis = 1)\n",
    "score_test_rule_based = recall_score(y_test, y_pred_test_rule_based)\n"
   ]
  },
  {
   "cell_type": "code",
   "execution_count": 73,
   "metadata": {},
   "outputs": [
    {
     "data": {
      "text/html": [
       "<div>\n",
       "<style scoped>\n",
       "    .dataframe tbody tr th:only-of-type {\n",
       "        vertical-align: middle;\n",
       "    }\n",
       "\n",
       "    .dataframe tbody tr th {\n",
       "        vertical-align: top;\n",
       "    }\n",
       "\n",
       "    .dataframe thead th {\n",
       "        text-align: right;\n",
       "    }\n",
       "</style>\n",
       "<table border=\"1\" class=\"dataframe\">\n",
       "  <thead>\n",
       "    <tr style=\"text-align: right;\">\n",
       "      <th></th>\n",
       "      <th>model</th>\n",
       "      <th>matrics score</th>\n",
       "      <th>train_score_mean</th>\n",
       "      <th>train_score_std</th>\n",
       "      <th>test_score</th>\n",
       "    </tr>\n",
       "  </thead>\n",
       "  <tbody>\n",
       "    <tr>\n",
       "      <th>0</th>\n",
       "      <td>Rule Based</td>\n",
       "      <td>Recall</td>\n",
       "      <td>0.349414</td>\n",
       "      <td>None</td>\n",
       "      <td>0.384203</td>\n",
       "    </tr>\n",
       "  </tbody>\n",
       "</table>\n",
       "</div>"
      ],
      "text/plain": [
       "        model matrics score  train_score_mean train_score_std  test_score\n",
       "0  Rule Based        Recall          0.349414            None    0.384203"
      ]
     },
     "execution_count": 73,
     "metadata": {},
     "output_type": "execute_result"
    }
   ],
   "source": [
    "data1 = pd.DataFrame({\n",
    "    'model': ['Rule Based'],\n",
    "    'matrics score' : 'Recall',\n",
    "    'train_score_mean': [score_train_rule_based],\n",
    "    'train_score_std': None,\n",
    "    'test_score': [score_test_rule_based]})\n",
    "data1"
   ]
  },
  {
   "cell_type": "markdown",
   "metadata": {},
   "source": [
    "Kalau hanya menggunakan rule based sederhana (Hanya dua fitur) akurasinya bisa disimpulkan 38%. Maka ini model ML harus lebih baik dibandingkan hanya sekedar menggunakan rule based sederhana"
   ]
  },
  {
   "cell_type": "markdown",
   "metadata": {},
   "source": [
    "## Model Selection"
   ]
  },
  {
   "cell_type": "markdown",
   "metadata": {},
   "source": [
    "### Based Model"
   ]
  },
  {
   "cell_type": "code",
   "execution_count": 138,
   "metadata": {},
   "outputs": [],
   "source": [
    "# base model\n",
    "lr = LogisticRegression(max_iter = 1000)\n",
    "dt = DecisionTreeClassifier(random_state=42)\n",
    "knn = KNeighborsClassifier()\n",
    "\n",
    "# voting\n",
    "vc_hard = VotingClassifier([\n",
    "    ('lr', lr),\n",
    "    ('dt', dt),\n",
    "    ('knn', knn)\n",
    "    ], voting = 'hard')\n",
    "vc_soft = VotingClassifier([\n",
    "    ('lr', lr),\n",
    "    ('dt', dt),\n",
    "    ('knn', knn)\n",
    "    ], voting = 'soft')\n",
    "\n",
    "# stacking\n",
    "base_model = ([\n",
    "    ('lr', lr),\n",
    "    ('dt', dt),\n",
    "    ('knn', knn)\n",
    "])\n",
    "meta_model = LogisticRegression()\n",
    "stacking = StackingClassifier(base_model,meta_model)\n",
    "\n",
    "# bagging\n",
    "rf = RandomForestClassifier(random_state=42)\n",
    "\n",
    "# boosting\n",
    "gb = GradientBoostingClassifier(random_state=42)\n",
    "xgb = XGBClassifier(random_state=42)"
   ]
  },
  {
   "cell_type": "code",
   "execution_count": 139,
   "metadata": {},
   "outputs": [
    {
     "data": {
      "text/plain": [
       "((6250, 10), (1563, 10), (6250,), (1563,))"
      ]
     },
     "execution_count": 139,
     "metadata": {},
     "output_type": "execute_result"
    }
   ],
   "source": [
    "X_train.shape,X_test.shape, y_train.shape, y_test.shape"
   ]
  },
  {
   "cell_type": "code",
   "execution_count": 140,
   "metadata": {},
   "outputs": [],
   "source": [
    "# Lists to store the results\n",
    "train_score_list = []\n",
    "train_score_std_list = []\n",
    "test_score_list = []"
   ]
  },
  {
   "cell_type": "code",
   "execution_count": 141,
   "metadata": {},
   "outputs": [],
   "source": [
    "# Loop over models\n",
    "for model in [lr, dt, knn, vc_hard, vc_soft, stacking, rf, gb, xgb]:\n",
    "    # Create a pipeline with a transformer and the model\n",
    "    pipeline = Pipeline([\n",
    "        ('transformer', transformer),  # Transformer diterapkan pada X_train\n",
    "        ('model', model)\n",
    "    ])\n",
    "\n",
    "    # Perform cross-validation on the training set\n",
    "    score = cross_val_score(pipeline, X_train, y_train, cv=StratifiedKFold(n_splits=5), scoring='recall')\n",
    "\n",
    "    # Store the mean and std of cross-validation f1 scores\n",
    "    train_score_list.append(score.mean())\n",
    "    train_score_std_list.append(score.std())\n",
    "\n",
    "    # Prediksi\n",
    "    pipeline.fit(X_train, y_train)\n",
    "    ypred_test = pipeline.predict(X_test)\n",
    "\n",
    "    # Evaluasi\n",
    "    test_score = recall_score(y_test, ypred_test)\n",
    "    test_score_list.append(test_score)"
   ]
  },
  {
   "cell_type": "code",
   "execution_count": 142,
   "metadata": {},
   "outputs": [
    {
     "data": {
      "text/html": [
       "<style type=\"text/css\">\n",
       "#T_005b3_row0_col4, #T_005b3_row1_col2, #T_005b3_row1_col4 {\n",
       "  background-color: yellow;\n",
       "}\n",
       "</style>\n",
       "<table id=\"T_005b3\">\n",
       "  <thead>\n",
       "    <tr>\n",
       "      <th class=\"blank level0\" >&nbsp;</th>\n",
       "      <th id=\"T_005b3_level0_col0\" class=\"col_heading level0 col0\" >model</th>\n",
       "      <th id=\"T_005b3_level0_col1\" class=\"col_heading level0 col1\" >matrics score</th>\n",
       "      <th id=\"T_005b3_level0_col2\" class=\"col_heading level0 col2\" >train_score_mean</th>\n",
       "      <th id=\"T_005b3_level0_col3\" class=\"col_heading level0 col3\" >train_score_std</th>\n",
       "      <th id=\"T_005b3_level0_col4\" class=\"col_heading level0 col4\" >test_score</th>\n",
       "    </tr>\n",
       "  </thead>\n",
       "  <tbody>\n",
       "    <tr>\n",
       "      <th id=\"T_005b3_level0_row0\" class=\"row_heading level0 row0\" >4</th>\n",
       "      <td id=\"T_005b3_row0_col0\" class=\"data row0 col0\" >VC Soft</td>\n",
       "      <td id=\"T_005b3_row0_col1\" class=\"data row0 col1\" >Recall</td>\n",
       "      <td id=\"T_005b3_row0_col2\" class=\"data row0 col2\" >0.598995</td>\n",
       "      <td id=\"T_005b3_row0_col3\" class=\"data row0 col3\" >0.011341</td>\n",
       "      <td id=\"T_005b3_row0_col4\" class=\"data row0 col4\" >0.618474</td>\n",
       "    </tr>\n",
       "    <tr>\n",
       "      <th id=\"T_005b3_level0_row1\" class=\"row_heading level0 row1\" >6</th>\n",
       "      <td id=\"T_005b3_row1_col0\" class=\"data row1 col0\" >Random Forest</td>\n",
       "      <td id=\"T_005b3_row1_col1\" class=\"data row1 col1\" >Recall</td>\n",
       "      <td id=\"T_005b3_row1_col2\" class=\"data row1 col2\" >0.600670</td>\n",
       "      <td id=\"T_005b3_row1_col3\" class=\"data row1 col3\" >0.010938</td>\n",
       "      <td id=\"T_005b3_row1_col4\" class=\"data row1 col4\" >0.618474</td>\n",
       "    </tr>\n",
       "    <tr>\n",
       "      <th id=\"T_005b3_level0_row2\" class=\"row_heading level0 row2\" >5</th>\n",
       "      <td id=\"T_005b3_row2_col0\" class=\"data row2 col0\" >Stacking</td>\n",
       "      <td id=\"T_005b3_row2_col1\" class=\"data row2 col1\" >Recall</td>\n",
       "      <td id=\"T_005b3_row2_col2\" class=\"data row2 col2\" >0.586600</td>\n",
       "      <td id=\"T_005b3_row2_col3\" class=\"data row2 col3\" >0.016219</td>\n",
       "      <td id=\"T_005b3_row2_col4\" class=\"data row2 col4\" >0.615797</td>\n",
       "    </tr>\n",
       "    <tr>\n",
       "      <th id=\"T_005b3_level0_row3\" class=\"row_heading level0 row3\" >1</th>\n",
       "      <td id=\"T_005b3_row3_col0\" class=\"data row3 col0\" >Decision Tree</td>\n",
       "      <td id=\"T_005b3_row3_col1\" class=\"data row3 col1\" >Recall</td>\n",
       "      <td id=\"T_005b3_row3_col2\" class=\"data row3 col2\" >0.588945</td>\n",
       "      <td id=\"T_005b3_row3_col3\" class=\"data row3 col3\" >0.010938</td>\n",
       "      <td id=\"T_005b3_row3_col4\" class=\"data row3 col4\" >0.605087</td>\n",
       "    </tr>\n",
       "    <tr>\n",
       "      <th id=\"T_005b3_level0_row4\" class=\"row_heading level0 row4\" >0</th>\n",
       "      <td id=\"T_005b3_row4_col0\" class=\"data row4 col0\" >Logistic Regression</td>\n",
       "      <td id=\"T_005b3_row4_col1\" class=\"data row4 col1\" >Recall</td>\n",
       "      <td id=\"T_005b3_row4_col2\" class=\"data row4 col2\" >0.581575</td>\n",
       "      <td id=\"T_005b3_row4_col3\" class=\"data row4 col3\" >0.018084</td>\n",
       "      <td id=\"T_005b3_row4_col4\" class=\"data row4 col4\" >0.601071</td>\n",
       "    </tr>\n",
       "    <tr>\n",
       "      <th id=\"T_005b3_level0_row5\" class=\"row_heading level0 row5\" >3</th>\n",
       "      <td id=\"T_005b3_row5_col0\" class=\"data row5 col0\" >VC Hard</td>\n",
       "      <td id=\"T_005b3_row5_col1\" class=\"data row5 col1\" >Recall</td>\n",
       "      <td id=\"T_005b3_row5_col2\" class=\"data row5 col2\" >0.591625</td>\n",
       "      <td id=\"T_005b3_row5_col3\" class=\"data row5 col3\" >0.009199</td>\n",
       "      <td id=\"T_005b3_row5_col4\" class=\"data row5 col4\" >0.601071</td>\n",
       "    </tr>\n",
       "    <tr>\n",
       "      <th id=\"T_005b3_level0_row6\" class=\"row_heading level0 row6\" >8</th>\n",
       "      <td id=\"T_005b3_row6_col0\" class=\"data row6 col0\" >XGBoost</td>\n",
       "      <td id=\"T_005b3_row6_col1\" class=\"data row6 col1\" >Recall</td>\n",
       "      <td id=\"T_005b3_row6_col2\" class=\"data row6 col2\" >0.593635</td>\n",
       "      <td id=\"T_005b3_row6_col3\" class=\"data row6 col3\" >0.007232</td>\n",
       "      <td id=\"T_005b3_row6_col4\" class=\"data row6 col4\" >0.601071</td>\n",
       "    </tr>\n",
       "    <tr>\n",
       "      <th id=\"T_005b3_level0_row7\" class=\"row_heading level0 row7\" >7</th>\n",
       "      <td id=\"T_005b3_row7_col0\" class=\"data row7 col0\" >Gradient Boosting</td>\n",
       "      <td id=\"T_005b3_row7_col1\" class=\"data row7 col1\" >Recall</td>\n",
       "      <td id=\"T_005b3_row7_col2\" class=\"data row7 col2\" >0.563484</td>\n",
       "      <td id=\"T_005b3_row7_col3\" class=\"data row7 col3\" >0.027597</td>\n",
       "      <td id=\"T_005b3_row7_col4\" class=\"data row7 col4\" >0.597055</td>\n",
       "    </tr>\n",
       "    <tr>\n",
       "      <th id=\"T_005b3_level0_row8\" class=\"row_heading level0 row8\" >2</th>\n",
       "      <td id=\"T_005b3_row8_col0\" class=\"data row8 col0\" >KNN</td>\n",
       "      <td id=\"T_005b3_row8_col1\" class=\"data row8 col1\" >Recall</td>\n",
       "      <td id=\"T_005b3_row8_col2\" class=\"data row8 col2\" >0.583250</td>\n",
       "      <td id=\"T_005b3_row8_col3\" class=\"data row8 col3\" >0.022029</td>\n",
       "      <td id=\"T_005b3_row8_col4\" class=\"data row8 col4\" >0.585007</td>\n",
       "    </tr>\n",
       "  </tbody>\n",
       "</table>\n"
      ],
      "text/plain": [
       "<pandas.io.formats.style.Styler at 0x2474c9b9250>"
      ]
     },
     "execution_count": 142,
     "metadata": {},
     "output_type": "execute_result"
    }
   ],
   "source": [
    "df1 = pd.DataFrame({\n",
    "    'model': ['Logistic Regression', 'Decision Tree', 'KNN', 'VC Hard', 'VC Soft', 'Stacking', 'Random Forest', 'Gradient Boosting', 'XGBoost'],\n",
    "    'matrics score' : 'Recall',\n",
    "    'train_score_mean': train_score_list,\n",
    "    'train_score_std': train_score_std_list,\n",
    "    'test_score': test_score_list}).sort_values(by = 'test_score', ascending = False)\n",
    "df1.style.highlight_max(subset=['train_score_mean', 'test_score'], axis=0)"
   ]
  },
  {
   "cell_type": "markdown",
   "metadata": {},
   "source": [
    "Dengan metode esemble diketahui 'VC Soft' dan 'Random Forest' menjadi algoritma terbaik sebesar 61%"
   ]
  },
  {
   "cell_type": "markdown",
   "metadata": {},
   "source": [
    "### Hapus Outliers"
   ]
  },
  {
   "cell_type": "code",
   "execution_count": 81,
   "metadata": {},
   "outputs": [],
   "source": [
    "def hapus_outliers(numerik, target):\n",
    "    variabel_target = target\n",
    "    for setiap_kolom in numerik.drop(columns = variabel_target).select_dtypes(include='number').columns:\n",
    "        q3 = numerik[setiap_kolom].quantile(0.75)\n",
    "        q1 = numerik[setiap_kolom].quantile(0.25)\n",
    "        iqr = q3 - q1\n",
    "        upper_bound = q3 + 1.5 * iqr\n",
    "        lower_bound = q1 - 1.5 * iqr\n",
    "\n",
    "        # pembersihan data dari outliers\n",
    "        numerik = numerik[(numerik[setiap_kolom] <= upper_bound) & (numerik[setiap_kolom] >= lower_bound)]\n",
    "\n",
    "    return numerik"
   ]
  },
  {
   "cell_type": "code",
   "execution_count": 86,
   "metadata": {},
   "outputs": [
    {
     "data": {
      "text/plain": [
       "deposit\n",
       "no     3031\n",
       "yes    2486\n",
       "Name: count, dtype: int64"
      ]
     },
     "execution_count": 86,
     "metadata": {},
     "output_type": "execute_result"
    }
   ],
   "source": [
    "data_without_outlier = hapus_outliers(data_with_outlier, 'deposit')\n",
    "data_without_outlier['deposit'].value_counts()"
   ]
  },
  {
   "cell_type": "code",
   "execution_count": 87,
   "metadata": {},
   "outputs": [],
   "source": [
    "# Nilai Pengganti\n",
    "replace_values = {\"yes\": 1, \"no\": 0}\n",
    "\n",
    "# Ganti nilai kolom \"deposit\" menggunakan metode replace\n",
    "data_without_outlier['deposit'].replace(replace_values, inplace=True)"
   ]
  },
  {
   "cell_type": "code",
   "execution_count": 88,
   "metadata": {},
   "outputs": [
    {
     "data": {
      "text/plain": [
       "deposit\n",
       "0    3031\n",
       "1    2486\n",
       "Name: count, dtype: int64"
      ]
     },
     "execution_count": 88,
     "metadata": {},
     "output_type": "execute_result"
    }
   ],
   "source": [
    "data_without_outlier['deposit'].value_counts()"
   ]
  },
  {
   "cell_type": "code",
   "execution_count": 91,
   "metadata": {},
   "outputs": [
    {
     "data": {
      "image/png": "[encoded data removed]",
      "text/plain": [
       "<Figure size 1000x1000 with 4 Axes>"
      ]
     },
     "metadata": {},
     "output_type": "display_data"
    }
   ],
   "source": [
    "numerik = data_with_outlier.select_dtypes(include = 'number')\n",
    "\n",
    "# ganti ukuran pigura (wadah grafik nya)\n",
    "plt.figure(figsize = (10,10))\n",
    "\n",
    "posisi = 1 # menginisiasi posisi mulai dari 1\n",
    "for setiap_kolom in numerik.columns: # numerik.columns = nama-nama kolom dalam list\n",
    "    plt.subplot(4,2,posisi)\n",
    "    sns.boxplot(x = data_with_outlier[setiap_kolom])\n",
    "    posisi = posisi + 1\n",
    "    # agar tidak bertumpuk\n",
    "    plt.tight_layout()"
   ]
  },
  {
   "cell_type": "code",
   "execution_count": 90,
   "metadata": {},
   "outputs": [
    {
     "data": {
      "image/png": "[encoded data removed]",
      "text/plain": [
       "<Figure size 1000x1000 with 5 Axes>"
      ]
     },
     "metadata": {},
     "output_type": "display_data"
    }
   ],
   "source": [
    "numerik = data_without_outlier.select_dtypes(include = 'number')\n",
    "\n",
    "# ganti ukuran pigura (wadah grafik nya)\n",
    "plt.figure(figsize = (10,10))\n",
    "\n",
    "posisi = 1 # menginisiasi posisi mulai dari 1\n",
    "for setiap_kolom in numerik.columns: # numerik.columns = nama-nama kolom dalam list\n",
    "    plt.subplot(4,2,posisi)\n",
    "    sns.boxplot(x = data_without_outlier[setiap_kolom])\n",
    "    posisi = posisi + 1\n",
    "    # agar tidak bertumpuk\n",
    "    plt.tight_layout()"
   ]
  },
  {
   "cell_type": "code",
   "execution_count": 92,
   "metadata": {},
   "outputs": [],
   "source": [
    "X_no_outliers = data_without_outlier.drop(columns = 'deposit')\n",
    "y_no_outliers = data_without_outlier['deposit']\n",
    "X_train_no_outliers, X_test_no_outliers, y_train_no_outliers, y_test_no_outliers = train_test_split(\n",
    "    X_no_outliers,\n",
    "    y_no_outliers,\n",
    "    test_size = 0.2,\n",
    "    random_state = 42,\n",
    "    stratify = y_no_outliers\n",
    ")"
   ]
  },
  {
   "cell_type": "code",
   "execution_count": 122,
   "metadata": {},
   "outputs": [
    {
     "data": {
      "text/plain": [
       "((4413, 10), (1104, 10), (4413,), (1104,))"
      ]
     },
     "execution_count": 122,
     "metadata": {},
     "output_type": "execute_result"
    }
   ],
   "source": [
    "X_train_no_outliers.shape, X_test_no_outliers.shape, y_train_no_outliers.shape, y_test_no_outliers.shape"
   ]
  },
  {
   "cell_type": "code",
   "execution_count": 123,
   "metadata": {},
   "outputs": [],
   "source": [
    "from imblearn.pipeline import Pipeline\n",
    "\n",
    "\n",
    "train_score_list = []\n",
    "train_score_std_list = []\n",
    "test_score_list = []\n",
    "for i in [lr, dt, knn, vc_soft, vc_hard, stacking, rf, gb, xgb]:\n",
    "    model = Pipeline([\n",
    "        ('transformer', transformer),\n",
    "        ('model', i)\n",
    "    ])\n",
    "    # Train model\n",
    "    score = cross_val_score(model, X_train_no_outliers, y_train_no_outliers, cv = StratifiedKFold(n_splits = 5), scoring = 'f1')\n",
    "    # menghitung mean f1 score setiap split\n",
    "    train_score_list.append(score.mean())\n",
    "    # menghitung standar deviasi\n",
    "    train_score_std_list.append(score.std())\n",
    "\n",
    "    # Prediksi\n",
    "    model.fit(X_train_no_outliers, y_train_no_outliers)\n",
    "    ypred_test = model.predict(X_test_no_outliers)\n",
    "\n",
    "    # Evaluasi\n",
    "    test_score = f1_score(y_test_no_outliers, ypred_test)\n",
    "    test_score_list.append(test_score)"
   ]
  },
  {
   "cell_type": "code",
   "execution_count": 124,
   "metadata": {},
   "outputs": [
    {
     "data": {
      "text/html": [
       "<div>\n",
       "<style scoped>\n",
       "    .dataframe tbody tr th:only-of-type {\n",
       "        vertical-align: middle;\n",
       "    }\n",
       "\n",
       "    .dataframe tbody tr th {\n",
       "        vertical-align: top;\n",
       "    }\n",
       "\n",
       "    .dataframe thead th {\n",
       "        text-align: right;\n",
       "    }\n",
       "</style>\n",
       "<table border=\"1\" class=\"dataframe\">\n",
       "  <thead>\n",
       "    <tr style=\"text-align: right;\">\n",
       "      <th></th>\n",
       "      <th>model</th>\n",
       "      <th>matrics score</th>\n",
       "      <th>train_score_mean</th>\n",
       "      <th>train_score_std</th>\n",
       "      <th>test_score</th>\n",
       "    </tr>\n",
       "  </thead>\n",
       "  <tbody>\n",
       "    <tr>\n",
       "      <th>8</th>\n",
       "      <td>XGBoost</td>\n",
       "      <td>Recall</td>\n",
       "      <td>0.591871</td>\n",
       "      <td>0.016525</td>\n",
       "      <td>0.591457</td>\n",
       "    </tr>\n",
       "    <tr>\n",
       "      <th>7</th>\n",
       "      <td>Gradient Boosting</td>\n",
       "      <td>Recall</td>\n",
       "      <td>0.607046</td>\n",
       "      <td>0.029039</td>\n",
       "      <td>0.585018</td>\n",
       "    </tr>\n",
       "    <tr>\n",
       "      <th>4</th>\n",
       "      <td>VC Hard</td>\n",
       "      <td>Recall</td>\n",
       "      <td>0.582915</td>\n",
       "      <td>0.023926</td>\n",
       "      <td>0.580645</td>\n",
       "    </tr>\n",
       "    <tr>\n",
       "      <th>2</th>\n",
       "      <td>KNN</td>\n",
       "      <td>Recall</td>\n",
       "      <td>0.583962</td>\n",
       "      <td>0.020125</td>\n",
       "      <td>0.580367</td>\n",
       "    </tr>\n",
       "    <tr>\n",
       "      <th>5</th>\n",
       "      <td>Stacking</td>\n",
       "      <td>Recall</td>\n",
       "      <td>0.586394</td>\n",
       "      <td>0.020299</td>\n",
       "      <td>0.569106</td>\n",
       "    </tr>\n",
       "    <tr>\n",
       "      <th>6</th>\n",
       "      <td>Random Forest</td>\n",
       "      <td>Recall</td>\n",
       "      <td>0.597129</td>\n",
       "      <td>0.025254</td>\n",
       "      <td>0.564984</td>\n",
       "    </tr>\n",
       "    <tr>\n",
       "      <th>3</th>\n",
       "      <td>VC Soft</td>\n",
       "      <td>Recall</td>\n",
       "      <td>0.567389</td>\n",
       "      <td>0.021087</td>\n",
       "      <td>0.559162</td>\n",
       "    </tr>\n",
       "    <tr>\n",
       "      <th>0</th>\n",
       "      <td>Logistic Regression</td>\n",
       "      <td>Recall</td>\n",
       "      <td>0.564676</td>\n",
       "      <td>0.032062</td>\n",
       "      <td>0.556075</td>\n",
       "    </tr>\n",
       "    <tr>\n",
       "      <th>1</th>\n",
       "      <td>Decision Tree</td>\n",
       "      <td>Recall</td>\n",
       "      <td>0.546441</td>\n",
       "      <td>0.015501</td>\n",
       "      <td>0.542857</td>\n",
       "    </tr>\n",
       "  </tbody>\n",
       "</table>\n",
       "</div>"
      ],
      "text/plain": [
       "                 model matrics score  train_score_mean  train_score_std  \\\n",
       "8              XGBoost        Recall          0.591871         0.016525   \n",
       "7    Gradient Boosting        Recall          0.607046         0.029039   \n",
       "4              VC Hard        Recall          0.582915         0.023926   \n",
       "2                  KNN        Recall          0.583962         0.020125   \n",
       "5             Stacking        Recall          0.586394         0.020299   \n",
       "6        Random Forest        Recall          0.597129         0.025254   \n",
       "3              VC Soft        Recall          0.567389         0.021087   \n",
       "0  Logistic Regression        Recall          0.564676         0.032062   \n",
       "1        Decision Tree        Recall          0.546441         0.015501   \n",
       "\n",
       "   test_score  \n",
       "8    0.591457  \n",
       "7    0.585018  \n",
       "4    0.580645  \n",
       "2    0.580367  \n",
       "5    0.569106  \n",
       "6    0.564984  \n",
       "3    0.559162  \n",
       "0    0.556075  \n",
       "1    0.542857  "
      ]
     },
     "execution_count": 124,
     "metadata": {},
     "output_type": "execute_result"
    }
   ],
   "source": [
    "data3 = pd.DataFrame({\n",
    "    'model': ['Logistic Regression', 'Decision Tree', 'KNN', 'VC Soft', 'VC Hard', 'Stacking', 'Random Forest', 'Gradient Boosting', 'XGBoost'],\n",
    "    'matrics score' : 'Recall',\n",
    "    'train_score_mean': train_score_list,\n",
    "    'train_score_std': train_score_std_list,\n",
    "    'test_score': test_score_list}).sort_values(by = 'test_score', ascending = False)\n",
    "data3"
   ]
  },
  {
   "cell_type": "markdown",
   "metadata": {},
   "source": [
    "Dengan eksperiment Hapus Oulier maka XGBoost menjadi algoritma terbaik sebesar 59%"
   ]
  },
  {
   "cell_type": "markdown",
   "metadata": {},
   "source": [
    "### Resampling for Balancing\n",
    "\n",
    "Dari hasil perbandingan depositor antara '1 (Yes)' dan '0 (No)' relatif seimbang, sehingga tidak diperlukan balancing. Maka akan cek ."
   ]
  },
  {
   "cell_type": "code",
   "execution_count": 118,
   "metadata": {},
   "outputs": [
    {
     "name": "stdout",
     "output_type": "stream",
     "text": [
      "              precision    recall  f1-score   support\n",
      "\n",
      "           0       0.67      0.75      0.71       816\n",
      "           1       0.69      0.60      0.64       747\n",
      "\n",
      "    accuracy                           0.68      1563\n",
      "   macro avg       0.68      0.68      0.68      1563\n",
      "weighted avg       0.68      0.68      0.68      1563\n",
      "\n"
     ]
    }
   ],
   "source": [
    "# tanpa resample\n",
    "\n",
    "model_basic = Pipeline([\n",
    "    ('preproses', transformer),\n",
    "    ('model', meta_model)\n",
    "])\n",
    "model_basic.fit(X_train,y_train)\n",
    "y_pred_basic = model_basic.predict(X_test)\n",
    "print(classification_report(y_test, y_pred_basic))"
   ]
  },
  {
   "cell_type": "code",
   "execution_count": 116,
   "metadata": {},
   "outputs": [
    {
     "name": "stdout",
     "output_type": "stream",
     "text": [
      "              precision    recall  f1-score   support\n",
      "\n",
      "           0       0.68      0.71      0.69       816\n",
      "           1       0.67      0.64      0.65       747\n",
      "\n",
      "    accuracy                           0.67      1563\n",
      "   macro avg       0.67      0.67      0.67      1563\n",
      "weighted avg       0.67      0.67      0.67      1563\n",
      "\n"
     ]
    }
   ],
   "source": [
    "# dengan resampling random over sampling\n",
    "from imblearn.over_sampling import SMOTE\n",
    "from imblearn.under_sampling import RandomUnderSampler\n",
    "\n",
    "meta_model = LogisticRegression(random_state=42)\n",
    "rus = RandomUnderSampler(random_state=42)\n",
    "model_rus = Pipeline([\n",
    "    ('preprocess', transformer),\n",
    "    ('resampling', rus),\n",
    "    ('model', meta_model)\n",
    "])\n",
    "model_rus.fit(X_train,y_train)\n",
    "y_pred_rus = model_rus.predict(X_test)\n",
    "print(classification_report(y_test, y_pred_rus))"
   ]
  },
  {
   "cell_type": "code",
   "execution_count": 117,
   "metadata": {},
   "outputs": [
    {
     "name": "stdout",
     "output_type": "stream",
     "text": [
      "              precision    recall  f1-score   support\n",
      "\n",
      "           0       0.68      0.71      0.69       816\n",
      "           1       0.67      0.64      0.65       747\n",
      "\n",
      "    accuracy                           0.67      1563\n",
      "   macro avg       0.67      0.67      0.67      1563\n",
      "weighted avg       0.67      0.67      0.67      1563\n",
      "\n"
     ]
    }
   ],
   "source": [
    "#dengan resampling SMOTE\n",
    "smote = SMOTE(random_state = 42)\n",
    "model_smote = Pipeline([\n",
    "    ('preprocess', transformer),\n",
    "    ('resampling', smote),\n",
    "    ('model', meta_model)\n",
    "])\n",
    "model_smote.fit(X_train,y_train)\n",
    "y_pred_smote = model_smote.predict(X_test)\n",
    "print(classification_report(y_test, y_pred_smote))"
   ]
  },
  {
   "cell_type": "markdown",
   "metadata": {},
   "source": [
    "Dari hasil pengujian resampling(Random Under Sampling dan Smote) tidak merubah jauh skor dari evaluasi metrics(precision, recall, f1-score), maka dari itu penggunaan resampling tidak disarankan pada data ini karena nanti hanya akan membuat data menjadi bias dan hasil dari evaluasi matrics nya tidak lebih bagus dari sebelum di resampling."
   ]
  },
  {
   "cell_type": "markdown",
   "metadata": {},
   "source": [
    "### Hasil Eksperimen"
   ]
  },
  {
   "cell_type": "code",
   "execution_count": 144,
   "metadata": {},
   "outputs": [
    {
     "data": {
      "text/html": [
       "<style type=\"text/css\">\n",
       "#T_34a3c_row1_col3, #T_34a3c_row2_col3, #T_34a3c_row7_col2, #T_34a3c_row11_col1 {\n",
       "  background-color: lightgreen;\n",
       "}\n",
       "</style>\n",
       "<table id=\"T_34a3c\">\n",
       "  <thead>\n",
       "    <tr>\n",
       "      <th class=\"blank\" >&nbsp;</th>\n",
       "      <th class=\"blank level0\" >&nbsp;</th>\n",
       "      <th id=\"T_34a3c_level0_col0\" class=\"col_heading level0 col0\" >matrics score</th>\n",
       "      <th id=\"T_34a3c_level0_col1\" class=\"col_heading level0 col1\" >train_score_mean</th>\n",
       "      <th id=\"T_34a3c_level0_col2\" class=\"col_heading level0 col2\" >train_score_std</th>\n",
       "      <th id=\"T_34a3c_level0_col3\" class=\"col_heading level0 col3\" >test_score</th>\n",
       "    </tr>\n",
       "    <tr>\n",
       "      <th class=\"index_name level0\" >eksperimen</th>\n",
       "      <th class=\"index_name level1\" >model</th>\n",
       "      <th class=\"blank col0\" >&nbsp;</th>\n",
       "      <th class=\"blank col1\" >&nbsp;</th>\n",
       "      <th class=\"blank col2\" >&nbsp;</th>\n",
       "      <th class=\"blank col3\" >&nbsp;</th>\n",
       "    </tr>\n",
       "  </thead>\n",
       "  <tbody>\n",
       "    <tr>\n",
       "      <th id=\"T_34a3c_level0_row0\" class=\"row_heading level0 row0\" >Rule Based</th>\n",
       "      <th id=\"T_34a3c_level1_row0\" class=\"row_heading level1 row0\" >Rule Based</th>\n",
       "      <td id=\"T_34a3c_row0_col0\" class=\"data row0 col0\" >Recall</td>\n",
       "      <td id=\"T_34a3c_row0_col1\" class=\"data row0 col1\" >0.349414</td>\n",
       "      <td id=\"T_34a3c_row0_col2\" class=\"data row0 col2\" >nan</td>\n",
       "      <td id=\"T_34a3c_row0_col3\" class=\"data row0 col3\" >0.384203</td>\n",
       "    </tr>\n",
       "    <tr>\n",
       "      <th id=\"T_34a3c_level0_row1\" class=\"row_heading level0 row1\" rowspan=\"9\">Based Model</th>\n",
       "      <th id=\"T_34a3c_level1_row1\" class=\"row_heading level1 row1\" >VC Soft</th>\n",
       "      <td id=\"T_34a3c_row1_col0\" class=\"data row1 col0\" >Recall</td>\n",
       "      <td id=\"T_34a3c_row1_col1\" class=\"data row1 col1\" >0.598995</td>\n",
       "      <td id=\"T_34a3c_row1_col2\" class=\"data row1 col2\" >0.011341</td>\n",
       "      <td id=\"T_34a3c_row1_col3\" class=\"data row1 col3\" >0.618474</td>\n",
       "    </tr>\n",
       "    <tr>\n",
       "      <th id=\"T_34a3c_level1_row2\" class=\"row_heading level1 row2\" >Random Forest</th>\n",
       "      <td id=\"T_34a3c_row2_col0\" class=\"data row2 col0\" >Recall</td>\n",
       "      <td id=\"T_34a3c_row2_col1\" class=\"data row2 col1\" >0.600670</td>\n",
       "      <td id=\"T_34a3c_row2_col2\" class=\"data row2 col2\" >0.010938</td>\n",
       "      <td id=\"T_34a3c_row2_col3\" class=\"data row2 col3\" >0.618474</td>\n",
       "    </tr>\n",
       "    <tr>\n",
       "      <th id=\"T_34a3c_level1_row3\" class=\"row_heading level1 row3\" >Stacking</th>\n",
       "      <td id=\"T_34a3c_row3_col0\" class=\"data row3 col0\" >Recall</td>\n",
       "      <td id=\"T_34a3c_row3_col1\" class=\"data row3 col1\" >0.586600</td>\n",
       "      <td id=\"T_34a3c_row3_col2\" class=\"data row3 col2\" >0.016219</td>\n",
       "      <td id=\"T_34a3c_row3_col3\" class=\"data row3 col3\" >0.615797</td>\n",
       "    </tr>\n",
       "    <tr>\n",
       "      <th id=\"T_34a3c_level1_row4\" class=\"row_heading level1 row4\" >Decision Tree</th>\n",
       "      <td id=\"T_34a3c_row4_col0\" class=\"data row4 col0\" >Recall</td>\n",
       "      <td id=\"T_34a3c_row4_col1\" class=\"data row4 col1\" >0.588945</td>\n",
       "      <td id=\"T_34a3c_row4_col2\" class=\"data row4 col2\" >0.010938</td>\n",
       "      <td id=\"T_34a3c_row4_col3\" class=\"data row4 col3\" >0.605087</td>\n",
       "    </tr>\n",
       "    <tr>\n",
       "      <th id=\"T_34a3c_level1_row5\" class=\"row_heading level1 row5\" >Logistic Regression</th>\n",
       "      <td id=\"T_34a3c_row5_col0\" class=\"data row5 col0\" >Recall</td>\n",
       "      <td id=\"T_34a3c_row5_col1\" class=\"data row5 col1\" >0.581575</td>\n",
       "      <td id=\"T_34a3c_row5_col2\" class=\"data row5 col2\" >0.018084</td>\n",
       "      <td id=\"T_34a3c_row5_col3\" class=\"data row5 col3\" >0.601071</td>\n",
       "    </tr>\n",
       "    <tr>\n",
       "      <th id=\"T_34a3c_level1_row6\" class=\"row_heading level1 row6\" >VC Hard</th>\n",
       "      <td id=\"T_34a3c_row6_col0\" class=\"data row6 col0\" >Recall</td>\n",
       "      <td id=\"T_34a3c_row6_col1\" class=\"data row6 col1\" >0.591625</td>\n",
       "      <td id=\"T_34a3c_row6_col2\" class=\"data row6 col2\" >0.009199</td>\n",
       "      <td id=\"T_34a3c_row6_col3\" class=\"data row6 col3\" >0.601071</td>\n",
       "    </tr>\n",
       "    <tr>\n",
       "      <th id=\"T_34a3c_level1_row7\" class=\"row_heading level1 row7\" >XGBoost</th>\n",
       "      <td id=\"T_34a3c_row7_col0\" class=\"data row7 col0\" >Recall</td>\n",
       "      <td id=\"T_34a3c_row7_col1\" class=\"data row7 col1\" >0.593635</td>\n",
       "      <td id=\"T_34a3c_row7_col2\" class=\"data row7 col2\" >0.007232</td>\n",
       "      <td id=\"T_34a3c_row7_col3\" class=\"data row7 col3\" >0.601071</td>\n",
       "    </tr>\n",
       "    <tr>\n",
       "      <th id=\"T_34a3c_level1_row8\" class=\"row_heading level1 row8\" >Gradient Boosting</th>\n",
       "      <td id=\"T_34a3c_row8_col0\" class=\"data row8 col0\" >Recall</td>\n",
       "      <td id=\"T_34a3c_row8_col1\" class=\"data row8 col1\" >0.563484</td>\n",
       "      <td id=\"T_34a3c_row8_col2\" class=\"data row8 col2\" >0.027597</td>\n",
       "      <td id=\"T_34a3c_row8_col3\" class=\"data row8 col3\" >0.597055</td>\n",
       "    </tr>\n",
       "    <tr>\n",
       "      <th id=\"T_34a3c_level1_row9\" class=\"row_heading level1 row9\" >KNN</th>\n",
       "      <td id=\"T_34a3c_row9_col0\" class=\"data row9 col0\" >Recall</td>\n",
       "      <td id=\"T_34a3c_row9_col1\" class=\"data row9 col1\" >0.583250</td>\n",
       "      <td id=\"T_34a3c_row9_col2\" class=\"data row9 col2\" >0.022029</td>\n",
       "      <td id=\"T_34a3c_row9_col3\" class=\"data row9 col3\" >0.585007</td>\n",
       "    </tr>\n",
       "    <tr>\n",
       "      <th id=\"T_34a3c_level0_row10\" class=\"row_heading level0 row10\" rowspan=\"9\">Without Outliers</th>\n",
       "      <th id=\"T_34a3c_level1_row10\" class=\"row_heading level1 row10\" >XGBoost</th>\n",
       "      <td id=\"T_34a3c_row10_col0\" class=\"data row10 col0\" >Recall</td>\n",
       "      <td id=\"T_34a3c_row10_col1\" class=\"data row10 col1\" >0.591871</td>\n",
       "      <td id=\"T_34a3c_row10_col2\" class=\"data row10 col2\" >0.016525</td>\n",
       "      <td id=\"T_34a3c_row10_col3\" class=\"data row10 col3\" >0.591457</td>\n",
       "    </tr>\n",
       "    <tr>\n",
       "      <th id=\"T_34a3c_level1_row11\" class=\"row_heading level1 row11\" >Gradient Boosting</th>\n",
       "      <td id=\"T_34a3c_row11_col0\" class=\"data row11 col0\" >Recall</td>\n",
       "      <td id=\"T_34a3c_row11_col1\" class=\"data row11 col1\" >0.607046</td>\n",
       "      <td id=\"T_34a3c_row11_col2\" class=\"data row11 col2\" >0.029039</td>\n",
       "      <td id=\"T_34a3c_row11_col3\" class=\"data row11 col3\" >0.585018</td>\n",
       "    </tr>\n",
       "    <tr>\n",
       "      <th id=\"T_34a3c_level1_row12\" class=\"row_heading level1 row12\" >VC Hard</th>\n",
       "      <td id=\"T_34a3c_row12_col0\" class=\"data row12 col0\" >Recall</td>\n",
       "      <td id=\"T_34a3c_row12_col1\" class=\"data row12 col1\" >0.582915</td>\n",
       "      <td id=\"T_34a3c_row12_col2\" class=\"data row12 col2\" >0.023926</td>\n",
       "      <td id=\"T_34a3c_row12_col3\" class=\"data row12 col3\" >0.580645</td>\n",
       "    </tr>\n",
       "    <tr>\n",
       "      <th id=\"T_34a3c_level1_row13\" class=\"row_heading level1 row13\" >KNN</th>\n",
       "      <td id=\"T_34a3c_row13_col0\" class=\"data row13 col0\" >Recall</td>\n",
       "      <td id=\"T_34a3c_row13_col1\" class=\"data row13 col1\" >0.583962</td>\n",
       "      <td id=\"T_34a3c_row13_col2\" class=\"data row13 col2\" >0.020125</td>\n",
       "      <td id=\"T_34a3c_row13_col3\" class=\"data row13 col3\" >0.580367</td>\n",
       "    </tr>\n",
       "    <tr>\n",
       "      <th id=\"T_34a3c_level1_row14\" class=\"row_heading level1 row14\" >Stacking</th>\n",
       "      <td id=\"T_34a3c_row14_col0\" class=\"data row14 col0\" >Recall</td>\n",
       "      <td id=\"T_34a3c_row14_col1\" class=\"data row14 col1\" >0.586394</td>\n",
       "      <td id=\"T_34a3c_row14_col2\" class=\"data row14 col2\" >0.020299</td>\n",
       "      <td id=\"T_34a3c_row14_col3\" class=\"data row14 col3\" >0.569106</td>\n",
       "    </tr>\n",
       "    <tr>\n",
       "      <th id=\"T_34a3c_level1_row15\" class=\"row_heading level1 row15\" >Random Forest</th>\n",
       "      <td id=\"T_34a3c_row15_col0\" class=\"data row15 col0\" >Recall</td>\n",
       "      <td id=\"T_34a3c_row15_col1\" class=\"data row15 col1\" >0.597129</td>\n",
       "      <td id=\"T_34a3c_row15_col2\" class=\"data row15 col2\" >0.025254</td>\n",
       "      <td id=\"T_34a3c_row15_col3\" class=\"data row15 col3\" >0.564984</td>\n",
       "    </tr>\n",
       "    <tr>\n",
       "      <th id=\"T_34a3c_level1_row16\" class=\"row_heading level1 row16\" >VC Soft</th>\n",
       "      <td id=\"T_34a3c_row16_col0\" class=\"data row16 col0\" >Recall</td>\n",
       "      <td id=\"T_34a3c_row16_col1\" class=\"data row16 col1\" >0.567389</td>\n",
       "      <td id=\"T_34a3c_row16_col2\" class=\"data row16 col2\" >0.021087</td>\n",
       "      <td id=\"T_34a3c_row16_col3\" class=\"data row16 col3\" >0.559162</td>\n",
       "    </tr>\n",
       "    <tr>\n",
       "      <th id=\"T_34a3c_level1_row17\" class=\"row_heading level1 row17\" >Logistic Regression</th>\n",
       "      <td id=\"T_34a3c_row17_col0\" class=\"data row17 col0\" >Recall</td>\n",
       "      <td id=\"T_34a3c_row17_col1\" class=\"data row17 col1\" >0.564676</td>\n",
       "      <td id=\"T_34a3c_row17_col2\" class=\"data row17 col2\" >0.032062</td>\n",
       "      <td id=\"T_34a3c_row17_col3\" class=\"data row17 col3\" >0.556075</td>\n",
       "    </tr>\n",
       "    <tr>\n",
       "      <th id=\"T_34a3c_level1_row18\" class=\"row_heading level1 row18\" >Decision Tree</th>\n",
       "      <td id=\"T_34a3c_row18_col0\" class=\"data row18 col0\" >Recall</td>\n",
       "      <td id=\"T_34a3c_row18_col1\" class=\"data row18 col1\" >0.546441</td>\n",
       "      <td id=\"T_34a3c_row18_col2\" class=\"data row18 col2\" >0.015501</td>\n",
       "      <td id=\"T_34a3c_row18_col3\" class=\"data row18 col3\" >0.542857</td>\n",
       "    </tr>\n",
       "  </tbody>\n",
       "</table>\n"
      ],
      "text/plain": [
       "<pandas.io.formats.style.Styler at 0x2474dadab10>"
      ]
     },
     "execution_count": 144,
     "metadata": {},
     "output_type": "execute_result"
    }
   ],
   "source": [
    "data1['eksperimen'] = 'Rule Based'\n",
    "df1['eksperimen'] = 'Based Model'\n",
    "data3['eksperimen'] = 'Without Outliers'\n",
    "\n",
    "\n",
    "# penggabungan semua df score\n",
    "data_gab = pd.concat([data1, df1, data3], axis = 0)\n",
    "data_gab = data_gab.set_index(['eksperimen','model'])\n",
    "\n",
    "# highlight ke score terbaik\n",
    "data_gab.style.highlight_max(subset = ['train_score_mean','test_score'],color = 'lightgreen', axis = 0).highlight_min(subset = ['train_score_std'],color = 'lightgreen', axis = 0)"
   ]
  },
  {
   "cell_type": "markdown",
   "metadata": {},
   "source": [
    "### Final Model"
   ]
  },
  {
   "cell_type": "markdown",
   "metadata": {},
   "source": [
    "Dari hasil experiment yang kita lakukan dapat kita ketahui bahwa model yang paling bagus dalam melakukan analisis adalah model VC Soft dan Random forest dengan experiment based model, selanjutnya kita menggunakan model VC Soft untuk melakukan analisis pada tahap selanjutnya"
   ]
  },
  {
   "cell_type": "code",
   "execution_count": 154,
   "metadata": {},
   "outputs": [
    {
     "data": {
      "text/html": [
       "<style>#sk-container-id-5 {color: black;background-color: white;}#sk-container-id-5 pre{padding: 0;}#sk-container-id-5 div.sk-toggleable {background-color: white;}#sk-container-id-5 label.sk-toggleable__label {cursor: pointer;display: block;width: 100%;margin-bottom: 0;padding: 0.3em;box-sizing: border-box;text-align: center;}#sk-container-id-5 label.sk-toggleable__label-arrow:before {content: \"▸\";float: left;margin-right: 0.25em;color: #696969;}#sk-container-id-5 label.sk-toggleable__label-arrow:hover:before {color: black;}#sk-container-id-5 div.sk-estimator:hover label.sk-toggleable__label-arrow:before {color: black;}#sk-container-id-5 div.sk-toggleable__content {max-height: 0;max-width: 0;overflow: hidden;text-align: left;background-color: #f0f8ff;}#sk-container-id-5 div.sk-toggleable__content pre {margin: 0.2em;color: black;border-radius: 0.25em;background-color: #f0f8ff;}#sk-container-id-5 input.sk-toggleable__control:checked~div.sk-toggleable__content {max-height: 200px;max-width: 100%;overflow: auto;}#sk-container-id-5 input.sk-toggleable__control:checked~label.sk-toggleable__label-arrow:before {content: \"▾\";}#sk-container-id-5 div.sk-estimator input.sk-toggleable__control:checked~label.sk-toggleable__label {background-color: #d4ebff;}#sk-container-id-5 div.sk-label input.sk-toggleable__control:checked~label.sk-toggleable__label {background-color: #d4ebff;}#sk-container-id-5 input.sk-hidden--visually {border: 0;clip: rect(1px 1px 1px 1px);clip: rect(1px, 1px, 1px, 1px);height: 1px;margin: -1px;overflow: hidden;padding: 0;position: absolute;width: 1px;}#sk-container-id-5 div.sk-estimator {font-family: monospace;background-color: #f0f8ff;border: 1px dotted black;border-radius: 0.25em;box-sizing: border-box;margin-bottom: 0.5em;}#sk-container-id-5 div.sk-estimator:hover {background-color: #d4ebff;}#sk-container-id-5 div.sk-parallel-item::after {content: \"\";width: 100%;border-bottom: 1px solid gray;flex-grow: 1;}#sk-container-id-5 div.sk-label:hover label.sk-toggleable__label {background-color: #d4ebff;}#sk-container-id-5 div.sk-serial::before {content: \"\";position: absolute;border-left: 1px solid gray;box-sizing: border-box;top: 0;bottom: 0;left: 50%;z-index: 0;}#sk-container-id-5 div.sk-serial {display: flex;flex-direction: column;align-items: center;background-color: white;padding-right: 0.2em;padding-left: 0.2em;position: relative;}#sk-container-id-5 div.sk-item {position: relative;z-index: 1;}#sk-container-id-5 div.sk-parallel {display: flex;align-items: stretch;justify-content: center;background-color: white;position: relative;}#sk-container-id-5 div.sk-item::before, #sk-container-id-5 div.sk-parallel-item::before {content: \"\";position: absolute;border-left: 1px solid gray;box-sizing: border-box;top: 0;bottom: 0;left: 50%;z-index: -1;}#sk-container-id-5 div.sk-parallel-item {display: flex;flex-direction: column;z-index: 1;position: relative;background-color: white;}#sk-container-id-5 div.sk-parallel-item:first-child::after {align-self: flex-end;width: 50%;}#sk-container-id-5 div.sk-parallel-item:last-child::after {align-self: flex-start;width: 50%;}#sk-container-id-5 div.sk-parallel-item:only-child::after {width: 0;}#sk-container-id-5 div.sk-dashed-wrapped {border: 1px dashed gray;margin: 0 0.4em 0.5em 0.4em;box-sizing: border-box;padding-bottom: 0.4em;background-color: white;}#sk-container-id-5 div.sk-label label {font-family: monospace;font-weight: bold;display: inline-block;line-height: 1.2em;}#sk-container-id-5 div.sk-label-container {text-align: center;}#sk-container-id-5 div.sk-container {/* jupyter's `normalize.less` sets `[hidden] { display: none; }` but bootstrap.min.css set `[hidden] { display: none !important; }` so we also need the `!important` here to be able to override the default hidden behavior on the sphinx rendered scikit-learn.org. See: https://github.com/scikit-learn/scikit-learn/issues/21755 */display: inline-block !important;position: relative;}#sk-container-id-5 div.sk-text-repr-fallback {display: none;}</style><div id=\"sk-container-id-5\" class=\"sk-top-container\"><div class=\"sk-text-repr-fallback\"><pre>Pipeline(steps=[(&#x27;transformer&#x27;,\n",
       "                 ColumnTransformer(remainder=&#x27;passthrough&#x27;,\n",
       "                                   transformers=[(&#x27;one hot&#x27;,\n",
       "                                                  OneHotEncoder(drop=&#x27;first&#x27;),\n",
       "                                                  [&#x27;housing&#x27;, &#x27;loan&#x27;, &#x27;contact&#x27;,\n",
       "                                                   &#x27;poutcome&#x27;]),\n",
       "                                                 (&#x27;binary&#x27;, BinaryEncoder(),\n",
       "                                                  [&#x27;job&#x27;]),\n",
       "                                                 (&#x27;ordinal&#x27;,\n",
       "                                                  OrdinalEncoder(mapping=[{&#x27;col&#x27;: &#x27;month&#x27;,\n",
       "                                                                           &#x27;data_type&#x27;: dtype(&#x27;O&#x27;),\n",
       "                                                                           &#x27;mapping&#x27;: jan     1\n",
       "feb     2\n",
       "mar     3\n",
       "apr     4\n",
       "may     5\n",
       "jun     6\n",
       "jul     7\n",
       "aug     8\n",
       "sep     9\n",
       "oct    10\n",
       "nov    11\n",
       "dec    12\n",
       "dtype: int64}]),\n",
       "                                                  [&#x27;month&#x27;]),\n",
       "                                                 (&#x27;scaler&#x27;, RobustScaler(),\n",
       "                                                  Index([&#x27;age&#x27;, &#x27;balance&#x27;, &#x27;campaign&#x27;, &#x27;pdays&#x27;], dtype=&#x27;object&#x27;))])),\n",
       "                (&#x27;model&#x27;,\n",
       "                 VotingClassifier(estimators=[(&#x27;lr&#x27;,\n",
       "                                               LogisticRegression(max_iter=1000)),\n",
       "                                              (&#x27;dt&#x27;,\n",
       "                                               DecisionTreeClassifier(random_state=42)),\n",
       "                                              (&#x27;knn&#x27;, KNeighborsClassifier())],\n",
       "                                  voting=&#x27;soft&#x27;))])</pre><b>In a Jupyter environment, please rerun this cell to show the HTML representation or trust the notebook. <br />On GitHub, the HTML representation is unable to render, please try loading this page with nbviewer.org.</b></div><div class=\"sk-container\" hidden><div class=\"sk-item sk-dashed-wrapped\"><div class=\"sk-label-container\"><div class=\"sk-label sk-toggleable\"><input class=\"sk-toggleable__control sk-hidden--visually\" id=\"sk-estimator-id-57\" type=\"checkbox\" ><label for=\"sk-estimator-id-57\" class=\"sk-toggleable__label sk-toggleable__label-arrow\">Pipeline</label><div class=\"sk-toggleable__content\"><pre>Pipeline(steps=[(&#x27;transformer&#x27;,\n",
       "                 ColumnTransformer(remainder=&#x27;passthrough&#x27;,\n",
       "                                   transformers=[(&#x27;one hot&#x27;,\n",
       "                                                  OneHotEncoder(drop=&#x27;first&#x27;),\n",
       "                                                  [&#x27;housing&#x27;, &#x27;loan&#x27;, &#x27;contact&#x27;,\n",
       "                                                   &#x27;poutcome&#x27;]),\n",
       "                                                 (&#x27;binary&#x27;, BinaryEncoder(),\n",
       "                                                  [&#x27;job&#x27;]),\n",
       "                                                 (&#x27;ordinal&#x27;,\n",
       "                                                  OrdinalEncoder(mapping=[{&#x27;col&#x27;: &#x27;month&#x27;,\n",
       "                                                                           &#x27;data_type&#x27;: dtype(&#x27;O&#x27;),\n",
       "                                                                           &#x27;mapping&#x27;: jan     1\n",
       "feb     2\n",
       "mar     3\n",
       "apr     4\n",
       "may     5\n",
       "jun     6\n",
       "jul     7\n",
       "aug     8\n",
       "sep     9\n",
       "oct    10\n",
       "nov    11\n",
       "dec    12\n",
       "dtype: int64}]),\n",
       "                                                  [&#x27;month&#x27;]),\n",
       "                                                 (&#x27;scaler&#x27;, RobustScaler(),\n",
       "                                                  Index([&#x27;age&#x27;, &#x27;balance&#x27;, &#x27;campaign&#x27;, &#x27;pdays&#x27;], dtype=&#x27;object&#x27;))])),\n",
       "                (&#x27;model&#x27;,\n",
       "                 VotingClassifier(estimators=[(&#x27;lr&#x27;,\n",
       "                                               LogisticRegression(max_iter=1000)),\n",
       "                                              (&#x27;dt&#x27;,\n",
       "                                               DecisionTreeClassifier(random_state=42)),\n",
       "                                              (&#x27;knn&#x27;, KNeighborsClassifier())],\n",
       "                                  voting=&#x27;soft&#x27;))])</pre></div></div></div><div class=\"sk-serial\"><div class=\"sk-item sk-dashed-wrapped\"><div class=\"sk-label-container\"><div class=\"sk-label sk-toggleable\"><input class=\"sk-toggleable__control sk-hidden--visually\" id=\"sk-estimator-id-58\" type=\"checkbox\" ><label for=\"sk-estimator-id-58\" class=\"sk-toggleable__label sk-toggleable__label-arrow\">transformer: ColumnTransformer</label><div class=\"sk-toggleable__content\"><pre>ColumnTransformer(remainder=&#x27;passthrough&#x27;,\n",
       "                  transformers=[(&#x27;one hot&#x27;, OneHotEncoder(drop=&#x27;first&#x27;),\n",
       "                                 [&#x27;housing&#x27;, &#x27;loan&#x27;, &#x27;contact&#x27;, &#x27;poutcome&#x27;]),\n",
       "                                (&#x27;binary&#x27;, BinaryEncoder(), [&#x27;job&#x27;]),\n",
       "                                (&#x27;ordinal&#x27;,\n",
       "                                 OrdinalEncoder(mapping=[{&#x27;col&#x27;: &#x27;month&#x27;,\n",
       "                                                          &#x27;data_type&#x27;: dtype(&#x27;O&#x27;),\n",
       "                                                          &#x27;mapping&#x27;: jan     1\n",
       "feb     2\n",
       "mar     3\n",
       "apr     4\n",
       "may     5\n",
       "jun     6\n",
       "jul     7\n",
       "aug     8\n",
       "sep     9\n",
       "oct    10\n",
       "nov    11\n",
       "dec    12\n",
       "dtype: int64}]),\n",
       "                                 [&#x27;month&#x27;]),\n",
       "                                (&#x27;scaler&#x27;, RobustScaler(),\n",
       "                                 Index([&#x27;age&#x27;, &#x27;balance&#x27;, &#x27;campaign&#x27;, &#x27;pdays&#x27;], dtype=&#x27;object&#x27;))])</pre></div></div></div><div class=\"sk-parallel\"><div class=\"sk-parallel-item\"><div class=\"sk-item\"><div class=\"sk-label-container\"><div class=\"sk-label sk-toggleable\"><input class=\"sk-toggleable__control sk-hidden--visually\" id=\"sk-estimator-id-59\" type=\"checkbox\" ><label for=\"sk-estimator-id-59\" class=\"sk-toggleable__label sk-toggleable__label-arrow\">one hot</label><div class=\"sk-toggleable__content\"><pre>[&#x27;housing&#x27;, &#x27;loan&#x27;, &#x27;contact&#x27;, &#x27;poutcome&#x27;]</pre></div></div></div><div class=\"sk-serial\"><div class=\"sk-item\"><div class=\"sk-estimator sk-toggleable\"><input class=\"sk-toggleable__control sk-hidden--visually\" id=\"sk-estimator-id-60\" type=\"checkbox\" ><label for=\"sk-estimator-id-60\" class=\"sk-toggleable__label sk-toggleable__label-arrow\">OneHotEncoder</label><div class=\"sk-toggleable__content\"><pre>OneHotEncoder(drop=&#x27;first&#x27;)</pre></div></div></div></div></div></div><div class=\"sk-parallel-item\"><div class=\"sk-item\"><div class=\"sk-label-container\"><div class=\"sk-label sk-toggleable\"><input class=\"sk-toggleable__control sk-hidden--visually\" id=\"sk-estimator-id-61\" type=\"checkbox\" ><label for=\"sk-estimator-id-61\" class=\"sk-toggleable__label sk-toggleable__label-arrow\">binary</label><div class=\"sk-toggleable__content\"><pre>[&#x27;job&#x27;]</pre></div></div></div><div class=\"sk-serial\"><div class=\"sk-item\"><div class=\"sk-estimator sk-toggleable\"><input class=\"sk-toggleable__control sk-hidden--visually\" id=\"sk-estimator-id-62\" type=\"checkbox\" ><label for=\"sk-estimator-id-62\" class=\"sk-toggleable__label sk-toggleable__label-arrow\">BinaryEncoder</label><div class=\"sk-toggleable__content\"><pre>BinaryEncoder()</pre></div></div></div></div></div></div><div class=\"sk-parallel-item\"><div class=\"sk-item\"><div class=\"sk-label-container\"><div class=\"sk-label sk-toggleable\"><input class=\"sk-toggleable__control sk-hidden--visually\" id=\"sk-estimator-id-63\" type=\"checkbox\" ><label for=\"sk-estimator-id-63\" class=\"sk-toggleable__label sk-toggleable__label-arrow\">ordinal</label><div class=\"sk-toggleable__content\"><pre>[&#x27;month&#x27;]</pre></div></div></div><div class=\"sk-serial\"><div class=\"sk-item\"><div class=\"sk-estimator sk-toggleable\"><input class=\"sk-toggleable__control sk-hidden--visually\" id=\"sk-estimator-id-64\" type=\"checkbox\" ><label for=\"sk-estimator-id-64\" class=\"sk-toggleable__label sk-toggleable__label-arrow\">OrdinalEncoder</label><div class=\"sk-toggleable__content\"><pre>OrdinalEncoder(mapping=[{&#x27;col&#x27;: &#x27;month&#x27;, &#x27;data_type&#x27;: dtype(&#x27;O&#x27;),\n",
       "                         &#x27;mapping&#x27;: jan     1\n",
       "feb     2\n",
       "mar     3\n",
       "apr     4\n",
       "may     5\n",
       "jun     6\n",
       "jul     7\n",
       "aug     8\n",
       "sep     9\n",
       "oct    10\n",
       "nov    11\n",
       "dec    12\n",
       "dtype: int64}])</pre></div></div></div></div></div></div><div class=\"sk-parallel-item\"><div class=\"sk-item\"><div class=\"sk-label-container\"><div class=\"sk-label sk-toggleable\"><input class=\"sk-toggleable__control sk-hidden--visually\" id=\"sk-estimator-id-65\" type=\"checkbox\" ><label for=\"sk-estimator-id-65\" class=\"sk-toggleable__label sk-toggleable__label-arrow\">scaler</label><div class=\"sk-toggleable__content\"><pre>Index([&#x27;age&#x27;, &#x27;balance&#x27;, &#x27;campaign&#x27;, &#x27;pdays&#x27;], dtype=&#x27;object&#x27;)</pre></div></div></div><div class=\"sk-serial\"><div class=\"sk-item\"><div class=\"sk-estimator sk-toggleable\"><input class=\"sk-toggleable__control sk-hidden--visually\" id=\"sk-estimator-id-66\" type=\"checkbox\" ><label for=\"sk-estimator-id-66\" class=\"sk-toggleable__label sk-toggleable__label-arrow\">RobustScaler</label><div class=\"sk-toggleable__content\"><pre>RobustScaler()</pre></div></div></div></div></div></div><div class=\"sk-parallel-item\"><div class=\"sk-item\"><div class=\"sk-label-container\"><div class=\"sk-label sk-toggleable\"><input class=\"sk-toggleable__control sk-hidden--visually\" id=\"sk-estimator-id-67\" type=\"checkbox\" ><label for=\"sk-estimator-id-67\" class=\"sk-toggleable__label sk-toggleable__label-arrow\">remainder</label><div class=\"sk-toggleable__content\"><pre>[]</pre></div></div></div><div class=\"sk-serial\"><div class=\"sk-item\"><div class=\"sk-estimator sk-toggleable\"><input class=\"sk-toggleable__control sk-hidden--visually\" id=\"sk-estimator-id-68\" type=\"checkbox\" ><label for=\"sk-estimator-id-68\" class=\"sk-toggleable__label sk-toggleable__label-arrow\">passthrough</label><div class=\"sk-toggleable__content\"><pre>passthrough</pre></div></div></div></div></div></div></div></div><div class=\"sk-item sk-dashed-wrapped\"><div class=\"sk-label-container\"><div class=\"sk-label sk-toggleable\"><input class=\"sk-toggleable__control sk-hidden--visually\" id=\"sk-estimator-id-69\" type=\"checkbox\" ><label for=\"sk-estimator-id-69\" class=\"sk-toggleable__label sk-toggleable__label-arrow\">model: VotingClassifier</label><div class=\"sk-toggleable__content\"><pre>VotingClassifier(estimators=[(&#x27;lr&#x27;, LogisticRegression(max_iter=1000)),\n",
       "                             (&#x27;dt&#x27;, DecisionTreeClassifier(random_state=42)),\n",
       "                             (&#x27;knn&#x27;, KNeighborsClassifier())],\n",
       "                 voting=&#x27;soft&#x27;)</pre></div></div></div><div class=\"sk-parallel\"><div class=\"sk-parallel-item\"><div class=\"sk-item\"><div class=\"sk-label-container\"><div class=\"sk-label sk-toggleable\"><label>lr</label></div></div><div class=\"sk-serial\"><div class=\"sk-item\"><div class=\"sk-estimator sk-toggleable\"><input class=\"sk-toggleable__control sk-hidden--visually\" id=\"sk-estimator-id-70\" type=\"checkbox\" ><label for=\"sk-estimator-id-70\" class=\"sk-toggleable__label sk-toggleable__label-arrow\">LogisticRegression</label><div class=\"sk-toggleable__content\"><pre>LogisticRegression(max_iter=1000)</pre></div></div></div></div></div></div><div class=\"sk-parallel-item\"><div class=\"sk-item\"><div class=\"sk-label-container\"><div class=\"sk-label sk-toggleable\"><label>dt</label></div></div><div class=\"sk-serial\"><div class=\"sk-item\"><div class=\"sk-estimator sk-toggleable\"><input class=\"sk-toggleable__control sk-hidden--visually\" id=\"sk-estimator-id-71\" type=\"checkbox\" ><label for=\"sk-estimator-id-71\" class=\"sk-toggleable__label sk-toggleable__label-arrow\">DecisionTreeClassifier</label><div class=\"sk-toggleable__content\"><pre>DecisionTreeClassifier(random_state=42)</pre></div></div></div></div></div></div><div class=\"sk-parallel-item\"><div class=\"sk-item\"><div class=\"sk-label-container\"><div class=\"sk-label sk-toggleable\"><label>knn</label></div></div><div class=\"sk-serial\"><div class=\"sk-item\"><div class=\"sk-estimator sk-toggleable\"><input class=\"sk-toggleable__control sk-hidden--visually\" id=\"sk-estimator-id-72\" type=\"checkbox\" ><label for=\"sk-estimator-id-72\" class=\"sk-toggleable__label sk-toggleable__label-arrow\">KNeighborsClassifier</label><div class=\"sk-toggleable__content\"><pre>KNeighborsClassifier()</pre></div></div></div></div></div></div></div></div></div></div></div></div>"
      ],
      "text/plain": [
       "Pipeline(steps=[('transformer',\n",
       "                 ColumnTransformer(remainder='passthrough',\n",
       "                                   transformers=[('one hot',\n",
       "                                                  OneHotEncoder(drop='first'),\n",
       "                                                  ['housing', 'loan', 'contact',\n",
       "                                                   'poutcome']),\n",
       "                                                 ('binary', BinaryEncoder(),\n",
       "                                                  ['job']),\n",
       "                                                 ('ordinal',\n",
       "                                                  OrdinalEncoder(mapping=[{'col': 'month',\n",
       "                                                                           'data_type': dtype('O'),\n",
       "                                                                           'mapping': jan     1\n",
       "feb     2\n",
       "mar     3\n",
       "apr     4\n",
       "may     5\n",
       "jun     6\n",
       "jul     7\n",
       "aug     8\n",
       "sep     9\n",
       "oct    10\n",
       "nov    11\n",
       "dec    12\n",
       "dtype: int64}]),\n",
       "                                                  ['month']),\n",
       "                                                 ('scaler', RobustScaler(),\n",
       "                                                  Index(['age', 'balance', 'campaign', 'pdays'], dtype='object'))])),\n",
       "                ('model',\n",
       "                 VotingClassifier(estimators=[('lr',\n",
       "                                               LogisticRegression(max_iter=1000)),\n",
       "                                              ('dt',\n",
       "                                               DecisionTreeClassifier(random_state=42)),\n",
       "                                              ('knn', KNeighborsClassifier())],\n",
       "                                  voting='soft'))])"
      ]
     },
     "execution_count": 154,
     "metadata": {},
     "output_type": "execute_result"
    }
   ],
   "source": [
    "best_model = Pipeline([\n",
    "    ('transformer', transformer),\n",
    "    ('model', vc_soft)\n",
    "])\n",
    "\n",
    "best_model.fit(X_train, y_train)"
   ]
  },
  {
   "cell_type": "code",
   "execution_count": 155,
   "metadata": {},
   "outputs": [
    {
     "name": "stdout",
     "output_type": "stream",
     "text": [
      "              precision    recall  f1-score   support\n",
      "\n",
      "           0       0.66      0.67      0.66       816\n",
      "           1       0.63      0.62      0.62       747\n",
      "\n",
      "    accuracy                           0.64      1563\n",
      "   macro avg       0.64      0.64      0.64      1563\n",
      "weighted avg       0.64      0.64      0.64      1563\n",
      "\n",
      "F1 Score: 0.6247464503042597\n",
      "Recall: 0.6184738955823293\n"
     ]
    }
   ],
   "source": [
    "y_pred = best_model.predict(X_test)\n",
    "print(classification_report(y_test, y_pred))\n",
    "print(f'F1 Score: {f1_score(y_test, y_pred)}')\n",
    "print(f'Recall: {recall_score(y_test, y_pred)}')"
   ]
  },
  {
   "cell_type": "markdown",
   "metadata": {},
   "source": [
    "***Transformasi Data dengan transformer***\n",
    "\n",
    "Pada tahap ini, transformer menggunakan ColumnTransformer yang menggabungkan beberapa teknik preprocessing untuk mempersiapkan data sebelum model dijalankan:\n",
    "\n",
    "- `OneHotEncoder`: Menerapkan one-hot encoding pada kolom kategori : housing, loan, contact, dan poutcome.\n",
    "- `BinaryEncoder`: Menerapkan binary encoding pada kolom kategori yang memiliki banyak nilai unik seperti job \n",
    "- `OrdinalEncoder`: Menerapkan ordinal encoding pada kolom kategori yang memiliki banyak nilai berurutan month \n",
    "- `RobustScaler`: Melakukan normalisasi data numerik untuk mengurangi dampak outliers.\n",
    "- `remainder='passthrough`': Kolom-kolom yang tidak mengalami transformasi akan dilewatkan tanpa perubahan."
   ]
  },
  {
   "cell_type": "markdown",
   "metadata": {},
   "source": [
    "### Hypertuning"
   ]
  },
  {
   "cell_type": "markdown",
   "metadata": {},
   "source": [
    "Untuk mendapatkan peforma yang baik maka akan dicoba melakukan hypertuning dengan GridSearchCV digunakan untuk mencari kombinasi parameter terbaik untuk setiap model yang digunakan dalam Voting Classifier. Parameter yanga akan diuji :\n",
    "- 'model__lr__C': Ini adalah parameter regularisasi untuk Logistic Regression. \n",
    "-'model__dt__max_depth': Ini adalah parameter maximum depth untuk Decision Tree. \n",
    "- 'model__knn__n_neighbors': Ini adalah parameter jumlah tetangga yang digunakan dalam K-Nearest Neighbors untuk menentukan banyak tetangga terdekat.\n"
   ]
  },
  {
   "cell_type": "code",
   "execution_count": 171,
   "metadata": {},
   "outputs": [],
   "source": [
    "# Definisikan parameter grid untuk setiap model dalam Voting Classifier\n",
    "param_grid = {\n",
    "    'model__lr__C': [0.1, 1.0, 10],  # Logistic Regression regularization parameter\n",
    "    'model__dt__max_depth': [None, 10, 20],  # Decision Tree depth\n",
    "    'model__knn__n_neighbors': [3, 5, 7]  # KNN number of neighbors\n",
    "}"
   ]
  },
  {
   "cell_type": "code",
   "execution_count": 172,
   "metadata": {},
   "outputs": [
    {
     "data": {
      "text/html": [
       "<style>#sk-container-id-9 {color: black;background-color: white;}#sk-container-id-9 pre{padding: 0;}#sk-container-id-9 div.sk-toggleable {background-color: white;}#sk-container-id-9 label.sk-toggleable__label {cursor: pointer;display: block;width: 100%;margin-bottom: 0;padding: 0.3em;box-sizing: border-box;text-align: center;}#sk-container-id-9 label.sk-toggleable__label-arrow:before {content: \"▸\";float: left;margin-right: 0.25em;color: #696969;}#sk-container-id-9 label.sk-toggleable__label-arrow:hover:before {color: black;}#sk-container-id-9 div.sk-estimator:hover label.sk-toggleable__label-arrow:before {color: black;}#sk-container-id-9 div.sk-toggleable__content {max-height: 0;max-width: 0;overflow: hidden;text-align: left;background-color: #f0f8ff;}#sk-container-id-9 div.sk-toggleable__content pre {margin: 0.2em;color: black;border-radius: 0.25em;background-color: #f0f8ff;}#sk-container-id-9 input.sk-toggleable__control:checked~div.sk-toggleable__content {max-height: 200px;max-width: 100%;overflow: auto;}#sk-container-id-9 input.sk-toggleable__control:checked~label.sk-toggleable__label-arrow:before {content: \"▾\";}#sk-container-id-9 div.sk-estimator input.sk-toggleable__control:checked~label.sk-toggleable__label {background-color: #d4ebff;}#sk-container-id-9 div.sk-label input.sk-toggleable__control:checked~label.sk-toggleable__label {background-color: #d4ebff;}#sk-container-id-9 input.sk-hidden--visually {border: 0;clip: rect(1px 1px 1px 1px);clip: rect(1px, 1px, 1px, 1px);height: 1px;margin: -1px;overflow: hidden;padding: 0;position: absolute;width: 1px;}#sk-container-id-9 div.sk-estimator {font-family: monospace;background-color: #f0f8ff;border: 1px dotted black;border-radius: 0.25em;box-sizing: border-box;margin-bottom: 0.5em;}#sk-container-id-9 div.sk-estimator:hover {background-color: #d4ebff;}#sk-container-id-9 div.sk-parallel-item::after {content: \"\";width: 100%;border-bottom: 1px solid gray;flex-grow: 1;}#sk-container-id-9 div.sk-label:hover label.sk-toggleable__label {background-color: #d4ebff;}#sk-container-id-9 div.sk-serial::before {content: \"\";position: absolute;border-left: 1px solid gray;box-sizing: border-box;top: 0;bottom: 0;left: 50%;z-index: 0;}#sk-container-id-9 div.sk-serial {display: flex;flex-direction: column;align-items: center;background-color: white;padding-right: 0.2em;padding-left: 0.2em;position: relative;}#sk-container-id-9 div.sk-item {position: relative;z-index: 1;}#sk-container-id-9 div.sk-parallel {display: flex;align-items: stretch;justify-content: center;background-color: white;position: relative;}#sk-container-id-9 div.sk-item::before, #sk-container-id-9 div.sk-parallel-item::before {content: \"\";position: absolute;border-left: 1px solid gray;box-sizing: border-box;top: 0;bottom: 0;left: 50%;z-index: -1;}#sk-container-id-9 div.sk-parallel-item {display: flex;flex-direction: column;z-index: 1;position: relative;background-color: white;}#sk-container-id-9 div.sk-parallel-item:first-child::after {align-self: flex-end;width: 50%;}#sk-container-id-9 div.sk-parallel-item:last-child::after {align-self: flex-start;width: 50%;}#sk-container-id-9 div.sk-parallel-item:only-child::after {width: 0;}#sk-container-id-9 div.sk-dashed-wrapped {border: 1px dashed gray;margin: 0 0.4em 0.5em 0.4em;box-sizing: border-box;padding-bottom: 0.4em;background-color: white;}#sk-container-id-9 div.sk-label label {font-family: monospace;font-weight: bold;display: inline-block;line-height: 1.2em;}#sk-container-id-9 div.sk-label-container {text-align: center;}#sk-container-id-9 div.sk-container {/* jupyter's `normalize.less` sets `[hidden] { display: none; }` but bootstrap.min.css set `[hidden] { display: none !important; }` so we also need the `!important` here to be able to override the default hidden behavior on the sphinx rendered scikit-learn.org. See: https://github.com/scikit-learn/scikit-learn/issues/21755 */display: inline-block !important;position: relative;}#sk-container-id-9 div.sk-text-repr-fallback {display: none;}</style><div id=\"sk-container-id-9\" class=\"sk-top-container\"><div class=\"sk-text-repr-fallback\"><pre>GridSearchCV(cv=5,\n",
       "             estimator=Pipeline(steps=[(&#x27;transformer&#x27;,\n",
       "                                        ColumnTransformer(remainder=&#x27;passthrough&#x27;,\n",
       "                                                          transformers=[(&#x27;one &#x27;\n",
       "                                                                         &#x27;hot&#x27;,\n",
       "                                                                         OneHotEncoder(drop=&#x27;first&#x27;),\n",
       "                                                                         [&#x27;housing&#x27;,\n",
       "                                                                          &#x27;loan&#x27;,\n",
       "                                                                          &#x27;contact&#x27;,\n",
       "                                                                          &#x27;poutcome&#x27;]),\n",
       "                                                                        (&#x27;binary&#x27;,\n",
       "                                                                         BinaryEncoder(),\n",
       "                                                                         [&#x27;job&#x27;]),\n",
       "                                                                        (&#x27;ordinal&#x27;,\n",
       "                                                                         OrdinalEncoder(mapping=[{&#x27;col&#x27;: &#x27;month&#x27;,\n",
       "                                                                                                  &#x27;data_type&#x27;: dtype(&#x27;O&#x27;),\n",
       "                                                                                                  &#x27;mapping&#x27;: jan     1\n",
       "feb     2\n",
       "mar     3\n",
       "apr     4\n",
       "may     5\n",
       "jun     6\n",
       "jul     7\n",
       "aug     8\n",
       "sep     9...\n",
       "                                                                         Index([&#x27;age&#x27;, &#x27;balance&#x27;, &#x27;campaign&#x27;, &#x27;pdays&#x27;], dtype=&#x27;object&#x27;))])),\n",
       "                                       (&#x27;model&#x27;,\n",
       "                                        VotingClassifier(estimators=[(&#x27;lr&#x27;,\n",
       "                                                                      LogisticRegression(max_iter=1000)),\n",
       "                                                                     (&#x27;dt&#x27;,\n",
       "                                                                      DecisionTreeClassifier(random_state=42)),\n",
       "                                                                     (&#x27;knn&#x27;,\n",
       "                                                                      KNeighborsClassifier())],\n",
       "                                                         voting=&#x27;soft&#x27;))]),\n",
       "             param_grid={&#x27;model__dt__max_depth&#x27;: [None, 10, 20],\n",
       "                         &#x27;model__knn__n_neighbors&#x27;: [3, 5, 7],\n",
       "                         &#x27;model__lr__C&#x27;: [0.1, 1.0, 10]},\n",
       "             scoring=&#x27;f1&#x27;)</pre><b>In a Jupyter environment, please rerun this cell to show the HTML representation or trust the notebook. <br />On GitHub, the HTML representation is unable to render, please try loading this page with nbviewer.org.</b></div><div class=\"sk-container\" hidden><div class=\"sk-item sk-dashed-wrapped\"><div class=\"sk-label-container\"><div class=\"sk-label sk-toggleable\"><input class=\"sk-toggleable__control sk-hidden--visually\" id=\"sk-estimator-id-124\" type=\"checkbox\" ><label for=\"sk-estimator-id-124\" class=\"sk-toggleable__label sk-toggleable__label-arrow\">GridSearchCV</label><div class=\"sk-toggleable__content\"><pre>GridSearchCV(cv=5,\n",
       "             estimator=Pipeline(steps=[(&#x27;transformer&#x27;,\n",
       "                                        ColumnTransformer(remainder=&#x27;passthrough&#x27;,\n",
       "                                                          transformers=[(&#x27;one &#x27;\n",
       "                                                                         &#x27;hot&#x27;,\n",
       "                                                                         OneHotEncoder(drop=&#x27;first&#x27;),\n",
       "                                                                         [&#x27;housing&#x27;,\n",
       "                                                                          &#x27;loan&#x27;,\n",
       "                                                                          &#x27;contact&#x27;,\n",
       "                                                                          &#x27;poutcome&#x27;]),\n",
       "                                                                        (&#x27;binary&#x27;,\n",
       "                                                                         BinaryEncoder(),\n",
       "                                                                         [&#x27;job&#x27;]),\n",
       "                                                                        (&#x27;ordinal&#x27;,\n",
       "                                                                         OrdinalEncoder(mapping=[{&#x27;col&#x27;: &#x27;month&#x27;,\n",
       "                                                                                                  &#x27;data_type&#x27;: dtype(&#x27;O&#x27;),\n",
       "                                                                                                  &#x27;mapping&#x27;: jan     1\n",
       "feb     2\n",
       "mar     3\n",
       "apr     4\n",
       "may     5\n",
       "jun     6\n",
       "jul     7\n",
       "aug     8\n",
       "sep     9...\n",
       "                                                                         Index([&#x27;age&#x27;, &#x27;balance&#x27;, &#x27;campaign&#x27;, &#x27;pdays&#x27;], dtype=&#x27;object&#x27;))])),\n",
       "                                       (&#x27;model&#x27;,\n",
       "                                        VotingClassifier(estimators=[(&#x27;lr&#x27;,\n",
       "                                                                      LogisticRegression(max_iter=1000)),\n",
       "                                                                     (&#x27;dt&#x27;,\n",
       "                                                                      DecisionTreeClassifier(random_state=42)),\n",
       "                                                                     (&#x27;knn&#x27;,\n",
       "                                                                      KNeighborsClassifier())],\n",
       "                                                         voting=&#x27;soft&#x27;))]),\n",
       "             param_grid={&#x27;model__dt__max_depth&#x27;: [None, 10, 20],\n",
       "                         &#x27;model__knn__n_neighbors&#x27;: [3, 5, 7],\n",
       "                         &#x27;model__lr__C&#x27;: [0.1, 1.0, 10]},\n",
       "             scoring=&#x27;f1&#x27;)</pre></div></div></div><div class=\"sk-parallel\"><div class=\"sk-parallel-item\"><div class=\"sk-item\"><div class=\"sk-label-container\"><div class=\"sk-label sk-toggleable\"><input class=\"sk-toggleable__control sk-hidden--visually\" id=\"sk-estimator-id-125\" type=\"checkbox\" ><label for=\"sk-estimator-id-125\" class=\"sk-toggleable__label sk-toggleable__label-arrow\">estimator: Pipeline</label><div class=\"sk-toggleable__content\"><pre>Pipeline(steps=[(&#x27;transformer&#x27;,\n",
       "                 ColumnTransformer(remainder=&#x27;passthrough&#x27;,\n",
       "                                   transformers=[(&#x27;one hot&#x27;,\n",
       "                                                  OneHotEncoder(drop=&#x27;first&#x27;),\n",
       "                                                  [&#x27;housing&#x27;, &#x27;loan&#x27;, &#x27;contact&#x27;,\n",
       "                                                   &#x27;poutcome&#x27;]),\n",
       "                                                 (&#x27;binary&#x27;, BinaryEncoder(),\n",
       "                                                  [&#x27;job&#x27;]),\n",
       "                                                 (&#x27;ordinal&#x27;,\n",
       "                                                  OrdinalEncoder(mapping=[{&#x27;col&#x27;: &#x27;month&#x27;,\n",
       "                                                                           &#x27;data_type&#x27;: dtype(&#x27;O&#x27;),\n",
       "                                                                           &#x27;mapping&#x27;: jan     1\n",
       "feb     2\n",
       "mar     3\n",
       "apr     4\n",
       "may     5\n",
       "jun     6\n",
       "jul     7\n",
       "aug     8\n",
       "sep     9\n",
       "oct    10\n",
       "nov    11\n",
       "dec    12\n",
       "dtype: int64}]),\n",
       "                                                  [&#x27;month&#x27;]),\n",
       "                                                 (&#x27;scaler&#x27;, RobustScaler(),\n",
       "                                                  Index([&#x27;age&#x27;, &#x27;balance&#x27;, &#x27;campaign&#x27;, &#x27;pdays&#x27;], dtype=&#x27;object&#x27;))])),\n",
       "                (&#x27;model&#x27;,\n",
       "                 VotingClassifier(estimators=[(&#x27;lr&#x27;,\n",
       "                                               LogisticRegression(max_iter=1000)),\n",
       "                                              (&#x27;dt&#x27;,\n",
       "                                               DecisionTreeClassifier(random_state=42)),\n",
       "                                              (&#x27;knn&#x27;, KNeighborsClassifier())],\n",
       "                                  voting=&#x27;soft&#x27;))])</pre></div></div></div><div class=\"sk-serial\"><div class=\"sk-item\"><div class=\"sk-serial\"><div class=\"sk-item sk-dashed-wrapped\"><div class=\"sk-label-container\"><div class=\"sk-label sk-toggleable\"><input class=\"sk-toggleable__control sk-hidden--visually\" id=\"sk-estimator-id-126\" type=\"checkbox\" ><label for=\"sk-estimator-id-126\" class=\"sk-toggleable__label sk-toggleable__label-arrow\">transformer: ColumnTransformer</label><div class=\"sk-toggleable__content\"><pre>ColumnTransformer(remainder=&#x27;passthrough&#x27;,\n",
       "                  transformers=[(&#x27;one hot&#x27;, OneHotEncoder(drop=&#x27;first&#x27;),\n",
       "                                 [&#x27;housing&#x27;, &#x27;loan&#x27;, &#x27;contact&#x27;, &#x27;poutcome&#x27;]),\n",
       "                                (&#x27;binary&#x27;, BinaryEncoder(), [&#x27;job&#x27;]),\n",
       "                                (&#x27;ordinal&#x27;,\n",
       "                                 OrdinalEncoder(mapping=[{&#x27;col&#x27;: &#x27;month&#x27;,\n",
       "                                                          &#x27;data_type&#x27;: dtype(&#x27;O&#x27;),\n",
       "                                                          &#x27;mapping&#x27;: jan     1\n",
       "feb     2\n",
       "mar     3\n",
       "apr     4\n",
       "may     5\n",
       "jun     6\n",
       "jul     7\n",
       "aug     8\n",
       "sep     9\n",
       "oct    10\n",
       "nov    11\n",
       "dec    12\n",
       "dtype: int64}]),\n",
       "                                 [&#x27;month&#x27;]),\n",
       "                                (&#x27;scaler&#x27;, RobustScaler(),\n",
       "                                 Index([&#x27;age&#x27;, &#x27;balance&#x27;, &#x27;campaign&#x27;, &#x27;pdays&#x27;], dtype=&#x27;object&#x27;))])</pre></div></div></div><div class=\"sk-parallel\"><div class=\"sk-parallel-item\"><div class=\"sk-item\"><div class=\"sk-label-container\"><div class=\"sk-label sk-toggleable\"><input class=\"sk-toggleable__control sk-hidden--visually\" id=\"sk-estimator-id-127\" type=\"checkbox\" ><label for=\"sk-estimator-id-127\" class=\"sk-toggleable__label sk-toggleable__label-arrow\">one hot</label><div class=\"sk-toggleable__content\"><pre>[&#x27;housing&#x27;, &#x27;loan&#x27;, &#x27;contact&#x27;, &#x27;poutcome&#x27;]</pre></div></div></div><div class=\"sk-serial\"><div class=\"sk-item\"><div class=\"sk-estimator sk-toggleable\"><input class=\"sk-toggleable__control sk-hidden--visually\" id=\"sk-estimator-id-128\" type=\"checkbox\" ><label for=\"sk-estimator-id-128\" class=\"sk-toggleable__label sk-toggleable__label-arrow\">OneHotEncoder</label><div class=\"sk-toggleable__content\"><pre>OneHotEncoder(drop=&#x27;first&#x27;)</pre></div></div></div></div></div></div><div class=\"sk-parallel-item\"><div class=\"sk-item\"><div class=\"sk-label-container\"><div class=\"sk-label sk-toggleable\"><input class=\"sk-toggleable__control sk-hidden--visually\" id=\"sk-estimator-id-129\" type=\"checkbox\" ><label for=\"sk-estimator-id-129\" class=\"sk-toggleable__label sk-toggleable__label-arrow\">binary</label><div class=\"sk-toggleable__content\"><pre>[&#x27;job&#x27;]</pre></div></div></div><div class=\"sk-serial\"><div class=\"sk-item\"><div class=\"sk-estimator sk-toggleable\"><input class=\"sk-toggleable__control sk-hidden--visually\" id=\"sk-estimator-id-130\" type=\"checkbox\" ><label for=\"sk-estimator-id-130\" class=\"sk-toggleable__label sk-toggleable__label-arrow\">BinaryEncoder</label><div class=\"sk-toggleable__content\"><pre>BinaryEncoder()</pre></div></div></div></div></div></div><div class=\"sk-parallel-item\"><div class=\"sk-item\"><div class=\"sk-label-container\"><div class=\"sk-label sk-toggleable\"><input class=\"sk-toggleable__control sk-hidden--visually\" id=\"sk-estimator-id-131\" type=\"checkbox\" ><label for=\"sk-estimator-id-131\" class=\"sk-toggleable__label sk-toggleable__label-arrow\">ordinal</label><div class=\"sk-toggleable__content\"><pre>[&#x27;month&#x27;]</pre></div></div></div><div class=\"sk-serial\"><div class=\"sk-item\"><div class=\"sk-estimator sk-toggleable\"><input class=\"sk-toggleable__control sk-hidden--visually\" id=\"sk-estimator-id-132\" type=\"checkbox\" ><label for=\"sk-estimator-id-132\" class=\"sk-toggleable__label sk-toggleable__label-arrow\">OrdinalEncoder</label><div class=\"sk-toggleable__content\"><pre>OrdinalEncoder(mapping=[{&#x27;col&#x27;: &#x27;month&#x27;, &#x27;data_type&#x27;: dtype(&#x27;O&#x27;),\n",
       "                         &#x27;mapping&#x27;: jan     1\n",
       "feb     2\n",
       "mar     3\n",
       "apr     4\n",
       "may     5\n",
       "jun     6\n",
       "jul     7\n",
       "aug     8\n",
       "sep     9\n",
       "oct    10\n",
       "nov    11\n",
       "dec    12\n",
       "dtype: int64}])</pre></div></div></div></div></div></div><div class=\"sk-parallel-item\"><div class=\"sk-item\"><div class=\"sk-label-container\"><div class=\"sk-label sk-toggleable\"><input class=\"sk-toggleable__control sk-hidden--visually\" id=\"sk-estimator-id-133\" type=\"checkbox\" ><label for=\"sk-estimator-id-133\" class=\"sk-toggleable__label sk-toggleable__label-arrow\">scaler</label><div class=\"sk-toggleable__content\"><pre>Index([&#x27;age&#x27;, &#x27;balance&#x27;, &#x27;campaign&#x27;, &#x27;pdays&#x27;], dtype=&#x27;object&#x27;)</pre></div></div></div><div class=\"sk-serial\"><div class=\"sk-item\"><div class=\"sk-estimator sk-toggleable\"><input class=\"sk-toggleable__control sk-hidden--visually\" id=\"sk-estimator-id-134\" type=\"checkbox\" ><label for=\"sk-estimator-id-134\" class=\"sk-toggleable__label sk-toggleable__label-arrow\">RobustScaler</label><div class=\"sk-toggleable__content\"><pre>RobustScaler()</pre></div></div></div></div></div></div><div class=\"sk-parallel-item\"><div class=\"sk-item\"><div class=\"sk-label-container\"><div class=\"sk-label sk-toggleable\"><input class=\"sk-toggleable__control sk-hidden--visually\" id=\"sk-estimator-id-135\" type=\"checkbox\" ><label for=\"sk-estimator-id-135\" class=\"sk-toggleable__label sk-toggleable__label-arrow\">remainder</label><div class=\"sk-toggleable__content\"><pre>[]</pre></div></div></div><div class=\"sk-serial\"><div class=\"sk-item\"><div class=\"sk-estimator sk-toggleable\"><input class=\"sk-toggleable__control sk-hidden--visually\" id=\"sk-estimator-id-136\" type=\"checkbox\" ><label for=\"sk-estimator-id-136\" class=\"sk-toggleable__label sk-toggleable__label-arrow\">passthrough</label><div class=\"sk-toggleable__content\"><pre>passthrough</pre></div></div></div></div></div></div></div></div><div class=\"sk-item sk-dashed-wrapped\"><div class=\"sk-label-container\"><div class=\"sk-label sk-toggleable\"><input class=\"sk-toggleable__control sk-hidden--visually\" id=\"sk-estimator-id-137\" type=\"checkbox\" ><label for=\"sk-estimator-id-137\" class=\"sk-toggleable__label sk-toggleable__label-arrow\">model: VotingClassifier</label><div class=\"sk-toggleable__content\"><pre>VotingClassifier(estimators=[(&#x27;lr&#x27;, LogisticRegression(max_iter=1000)),\n",
       "                             (&#x27;dt&#x27;, DecisionTreeClassifier(random_state=42)),\n",
       "                             (&#x27;knn&#x27;, KNeighborsClassifier())],\n",
       "                 voting=&#x27;soft&#x27;)</pre></div></div></div><div class=\"sk-parallel\"><div class=\"sk-parallel-item\"><div class=\"sk-item\"><div class=\"sk-label-container\"><div class=\"sk-label sk-toggleable\"><label>lr</label></div></div><div class=\"sk-serial\"><div class=\"sk-item\"><div class=\"sk-estimator sk-toggleable\"><input class=\"sk-toggleable__control sk-hidden--visually\" id=\"sk-estimator-id-138\" type=\"checkbox\" ><label for=\"sk-estimator-id-138\" class=\"sk-toggleable__label sk-toggleable__label-arrow\">LogisticRegression</label><div class=\"sk-toggleable__content\"><pre>LogisticRegression(max_iter=1000)</pre></div></div></div></div></div></div><div class=\"sk-parallel-item\"><div class=\"sk-item\"><div class=\"sk-label-container\"><div class=\"sk-label sk-toggleable\"><label>dt</label></div></div><div class=\"sk-serial\"><div class=\"sk-item\"><div class=\"sk-estimator sk-toggleable\"><input class=\"sk-toggleable__control sk-hidden--visually\" id=\"sk-estimator-id-139\" type=\"checkbox\" ><label for=\"sk-estimator-id-139\" class=\"sk-toggleable__label sk-toggleable__label-arrow\">DecisionTreeClassifier</label><div class=\"sk-toggleable__content\"><pre>DecisionTreeClassifier(random_state=42)</pre></div></div></div></div></div></div><div class=\"sk-parallel-item\"><div class=\"sk-item\"><div class=\"sk-label-container\"><div class=\"sk-label sk-toggleable\"><label>knn</label></div></div><div class=\"sk-serial\"><div class=\"sk-item\"><div class=\"sk-estimator sk-toggleable\"><input class=\"sk-toggleable__control sk-hidden--visually\" id=\"sk-estimator-id-140\" type=\"checkbox\" ><label for=\"sk-estimator-id-140\" class=\"sk-toggleable__label sk-toggleable__label-arrow\">KNeighborsClassifier</label><div class=\"sk-toggleable__content\"><pre>KNeighborsClassifier()</pre></div></div></div></div></div></div></div></div></div></div></div></div></div></div></div></div></div>"
      ],
      "text/plain": [
       "GridSearchCV(cv=5,\n",
       "             estimator=Pipeline(steps=[('transformer',\n",
       "                                        ColumnTransformer(remainder='passthrough',\n",
       "                                                          transformers=[('one '\n",
       "                                                                         'hot',\n",
       "                                                                         OneHotEncoder(drop='first'),\n",
       "                                                                         ['housing',\n",
       "                                                                          'loan',\n",
       "                                                                          'contact',\n",
       "                                                                          'poutcome']),\n",
       "                                                                        ('binary',\n",
       "                                                                         BinaryEncoder(),\n",
       "                                                                         ['job']),\n",
       "                                                                        ('ordinal',\n",
       "                                                                         OrdinalEncoder(mapping=[{'col': 'month',\n",
       "                                                                                                  'data_type': dtype('O'),\n",
       "                                                                                                  'mapping': jan     1\n",
       "feb     2\n",
       "mar     3\n",
       "apr     4\n",
       "may     5\n",
       "jun     6\n",
       "jul     7\n",
       "aug     8\n",
       "sep     9...\n",
       "                                                                         Index(['age', 'balance', 'campaign', 'pdays'], dtype='object'))])),\n",
       "                                       ('model',\n",
       "                                        VotingClassifier(estimators=[('lr',\n",
       "                                                                      LogisticRegression(max_iter=1000)),\n",
       "                                                                     ('dt',\n",
       "                                                                      DecisionTreeClassifier(random_state=42)),\n",
       "                                                                     ('knn',\n",
       "                                                                      KNeighborsClassifier())],\n",
       "                                                         voting='soft'))]),\n",
       "             param_grid={'model__dt__max_depth': [None, 10, 20],\n",
       "                         'model__knn__n_neighbors': [3, 5, 7],\n",
       "                         'model__lr__C': [0.1, 1.0, 10]},\n",
       "             scoring='f1')"
      ]
     },
     "execution_count": 172,
     "metadata": {},
     "output_type": "execute_result"
    }
   ],
   "source": [
    "# Lakukan Grid Search pada pipeline yang sudah dibuat\n",
    "grid_search = GridSearchCV(estimator=best_model, param_grid=param_grid, cv=5, scoring='f1')\n",
    "\n",
    "# Latih Grid Search dengan data training\n",
    "grid_search.fit(X_train, y_train)"
   ]
  },
  {
   "cell_type": "code",
   "execution_count": 173,
   "metadata": {},
   "outputs": [
    {
     "data": {
      "text/html": [
       "<div>\n",
       "<style scoped>\n",
       "    .dataframe tbody tr th:only-of-type {\n",
       "        vertical-align: middle;\n",
       "    }\n",
       "\n",
       "    .dataframe tbody tr th {\n",
       "        vertical-align: top;\n",
       "    }\n",
       "\n",
       "    .dataframe thead th {\n",
       "        text-align: right;\n",
       "    }\n",
       "</style>\n",
       "<table border=\"1\" class=\"dataframe\">\n",
       "  <thead>\n",
       "    <tr style=\"text-align: right;\">\n",
       "      <th></th>\n",
       "      <th>mean_fit_time</th>\n",
       "      <th>std_fit_time</th>\n",
       "      <th>mean_score_time</th>\n",
       "      <th>std_score_time</th>\n",
       "      <th>param_model__dt__max_depth</th>\n",
       "      <th>param_model__knn__n_neighbors</th>\n",
       "      <th>param_model__lr__C</th>\n",
       "      <th>params</th>\n",
       "      <th>split0_test_score</th>\n",
       "      <th>split1_test_score</th>\n",
       "      <th>split2_test_score</th>\n",
       "      <th>split3_test_score</th>\n",
       "      <th>split4_test_score</th>\n",
       "      <th>mean_test_score</th>\n",
       "      <th>std_test_score</th>\n",
       "      <th>rank_test_score</th>\n",
       "    </tr>\n",
       "  </thead>\n",
       "  <tbody>\n",
       "    <tr>\n",
       "      <th>13</th>\n",
       "      <td>0.125612</td>\n",
       "      <td>0.021361</td>\n",
       "      <td>0.059647</td>\n",
       "      <td>0.003552</td>\n",
       "      <td>10</td>\n",
       "      <td>5</td>\n",
       "      <td>1.0</td>\n",
       "      <td>{'model__dt__max_depth': 10, 'model__knn__n_ne...</td>\n",
       "      <td>0.645221</td>\n",
       "      <td>0.660413</td>\n",
       "      <td>0.614203</td>\n",
       "      <td>0.627341</td>\n",
       "      <td>0.629063</td>\n",
       "      <td>0.635248</td>\n",
       "      <td>0.015977</td>\n",
       "      <td>1</td>\n",
       "    </tr>\n",
       "    <tr>\n",
       "      <th>12</th>\n",
       "      <td>0.128795</td>\n",
       "      <td>0.014759</td>\n",
       "      <td>0.061639</td>\n",
       "      <td>0.006595</td>\n",
       "      <td>10</td>\n",
       "      <td>5</td>\n",
       "      <td>0.1</td>\n",
       "      <td>{'model__dt__max_depth': 10, 'model__knn__n_ne...</td>\n",
       "      <td>0.645221</td>\n",
       "      <td>0.661668</td>\n",
       "      <td>0.610526</td>\n",
       "      <td>0.627341</td>\n",
       "      <td>0.629063</td>\n",
       "      <td>0.634764</td>\n",
       "      <td>0.017368</td>\n",
       "      <td>2</td>\n",
       "    </tr>\n",
       "    <tr>\n",
       "      <th>14</th>\n",
       "      <td>0.121232</td>\n",
       "      <td>0.016664</td>\n",
       "      <td>0.058302</td>\n",
       "      <td>0.005346</td>\n",
       "      <td>10</td>\n",
       "      <td>5</td>\n",
       "      <td>10</td>\n",
       "      <td>{'model__dt__max_depth': 10, 'model__knn__n_ne...</td>\n",
       "      <td>0.643974</td>\n",
       "      <td>0.659155</td>\n",
       "      <td>0.614203</td>\n",
       "      <td>0.627341</td>\n",
       "      <td>0.629063</td>\n",
       "      <td>0.634747</td>\n",
       "      <td>0.015428</td>\n",
       "      <td>3</td>\n",
       "    </tr>\n",
       "    <tr>\n",
       "      <th>11</th>\n",
       "      <td>0.122336</td>\n",
       "      <td>0.022592</td>\n",
       "      <td>0.052515</td>\n",
       "      <td>0.002925</td>\n",
       "      <td>10</td>\n",
       "      <td>3</td>\n",
       "      <td>10</td>\n",
       "      <td>{'model__dt__max_depth': 10, 'model__knn__n_ne...</td>\n",
       "      <td>0.648501</td>\n",
       "      <td>0.646240</td>\n",
       "      <td>0.615962</td>\n",
       "      <td>0.615955</td>\n",
       "      <td>0.625235</td>\n",
       "      <td>0.630379</td>\n",
       "      <td>0.014299</td>\n",
       "      <td>4</td>\n",
       "    </tr>\n",
       "    <tr>\n",
       "      <th>10</th>\n",
       "      <td>0.122698</td>\n",
       "      <td>0.021330</td>\n",
       "      <td>0.051202</td>\n",
       "      <td>0.002404</td>\n",
       "      <td>10</td>\n",
       "      <td>3</td>\n",
       "      <td>1.0</td>\n",
       "      <td>{'model__dt__max_depth': 10, 'model__knn__n_ne...</td>\n",
       "      <td>0.648501</td>\n",
       "      <td>0.646240</td>\n",
       "      <td>0.615962</td>\n",
       "      <td>0.615955</td>\n",
       "      <td>0.624647</td>\n",
       "      <td>0.630261</td>\n",
       "      <td>0.014343</td>\n",
       "      <td>5</td>\n",
       "    </tr>\n",
       "  </tbody>\n",
       "</table>\n",
       "</div>"
      ],
      "text/plain": [
       "    mean_fit_time  std_fit_time  mean_score_time  std_score_time  \\\n",
       "13       0.125612      0.021361         0.059647        0.003552   \n",
       "12       0.128795      0.014759         0.061639        0.006595   \n",
       "14       0.121232      0.016664         0.058302        0.005346   \n",
       "11       0.122336      0.022592         0.052515        0.002925   \n",
       "10       0.122698      0.021330         0.051202        0.002404   \n",
       "\n",
       "   param_model__dt__max_depth param_model__knn__n_neighbors  \\\n",
       "13                         10                             5   \n",
       "12                         10                             5   \n",
       "14                         10                             5   \n",
       "11                         10                             3   \n",
       "10                         10                             3   \n",
       "\n",
       "   param_model__lr__C                                             params  \\\n",
       "13                1.0  {'model__dt__max_depth': 10, 'model__knn__n_ne...   \n",
       "12                0.1  {'model__dt__max_depth': 10, 'model__knn__n_ne...   \n",
       "14                 10  {'model__dt__max_depth': 10, 'model__knn__n_ne...   \n",
       "11                 10  {'model__dt__max_depth': 10, 'model__knn__n_ne...   \n",
       "10                1.0  {'model__dt__max_depth': 10, 'model__knn__n_ne...   \n",
       "\n",
       "    split0_test_score  split1_test_score  split2_test_score  \\\n",
       "13           0.645221           0.660413           0.614203   \n",
       "12           0.645221           0.661668           0.610526   \n",
       "14           0.643974           0.659155           0.614203   \n",
       "11           0.648501           0.646240           0.615962   \n",
       "10           0.648501           0.646240           0.615962   \n",
       "\n",
       "    split3_test_score  split4_test_score  mean_test_score  std_test_score  \\\n",
       "13           0.627341           0.629063         0.635248        0.015977   \n",
       "12           0.627341           0.629063         0.634764        0.017368   \n",
       "14           0.627341           0.629063         0.634747        0.015428   \n",
       "11           0.615955           0.625235         0.630379        0.014299   \n",
       "10           0.615955           0.624647         0.630261        0.014343   \n",
       "\n",
       "    rank_test_score  \n",
       "13                1  \n",
       "12                2  \n",
       "14                3  \n",
       "11                4  \n",
       "10                5  "
      ]
     },
     "execution_count": 173,
     "metadata": {},
     "output_type": "execute_result"
    }
   ],
   "source": [
    "pd.DataFrame(grid_search.cv_results_).sort_values(by = 'rank_test_score').head(5)"
   ]
  },
  {
   "cell_type": "code",
   "execution_count": 174,
   "metadata": {},
   "outputs": [
    {
     "name": "stdout",
     "output_type": "stream",
     "text": [
      "Best parameters: {'model__dt__max_depth': 10, 'model__knn__n_neighbors': 5, 'model__lr__C': 1.0}\n",
      "\n",
      "Best f1 score: 0.6352481445175678\n"
     ]
    }
   ],
   "source": [
    "# Output hasil terbaik\n",
    "print(f\"Best parameters: {grid_search.best_params_}\\n\")\n",
    "print(f\"Best f1 score: {grid_search.best_score_}\")"
   ]
  },
  {
   "cell_type": "code",
   "execution_count": 175,
   "metadata": {},
   "outputs": [
    {
     "name": "stdout",
     "output_type": "stream",
     "text": [
      "              precision    recall  f1-score   support\n",
      "\n",
      "           0       0.67      0.82      0.74       816\n",
      "           1       0.74      0.56      0.64       747\n",
      "\n",
      "    accuracy                           0.70      1563\n",
      "   macro avg       0.71      0.69      0.69      1563\n",
      "weighted avg       0.70      0.70      0.69      1563\n",
      "\n",
      "F1 Score: 0.6403641881638846\n"
     ]
    }
   ],
   "source": [
    "# Gunakan model terbaik yang ditemukan oleh Grid Search\n",
    "best_vc_soft_model = grid_search.best_estimator_\n",
    "\n",
    "# Evaluasi pada data test\n",
    "y_pred_best_tuning = best_vc_soft_model.predict(X_test)\n",
    "print(classification_report(y_test, y_pred_best_tuning))\n",
    "print(f'F1 Score: {f1_score(y_test, y_pred_best_tuning)}')"
   ]
  },
  {
   "cell_type": "code",
   "execution_count": 176,
   "metadata": {},
   "outputs": [
    {
     "data": {
      "text/html": [
       "<div>\n",
       "<style scoped>\n",
       "    .dataframe tbody tr th:only-of-type {\n",
       "        vertical-align: middle;\n",
       "    }\n",
       "\n",
       "    .dataframe tbody tr th {\n",
       "        vertical-align: top;\n",
       "    }\n",
       "\n",
       "    .dataframe thead th {\n",
       "        text-align: right;\n",
       "    }\n",
       "</style>\n",
       "<table border=\"1\" class=\"dataframe\">\n",
       "  <thead>\n",
       "    <tr style=\"text-align: right;\">\n",
       "      <th></th>\n",
       "      <th>Model</th>\n",
       "      <th>F1 Score</th>\n",
       "    </tr>\n",
       "  </thead>\n",
       "  <tbody>\n",
       "    <tr>\n",
       "      <th>0</th>\n",
       "      <td>Final Model Tanpa tuning</td>\n",
       "      <td>0.624746</td>\n",
       "    </tr>\n",
       "    <tr>\n",
       "      <th>1</th>\n",
       "      <td>Final Model Dengan tuning</td>\n",
       "      <td>0.640364</td>\n",
       "    </tr>\n",
       "  </tbody>\n",
       "</table>\n",
       "</div>"
      ],
      "text/plain": [
       "                       Model  F1 Score\n",
       "0   Final Model Tanpa tuning  0.624746\n",
       "1  Final Model Dengan tuning  0.640364"
      ]
     },
     "execution_count": 176,
     "metadata": {},
     "output_type": "execute_result"
    }
   ],
   "source": [
    "#Perbandingan recall final model dengan tuning dan tanpa tuning\n",
    "pd.DataFrame({\n",
    "    'Model': ['Final Model Tanpa tuning', 'Final Model Dengan tuning'],\n",
    "    'F1 Score': [f1_score(y_test, y_pred), f1_score(y_test, y_pred_best_tuning)]\n",
    "})"
   ]
  },
  {
   "cell_type": "markdown",
   "metadata": {},
   "source": [
    "Dapat disimpukan bahwa model yang dipilih yaitu dengan menggunkan hypertuning karena memiliki hasil lebih tinggi dibanding tanpa tunning."
   ]
  },
  {
   "cell_type": "markdown",
   "metadata": {},
   "source": [
    "# Final Model Interpretation"
   ]
  },
  {
   "cell_type": "markdown",
   "metadata": {},
   "source": [
    "## Feature Importances"
   ]
  },
  {
   "cell_type": "markdown",
   "metadata": {},
   "source": [
    "Karena VotingClassifier adalah gabungan dari beberapa model (ensemble) dan tidak secara langsung mendukung pengukuran feature importance maka perlu dilakukan loop untuk mendpatkan feature impotance dari model."
   ]
  },
  {
   "cell_type": "code",
   "execution_count": 182,
   "metadata": {},
   "outputs": [],
   "source": [
    "vc_model = best_model.named_steps['model']"
   ]
  },
  {
   "cell_type": "code",
   "execution_count": 183,
   "metadata": {},
   "outputs": [],
   "source": [
    "feature_importances_all = []"
   ]
  },
  {
   "cell_type": "code",
   "execution_count": 185,
   "metadata": {},
   "outputs": [],
   "source": [
    "# Loop untuk mendapatkan feature importance dari model-model yang mendukungnya\n",
    "for model in vc_model.estimators_:\n",
    "    # Cek apakah model memiliki feature_importances_ (seperti Random Forest, Decision Tree)\n",
    "    if hasattr(model, 'feature_importances_'):\n",
    "        feature_importances_all.append(model.feature_importances_)\n",
    "    # Jika model memiliki koefisien (seperti Logistic Regression)\n",
    "    elif hasattr(model, 'coef_'):\n",
    "        feature_importances_all.append(model.coef_[0])"
   ]
  },
  {
   "cell_type": "code",
   "execution_count": 186,
   "metadata": {},
   "outputs": [
    {
     "data": {
      "text/html": [
       "<div>\n",
       "<style scoped>\n",
       "    .dataframe tbody tr th:only-of-type {\n",
       "        vertical-align: middle;\n",
       "    }\n",
       "\n",
       "    .dataframe tbody tr th {\n",
       "        vertical-align: top;\n",
       "    }\n",
       "\n",
       "    .dataframe thead th {\n",
       "        text-align: right;\n",
       "    }\n",
       "</style>\n",
       "<table border=\"1\" class=\"dataframe\">\n",
       "  <thead>\n",
       "    <tr style=\"text-align: right;\">\n",
       "      <th></th>\n",
       "      <th>features</th>\n",
       "      <th>importance</th>\n",
       "    </tr>\n",
       "  </thead>\n",
       "  <tbody>\n",
       "    <tr>\n",
       "      <th>4</th>\n",
       "      <td>one hot__poutcome_success</td>\n",
       "      <td>1.091165</td>\n",
       "    </tr>\n",
       "    <tr>\n",
       "      <th>11</th>\n",
       "      <td>scaler__balance</td>\n",
       "      <td>0.191687</td>\n",
       "    </tr>\n",
       "    <tr>\n",
       "      <th>10</th>\n",
       "      <td>scaler__age</td>\n",
       "      <td>0.067719</td>\n",
       "    </tr>\n",
       "    <tr>\n",
       "      <th>13</th>\n",
       "      <td>scaler__pdays</td>\n",
       "      <td>0.062807</td>\n",
       "    </tr>\n",
       "    <tr>\n",
       "      <th>5</th>\n",
       "      <td>binary__job_0</td>\n",
       "      <td>0.058993</td>\n",
       "    </tr>\n",
       "    <tr>\n",
       "      <th>9</th>\n",
       "      <td>ordinal__month</td>\n",
       "      <td>0.042902</td>\n",
       "    </tr>\n",
       "    <tr>\n",
       "      <th>2</th>\n",
       "      <td>one hot__contact_telephone</td>\n",
       "      <td>-0.008518</td>\n",
       "    </tr>\n",
       "    <tr>\n",
       "      <th>7</th>\n",
       "      <td>binary__job_2</td>\n",
       "      <td>-0.014084</td>\n",
       "    </tr>\n",
       "    <tr>\n",
       "      <th>3</th>\n",
       "      <td>one hot__poutcome_other</td>\n",
       "      <td>-0.021060</td>\n",
       "    </tr>\n",
       "    <tr>\n",
       "      <th>6</th>\n",
       "      <td>binary__job_1</td>\n",
       "      <td>-0.024352</td>\n",
       "    </tr>\n",
       "    <tr>\n",
       "      <th>8</th>\n",
       "      <td>binary__job_3</td>\n",
       "      <td>-0.036447</td>\n",
       "    </tr>\n",
       "    <tr>\n",
       "      <th>12</th>\n",
       "      <td>scaler__campaign</td>\n",
       "      <td>-0.063213</td>\n",
       "    </tr>\n",
       "    <tr>\n",
       "      <th>1</th>\n",
       "      <td>one hot__loan_yes</td>\n",
       "      <td>-0.227883</td>\n",
       "    </tr>\n",
       "    <tr>\n",
       "      <th>0</th>\n",
       "      <td>one hot__housing_yes</td>\n",
       "      <td>-0.357347</td>\n",
       "    </tr>\n",
       "  </tbody>\n",
       "</table>\n",
       "</div>"
      ],
      "text/plain": [
       "                      features  importance\n",
       "4    one hot__poutcome_success    1.091165\n",
       "11             scaler__balance    0.191687\n",
       "10                 scaler__age    0.067719\n",
       "13               scaler__pdays    0.062807\n",
       "5                binary__job_0    0.058993\n",
       "9               ordinal__month    0.042902\n",
       "2   one hot__contact_telephone   -0.008518\n",
       "7                binary__job_2   -0.014084\n",
       "3      one hot__poutcome_other   -0.021060\n",
       "6                binary__job_1   -0.024352\n",
       "8                binary__job_3   -0.036447\n",
       "12            scaler__campaign   -0.063213\n",
       "1            one hot__loan_yes   -0.227883\n",
       "0         one hot__housing_yes   -0.357347"
      ]
     },
     "execution_count": 186,
     "metadata": {},
     "output_type": "execute_result"
    }
   ],
   "source": [
    "# Rata-rata atau agregasi feature importance dari setiap model\n",
    "feat_imp = np.mean(feature_importances_all, axis=0)\n",
    "\n",
    "# Mendapatkan nama-nama fitur setelah preprocessing\n",
    "features = best_model.named_steps['transformer'].get_feature_names_out()\n",
    "\n",
    "df_feat_imp = pd.DataFrame({\n",
    "    'features': features,\n",
    "    'importance': feat_imp\n",
    "}).sort_values(by='importance', ascending=False)\n",
    "\n",
    "df_feat_imp"
   ]
  },
  {
   "cell_type": "code",
   "execution_count": 187,
   "metadata": {},
   "outputs": [
    {
     "data": {
      "text/plain": [
       "<Axes: xlabel='importance', ylabel='features'>"
      ]
     },
     "execution_count": 187,
     "metadata": {},
     "output_type": "execute_result"
    },
    {
     "data": {
      "image/png": "[encoded data removed]",
      "text/plain": [
       "<Figure size 640x480 with 1 Axes>"
      ]
     },
     "metadata": {},
     "output_type": "display_data"
    }
   ],
   "source": [
    "sns.barplot(x = 'importance', y = 'features', data = df_feat_imp)"
   ]
  },
  {
   "cell_type": "markdown",
   "metadata": {},
   "source": [
    "Dari barplot diatas disimpulkan :\n",
    "\n",
    "**Fitur Positif**\n",
    "\n",
    "* Fitur one hot__poutcome_success memiliki nilai importance tertinggi (1.091165). Ini berarti, status outcome success pada campaign sebelumnya sangat mempengaruhi hasil prediksi model.\n",
    "* scaler__balance juga penting dengan nilai (0.191687), yang berarti saldo nasabah juga mempengaruhi keputusan prediksi model, meskipun pengaruhnya tidak sebesar poutcome_success.\n",
    "Nasabah dengan saldo lebih tinggi lebih cenderung untuk merespon positif.\n",
    "\n",
    "\n",
    "**Fitur Negatif**\n",
    "\n",
    "* Fitur one hot__housing_yes memiliki nilai importance negatif (-0.357374). Ini berarti, nasabah yang memiliki rumah (\"yes\") memberikan pengaruh negatif terhadap hasil prediksi, atau lebih cenderung tidak memenuhi target yang diharapkan.\n",
    "* one hot__loan_yes juga memiliki pengaruh negatif (-0.227883), menunjukkan bahwa nasabah yang memiliki pinjaman juga mengurangi peluang untuk memenuhi target prediksi.\n",
    "'Housing' dan ' loan' dan personal loan yang dimiliki nasabah cenderung mengurangi kemungkinan mereka merespon positif. Ini bisa mengindikasikan bahwa nasabah yang memiliki kewajiban finansial cenderung tidak merespon secara positif."
   ]
  },
  {
   "cell_type": "markdown",
   "metadata": {},
   "source": [
    "## Limitasi"
   ]
  },
  {
   "cell_type": "markdown",
   "metadata": {},
   "source": [
    "Berikut tabel limitasi untuk setiap fitur"
   ]
  },
  {
   "cell_type": "markdown",
   "metadata": {},
   "source": [
    "|Feature|Range|\n",
    "|-------|-----|\n",
    "|age |\t18 - 95 |\n",
    "|job |\t'admin.', 'housemaid', 'technician', 'management', 'student', 'services', 'blue-collar', 'entrepreneur', 'retired', 'unemployed', 'self-employed', 'other' |\n",
    "|balance |\t$0 - $66653|\n",
    "|housing |\tYes, No  |\n",
    "|loan |\tYes, No |\n",
    "|contact | telephone, cellular |\n",
    "|month | january - december |\n",
    "|campaign| 1 - 63 |\n",
    "|pdays| 0-854|\n",
    "|poutcome\t| Success, Failure, Other|\n",
    "|deposito| Yes, No|"
   ]
  },
  {
   "cell_type": "markdown",
   "metadata": {},
   "source": [
    "## Estimasi Keuntungan"
   ]
  },
  {
   "cell_type": "code",
   "execution_count": 188,
   "metadata": {},
   "outputs": [
    {
     "data": {
      "text/plain": [
       "<Axes: >"
      ]
     },
     "execution_count": 188,
     "metadata": {},
     "output_type": "execute_result"
    },
    {
     "data": {
      "image/png": "[encoded data removed]",
      "text/plain": [
       "<Figure size 640x480 with 2 Axes>"
      ]
     },
     "metadata": {},
     "output_type": "display_data"
    }
   ],
   "source": [
    "confusion_matrix(y_test,y_pred)\n",
    "\n",
    "sns.heatmap(confusion_matrix(y_test,y_pred), annot = True, fmt='d')"
   ]
  },
  {
   "cell_type": "code",
   "execution_count": 194,
   "metadata": {},
   "outputs": [
    {
     "name": "stdout",
     "output_type": "stream",
     "text": [
      "Confusion Matrix as DataFrame:\n",
      "           Predicted 0  Predicted 1\n",
      "Actual 0          546          270\n",
      "Actual 1          285          462\n"
     ]
    }
   ],
   "source": [
    "# Untuk mengetahui nilai sebagai dataframe karena tidak muncul semua\n",
    "from sklearn.metrics import confusion_matrix\n",
    "\n",
    "# Contoh confusion matrix\n",
    "cm = confusion_matrix(y_test, y_pred)\n",
    "\n",
    "# Ubah confusion matrix menjadi DataFrame\n",
    "cm_df = pd.DataFrame(cm, index=['Actual 0', 'Actual 1'], columns=['Predicted 0', 'Predicted 1'])\n",
    "\n",
    "# Tampilkan confusion matrix\n",
    "print(\"Confusion Matrix as DataFrame:\\n\", cm_df)\n",
    "\n"
   ]
  },
  {
   "cell_type": "markdown",
   "metadata": {},
   "source": [
    "- TN = 546\n",
    "- FP = 270\n",
    "\n",
    "- FN = 285\n",
    "- TP =462\n",
    "\n",
    "\n",
    "* True Positives (TP) = 462\n",
    "\n",
    "Dari model prediksi, 462 nasabah yang diprediksi akan mengikuti program deposito memang benar-benar melakukannya. Artinya, prediksi model untuk nasabah ini akurat.\n",
    " \n",
    "* True Negatives (TN) = 546\n",
    "\n",
    "Ada 546 nasabah yang diprediksi tidak akan mengikuti deposito, dan kenyataannya memang mereka tidak ikut. Prediksi ini juga akurat.\n",
    "\n",
    "* False Positives (FP) = 270\n",
    "\n",
    "Model memprediksi 270 nasabah akan mengikuti program deposito, namun kenyataannya mereka tidak ikut. Ini disebut juga Type I error, yaitu kesalahan di mana model memberikan prediksi positif palsu.\n",
    "\n",
    "* False Negatives (FN) = 285\n",
    "\n",
    "Sebanyak 285 nasabah diprediksi tidak akan mengikuti program deposito, tetapi kenyataannya mereka ikut. Ini disebut juga Type II error, yaitu kesalahan di mana model gagal mendeteksi nasabah yang sebenarnya ikut program.\n"
   ]
  },
  {
   "cell_type": "markdown",
   "metadata": {},
   "source": [
    "### Perhitungan"
   ]
  },
  {
   "cell_type": "markdown",
   "metadata": {},
   "source": [
    "**Keuntungan dari True Positives (TP):**\n",
    "\n",
    "- Nasabah yang tertarik (462 orang): Bank mendapatkan 462 nasabah yang benar-benar melakukan deposito. \n",
    "- Contoh perhitungan: Jika satu nasabah yang melakukan deposito rata-rata 300 dolar , maka dana yang terhimpun oleh bank adalah: `462×300=138.600 dolar`."
   ]
  },
  {
   "cell_type": "markdown",
   "metadata": {},
   "source": [
    "**Kerugian dari True Negatives (TN):**\n",
    "\n",
    "- Nasabah yang benar-benar tidak tertarik (546 orang): Bank bisa menghemat biaya pemasaran untuk 546 nasabah ini.\n",
    "- Contoh perhitungan: Jika biaya untuk menghubungi satu nasabah adalah 15 dolar, maka biaya yang dihemat dari True Negatives adalah:`546×15=8190 dolar.`"
   ]
  },
  {
   "cell_type": "markdown",
   "metadata": {},
   "source": [
    "**Kerugian dari False Positives (FP):**\n",
    "\n",
    "- Nasabah yang yang diprediksi tertarik (270 orang) tetapi nasabah tersebut tidak melakukannya, yang berarti bank mungkin telah mengeluarkan biaya pemasaran yang sia-sia.\n",
    "- Contoh perhitungan: Jika biaya untuk menghubungi satu nasabah adalah 15 dolar, maka kerugian adalah: `270×15=4050 dolar`\n",
    "- Ini adalah kerugian dari biaya pemasaran yang sia-sia."
   ]
  },
  {
   "cell_type": "markdown",
   "metadata": {},
   "source": [
    "**Kerugian dari False Negatives (FN):**\n",
    "\n",
    "- Nasabah yang terlewatkan (285 orang) dimana dimodel nasbah diprediksi tidak akan melakukan deposito, tetapi sebenarnya mereka bersedia. Bank kehilangan kesempatan untuk mendapatkan pendapatan dari nasabah-nasabah ini.\n",
    "- Contoh perhitungan: Jika satu nasabah yang melakukan deposito a 300 dolar , maka potensi dana nasabah yang dilewatkan adalah:`285×300=85,300 dolar.`\n",
    "- Ini adalah dana deposito yang hilang karena nasabah yang terlewatkan oleh model."
   ]
  },
  {
   "cell_type": "markdown",
   "metadata": {},
   "source": [
    "# KESIMPULAN"
   ]
  },
  {
   "cell_type": "markdown",
   "metadata": {},
   "source": [
    "## Rekomendasi untuk model\n",
    "\n",
    "Model terbaik yang digunakan yaitu VotingClassifier dengan dilakukan hypertunning mendapatkan hasil lebih tinggi. Dengan Hypermeter  f1 score yang memiliki akurasi 64%\n",
    "\n",
    "Kelemahan: \n",
    "\n",
    "*  Akurasi 64% menunjukkan bahwa model tidak cukup kuat dalam memprediksi nasabah yang akan mengikuti program deposito. Ada potensi kesalahan yang signifikan.Sehingga berpotensi terjadi kesalahan yang menyebabkan hilangnya nasabah potensial (false negatives) atau mengganggu nasabah dengan penawaran yang tidak sesuai (false positives).\n",
    "\n",
    "* Untuk Pengembangan model dengan model lebih canggih seperti XGBoost  yang sering lebih baik hasil prediksinya dan Peninjauan kembali fitur yang ada "
   ]
  },
  {
   "cell_type": "markdown",
   "metadata": {},
   "source": [
    "## Rekomendasi untuk Bisnis\n",
    "Bank dapat memanfaatkan fitur positif untuk menambah target dposito  \n",
    "\n",
    "1. fitur poutcome_success. Jika hasil campaign sebelumnya berhasil, nasabah ini cenderung lebih mungkin merespon positif pada campaign saat ini.\n",
    "2. Balance (saldo nasabah) juga signifikan. Nasabah dengan saldo lebih tinggi lebih cenderung untuk merespon positif.\n",
    "\n",
    "Selain itu Bank juga tidak perlu melakukan penawaran kepada nasabah jika pada fitur housing loan dan personal loan yang dimiliki nasabah cenderung mengurangi kemungkinan mereka merespon positif. Ini bisa mengindikasikan bahwa nasabah yang memiliki kewajiban finansial cenderung tidak merespon secara positif.\n"
   ]
  }
 ],
 "metadata": {
  "kernelspec": {
   "display_name": "base",
   "language": "python",
   "name": "python3"
  },
  "language_info": {
   "codemirror_mode": {
    "name": "ipython",
    "version": 3
   },
   "file_extension": ".py",
   "mimetype": "text/x-python",
   "name": "python",
   "nbconvert_exporter": "python",
   "pygments_lexer": "ipython3",
   "version": "3.11.7"
  }
 },
 "nbformat": 4,
 "nbformat_minor": 2
}
